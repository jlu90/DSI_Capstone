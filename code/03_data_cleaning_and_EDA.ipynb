{
 "cells": [
  {
   "cell_type": "markdown",
   "metadata": {},
   "source": [
    "# Data Cleaning"
   ]
  },
  {
   "cell_type": "markdown",
   "metadata": {},
   "source": [
    "## Imports"
   ]
  },
  {
   "cell_type": "code",
   "execution_count": 224,
   "metadata": {},
   "outputs": [],
   "source": [
    "import pandas as pd\n",
    "import numpy as np\n",
    "import matplotlib.pyplot as plt\n",
    "import seaborn as sns\n",
    "import re\n",
    "import spacy\n",
    "from sklearn.feature_extraction.text import CountVectorizer, TfidfVectorizer"
   ]
  },
  {
   "cell_type": "markdown",
   "metadata": {},
   "source": [
    "## Read-In Data"
   ]
  },
  {
   "cell_type": "code",
   "execution_count": 52,
   "metadata": {},
   "outputs": [],
   "source": [
    "health = pd.read_csv('../data/womens_health.csv', index_col = 'Unnamed: 0')\n",
    "obsgyn = pd.read_csv('../data/fertility_and_pregnancy.csv', index_col = 'Unnamed: 0')\n",
    "pospar = pd.read_csv('../data/postpartum.csv', index_col = 'Unnamed: 0')"
   ]
  },
  {
   "cell_type": "markdown",
   "metadata": {},
   "source": [
    "## Check Head and Shape of Data"
   ]
  },
  {
   "cell_type": "markdown",
   "metadata": {},
   "source": [
    "### General Women's Health Data"
   ]
  },
  {
   "cell_type": "code",
   "execution_count": 53,
   "metadata": {},
   "outputs": [
    {
     "data": {
      "text/html": [
       "<div>\n",
       "<style scoped>\n",
       "    .dataframe tbody tr th:only-of-type {\n",
       "        vertical-align: middle;\n",
       "    }\n",
       "\n",
       "    .dataframe tbody tr th {\n",
       "        vertical-align: top;\n",
       "    }\n",
       "\n",
       "    .dataframe thead th {\n",
       "        text-align: right;\n",
       "    }\n",
       "</style>\n",
       "<table border=\"1\" class=\"dataframe\">\n",
       "  <thead>\n",
       "    <tr style=\"text-align: right;\">\n",
       "      <th></th>\n",
       "      <th>title</th>\n",
       "      <th>selftext</th>\n",
       "      <th>subreddit</th>\n",
       "      <th>created_utc</th>\n",
       "      <th>author</th>\n",
       "      <th>num_comments</th>\n",
       "      <th>score</th>\n",
       "      <th>is_self</th>\n",
       "      <th>timestamp</th>\n",
       "    </tr>\n",
       "  </thead>\n",
       "  <tbody>\n",
       "    <tr>\n",
       "      <th>0</th>\n",
       "      <td>Been to the clinic twice and they don’t know w...</td>\n",
       "      <td>So I’ve been having problems with discharge an...</td>\n",
       "      <td>WomensHealth</td>\n",
       "      <td>1596818251</td>\n",
       "      <td>thecrazedbunny</td>\n",
       "      <td>0</td>\n",
       "      <td>1</td>\n",
       "      <td>True</td>\n",
       "      <td>2020-08-07</td>\n",
       "    </tr>\n",
       "    <tr>\n",
       "      <th>1</th>\n",
       "      <td>Period going on for 14 days today. Help!!</td>\n",
       "      <td>Hi guys. I'm getting a bit worried about my pe...</td>\n",
       "      <td>WomensHealth</td>\n",
       "      <td>1596822599</td>\n",
       "      <td>Help-Me-Already</td>\n",
       "      <td>4</td>\n",
       "      <td>1</td>\n",
       "      <td>True</td>\n",
       "      <td>2020-08-07</td>\n",
       "    </tr>\n",
       "  </tbody>\n",
       "</table>\n",
       "</div>"
      ],
      "text/plain": [
       "                                               title  \\\n",
       "0  Been to the clinic twice and they don’t know w...   \n",
       "1          Period going on for 14 days today. Help!!   \n",
       "\n",
       "                                            selftext     subreddit  \\\n",
       "0  So I’ve been having problems with discharge an...  WomensHealth   \n",
       "1  Hi guys. I'm getting a bit worried about my pe...  WomensHealth   \n",
       "\n",
       "   created_utc           author  num_comments  score  is_self   timestamp  \n",
       "0   1596818251   thecrazedbunny             0      1     True  2020-08-07  \n",
       "1   1596822599  Help-Me-Already             4      1     True  2020-08-07  "
      ]
     },
     "execution_count": 53,
     "metadata": {},
     "output_type": "execute_result"
    }
   ],
   "source": [
    "health.head(2)"
   ]
  },
  {
   "cell_type": "code",
   "execution_count": 54,
   "metadata": {},
   "outputs": [
    {
     "data": {
      "text/plain": [
       "(31385, 9)"
      ]
     },
     "execution_count": 54,
     "metadata": {},
     "output_type": "execute_result"
    }
   ],
   "source": [
    "health.shape"
   ]
  },
  {
   "cell_type": "markdown",
   "metadata": {},
   "source": [
    "### Fertility and Pregnancy Data"
   ]
  },
  {
   "cell_type": "code",
   "execution_count": 55,
   "metadata": {},
   "outputs": [
    {
     "data": {
      "text/html": [
       "<div>\n",
       "<style scoped>\n",
       "    .dataframe tbody tr th:only-of-type {\n",
       "        vertical-align: middle;\n",
       "    }\n",
       "\n",
       "    .dataframe tbody tr th {\n",
       "        vertical-align: top;\n",
       "    }\n",
       "\n",
       "    .dataframe thead th {\n",
       "        text-align: right;\n",
       "    }\n",
       "</style>\n",
       "<table border=\"1\" class=\"dataframe\">\n",
       "  <thead>\n",
       "    <tr style=\"text-align: right;\">\n",
       "      <th></th>\n",
       "      <th>title</th>\n",
       "      <th>selftext</th>\n",
       "      <th>subreddit</th>\n",
       "      <th>created_utc</th>\n",
       "      <th>author</th>\n",
       "      <th>num_comments</th>\n",
       "      <th>score</th>\n",
       "      <th>is_self</th>\n",
       "      <th>timestamp</th>\n",
       "    </tr>\n",
       "  </thead>\n",
       "  <tbody>\n",
       "    <tr>\n",
       "      <th>0</th>\n",
       "      <td>Adding to the kitchen sink approach: I just bo...</td>\n",
       "      <td>This time I’m going to be using a menstrual cu...</td>\n",
       "      <td>TryingForABaby</td>\n",
       "      <td>1596839749</td>\n",
       "      <td>lastput1</td>\n",
       "      <td>7</td>\n",
       "      <td>1</td>\n",
       "      <td>True</td>\n",
       "      <td>2020-08-07</td>\n",
       "    </tr>\n",
       "    <tr>\n",
       "      <th>1</th>\n",
       "      <td>Has anyone used/or currently an app to track t...</td>\n",
       "      <td>\\nMy husband and I are new to TTC.\\n\\nWe have ...</td>\n",
       "      <td>TryingForABaby</td>\n",
       "      <td>1596841178</td>\n",
       "      <td>ParkingFrosting4</td>\n",
       "      <td>8</td>\n",
       "      <td>1</td>\n",
       "      <td>True</td>\n",
       "      <td>2020-08-07</td>\n",
       "    </tr>\n",
       "  </tbody>\n",
       "</table>\n",
       "</div>"
      ],
      "text/plain": [
       "                                               title  \\\n",
       "0  Adding to the kitchen sink approach: I just bo...   \n",
       "1  Has anyone used/or currently an app to track t...   \n",
       "\n",
       "                                            selftext       subreddit  \\\n",
       "0  This time I’m going to be using a menstrual cu...  TryingForABaby   \n",
       "1  \\nMy husband and I are new to TTC.\\n\\nWe have ...  TryingForABaby   \n",
       "\n",
       "   created_utc            author  num_comments  score  is_self   timestamp  \n",
       "0   1596839749          lastput1             7      1     True  2020-08-07  \n",
       "1   1596841178  ParkingFrosting4             8      1     True  2020-08-07  "
      ]
     },
     "execution_count": 55,
     "metadata": {},
     "output_type": "execute_result"
    }
   ],
   "source": [
    "obsgyn.head(2)"
   ]
  },
  {
   "cell_type": "code",
   "execution_count": 56,
   "metadata": {},
   "outputs": [
    {
     "data": {
      "text/plain": [
       "(98138, 9)"
      ]
     },
     "execution_count": 56,
     "metadata": {},
     "output_type": "execute_result"
    }
   ],
   "source": [
    "obsgyn.shape"
   ]
  },
  {
   "cell_type": "markdown",
   "metadata": {},
   "source": [
    "### Postpartum Data"
   ]
  },
  {
   "cell_type": "code",
   "execution_count": 57,
   "metadata": {},
   "outputs": [
    {
     "data": {
      "text/html": [
       "<div>\n",
       "<style scoped>\n",
       "    .dataframe tbody tr th:only-of-type {\n",
       "        vertical-align: middle;\n",
       "    }\n",
       "\n",
       "    .dataframe tbody tr th {\n",
       "        vertical-align: top;\n",
       "    }\n",
       "\n",
       "    .dataframe thead th {\n",
       "        text-align: right;\n",
       "    }\n",
       "</style>\n",
       "<table border=\"1\" class=\"dataframe\">\n",
       "  <thead>\n",
       "    <tr style=\"text-align: right;\">\n",
       "      <th></th>\n",
       "      <th>title</th>\n",
       "      <th>selftext</th>\n",
       "      <th>subreddit</th>\n",
       "      <th>created_utc</th>\n",
       "      <th>author</th>\n",
       "      <th>num_comments</th>\n",
       "      <th>score</th>\n",
       "      <th>is_self</th>\n",
       "      <th>timestamp</th>\n",
       "    </tr>\n",
       "  </thead>\n",
       "  <tbody>\n",
       "    <tr>\n",
       "      <th>0</th>\n",
       "      <td>Question about bottles</td>\n",
       "      <td>I'm researching baby bottles and am trying to ...</td>\n",
       "      <td>BabyBumps</td>\n",
       "      <td>1596850138</td>\n",
       "      <td>All_Hail_CC</td>\n",
       "      <td>4</td>\n",
       "      <td>1</td>\n",
       "      <td>True</td>\n",
       "      <td>2020-08-07</td>\n",
       "    </tr>\n",
       "    <tr>\n",
       "      <th>1</th>\n",
       "      <td>Anyone else getting that generation gap judgem...</td>\n",
       "      <td>Aunt- I don’t eat much meat, but when I was pr...</td>\n",
       "      <td>BabyBumps</td>\n",
       "      <td>1596850152</td>\n",
       "      <td>waterfallsummer</td>\n",
       "      <td>86</td>\n",
       "      <td>1</td>\n",
       "      <td>True</td>\n",
       "      <td>2020-08-07</td>\n",
       "    </tr>\n",
       "  </tbody>\n",
       "</table>\n",
       "</div>"
      ],
      "text/plain": [
       "                                               title  \\\n",
       "0                             Question about bottles   \n",
       "1  Anyone else getting that generation gap judgem...   \n",
       "\n",
       "                                            selftext  subreddit  created_utc  \\\n",
       "0  I'm researching baby bottles and am trying to ...  BabyBumps   1596850138   \n",
       "1  Aunt- I don’t eat much meat, but when I was pr...  BabyBumps   1596850152   \n",
       "\n",
       "            author  num_comments  score  is_self   timestamp  \n",
       "0      All_Hail_CC             4      1     True  2020-08-07  \n",
       "1  waterfallsummer            86      1     True  2020-08-07  "
      ]
     },
     "execution_count": 57,
     "metadata": {},
     "output_type": "execute_result"
    }
   ],
   "source": [
    "pospar.head(2)"
   ]
  },
  {
   "cell_type": "code",
   "execution_count": 58,
   "metadata": {},
   "outputs": [
    {
     "data": {
      "text/plain": [
       "(51674, 9)"
      ]
     },
     "execution_count": 58,
     "metadata": {},
     "output_type": "execute_result"
    }
   ],
   "source": [
    "pospar.shape"
   ]
  },
  {
   "cell_type": "markdown",
   "metadata": {},
   "source": [
    "## Clean Columns\n",
    "\n",
    "### Combine `title` and `selftext` columns into a `total_text` column\n",
    "\n",
    "The format of a Reddit post consists of a post title (`title`), and there is also an opportunity to write a body of text (`selftext`). For this project, I will be interested in analyzing all text in a post, so I will combine all of the text into a `total_text` column."
   ]
  },
  {
   "cell_type": "code",
   "execution_count": 59,
   "metadata": {},
   "outputs": [],
   "source": [
    "def create_total_text(df):\n",
    "    df['total_text'] = df['title'] + ' ' + df['selftext']\n",
    "    df.drop(columns = ['title', 'selftext'], inplace = True)\n",
    "    return df.head(1)"
   ]
  },
  {
   "cell_type": "code",
   "execution_count": 60,
   "metadata": {},
   "outputs": [
    {
     "data": {
      "text/html": [
       "<div>\n",
       "<style scoped>\n",
       "    .dataframe tbody tr th:only-of-type {\n",
       "        vertical-align: middle;\n",
       "    }\n",
       "\n",
       "    .dataframe tbody tr th {\n",
       "        vertical-align: top;\n",
       "    }\n",
       "\n",
       "    .dataframe thead th {\n",
       "        text-align: right;\n",
       "    }\n",
       "</style>\n",
       "<table border=\"1\" class=\"dataframe\">\n",
       "  <thead>\n",
       "    <tr style=\"text-align: right;\">\n",
       "      <th></th>\n",
       "      <th>subreddit</th>\n",
       "      <th>created_utc</th>\n",
       "      <th>author</th>\n",
       "      <th>num_comments</th>\n",
       "      <th>score</th>\n",
       "      <th>is_self</th>\n",
       "      <th>timestamp</th>\n",
       "      <th>total_text</th>\n",
       "    </tr>\n",
       "  </thead>\n",
       "  <tbody>\n",
       "    <tr>\n",
       "      <th>0</th>\n",
       "      <td>BabyBumps</td>\n",
       "      <td>1596850138</td>\n",
       "      <td>All_Hail_CC</td>\n",
       "      <td>4</td>\n",
       "      <td>1</td>\n",
       "      <td>True</td>\n",
       "      <td>2020-08-07</td>\n",
       "      <td>Question about bottles I'm researching baby bo...</td>\n",
       "    </tr>\n",
       "  </tbody>\n",
       "</table>\n",
       "</div>"
      ],
      "text/plain": [
       "   subreddit  created_utc       author  num_comments  score  is_self  \\\n",
       "0  BabyBumps   1596850138  All_Hail_CC             4      1     True   \n",
       "\n",
       "    timestamp                                         total_text  \n",
       "0  2020-08-07  Question about bottles I'm researching baby bo...  "
      ]
     },
     "execution_count": 60,
     "metadata": {},
     "output_type": "execute_result"
    }
   ],
   "source": [
    "create_total_text(health)\n",
    "create_total_text(obsgyn)\n",
    "create_total_text(pospar)"
   ]
  },
  {
   "cell_type": "markdown",
   "metadata": {},
   "source": [
    "### Drop Unnecessary Columns\n",
    "\n",
    "For this project, I am interested in using topic modeling to identify areas of concern for each domain of women's health. Therefore, the number of comments and score of each post will not be relevant and will be removed. Because the date is included under `timestamp`, the `created_utc` column will also be removed. The `is_self` column is also not needed and will be removed."
   ]
  },
  {
   "cell_type": "code",
   "execution_count": 61,
   "metadata": {},
   "outputs": [],
   "source": [
    "def clean_columns(df):\n",
    "    df.drop(columns = ['created_utc', 'num_comments', 'score', 'is_self'], inplace = True)\n",
    "    return df.head(1)"
   ]
  },
  {
   "cell_type": "code",
   "execution_count": 62,
   "metadata": {},
   "outputs": [
    {
     "data": {
      "text/html": [
       "<div>\n",
       "<style scoped>\n",
       "    .dataframe tbody tr th:only-of-type {\n",
       "        vertical-align: middle;\n",
       "    }\n",
       "\n",
       "    .dataframe tbody tr th {\n",
       "        vertical-align: top;\n",
       "    }\n",
       "\n",
       "    .dataframe thead th {\n",
       "        text-align: right;\n",
       "    }\n",
       "</style>\n",
       "<table border=\"1\" class=\"dataframe\">\n",
       "  <thead>\n",
       "    <tr style=\"text-align: right;\">\n",
       "      <th></th>\n",
       "      <th>subreddit</th>\n",
       "      <th>author</th>\n",
       "      <th>timestamp</th>\n",
       "      <th>total_text</th>\n",
       "    </tr>\n",
       "  </thead>\n",
       "  <tbody>\n",
       "    <tr>\n",
       "      <th>0</th>\n",
       "      <td>BabyBumps</td>\n",
       "      <td>All_Hail_CC</td>\n",
       "      <td>2020-08-07</td>\n",
       "      <td>Question about bottles I'm researching baby bo...</td>\n",
       "    </tr>\n",
       "  </tbody>\n",
       "</table>\n",
       "</div>"
      ],
      "text/plain": [
       "   subreddit       author   timestamp  \\\n",
       "0  BabyBumps  All_Hail_CC  2020-08-07   \n",
       "\n",
       "                                          total_text  \n",
       "0  Question about bottles I'm researching baby bo...  "
      ]
     },
     "execution_count": 62,
     "metadata": {},
     "output_type": "execute_result"
    }
   ],
   "source": [
    "clean_columns(health)\n",
    "clean_columns(obsgyn)\n",
    "clean_columns(pospar)"
   ]
  },
  {
   "cell_type": "markdown",
   "metadata": {},
   "source": [
    "## Check for Null/Missing Values"
   ]
  },
  {
   "cell_type": "code",
   "execution_count": 63,
   "metadata": {},
   "outputs": [],
   "source": [
    "def display_percent_null(df):\n",
    "    '''Returns the percent of values in each column that are null or missing'''\n",
    "    return (df.isna().sum()/len(df)) * 100"
   ]
  },
  {
   "cell_type": "markdown",
   "metadata": {},
   "source": [
    "### Women's Health Data"
   ]
  },
  {
   "cell_type": "code",
   "execution_count": 64,
   "metadata": {},
   "outputs": [
    {
     "data": {
      "text/plain": [
       "subreddit     0.000000\n",
       "author        0.000000\n",
       "timestamp     0.000000\n",
       "total_text    2.450215\n",
       "dtype: float64"
      ]
     },
     "execution_count": 64,
     "metadata": {},
     "output_type": "execute_result"
    }
   ],
   "source": [
    "display_percent_null(health)"
   ]
  },
  {
   "cell_type": "markdown",
   "metadata": {},
   "source": [
    "Approximately 2.5% of the posts do not have text in the body of the post. However, because these posts have titles, this will be okay."
   ]
  },
  {
   "cell_type": "markdown",
   "metadata": {},
   "source": [
    "### Pregnancy and Fertility Data"
   ]
  },
  {
   "cell_type": "code",
   "execution_count": 65,
   "metadata": {},
   "outputs": [
    {
     "data": {
      "text/plain": [
       "subreddit     0.000000\n",
       "author        0.000000\n",
       "timestamp     0.000000\n",
       "total_text    1.566162\n",
       "dtype: float64"
      ]
     },
     "execution_count": 65,
     "metadata": {},
     "output_type": "execute_result"
    }
   ],
   "source": [
    "display_percent_null(obsgyn)"
   ]
  },
  {
   "cell_type": "markdown",
   "metadata": {},
   "source": [
    "Approximately 1.5% of posts in the pregnancy and fertility data frame are null or missing. Again, because all of these posts have text in the title, this will be okay."
   ]
  },
  {
   "cell_type": "markdown",
   "metadata": {},
   "source": [
    "### Postpartum Data"
   ]
  },
  {
   "cell_type": "code",
   "execution_count": 66,
   "metadata": {},
   "outputs": [
    {
     "data": {
      "text/plain": [
       "subreddit     0.000000\n",
       "author        0.000000\n",
       "timestamp     0.000000\n",
       "total_text    1.563649\n",
       "dtype: float64"
      ]
     },
     "execution_count": 66,
     "metadata": {},
     "output_type": "execute_result"
    }
   ],
   "source": [
    "display_percent_null(pospar)"
   ]
  },
  {
   "cell_type": "markdown",
   "metadata": {},
   "source": [
    "Approximately 1.6% of posts in the postpartum data frame are null or missing. Again, because all of these posts have text in the title, this will be okay."
   ]
  },
  {
   "cell_type": "markdown",
   "metadata": {},
   "source": [
    "### Drop Missing Data"
   ]
  },
  {
   "cell_type": "code",
   "execution_count": 67,
   "metadata": {},
   "outputs": [],
   "source": [
    "health.dropna(inplace = True)\n",
    "obsgyn.dropna(inplace = True)\n",
    "pospar.dropna(inplace = True)"
   ]
  },
  {
   "cell_type": "markdown",
   "metadata": {},
   "source": [
    "## Check Data Typse"
   ]
  },
  {
   "cell_type": "code",
   "execution_count": 68,
   "metadata": {},
   "outputs": [],
   "source": [
    "def convert_to_datetime(df, column):\n",
    "    df[column] = pd.to_datetime(df[column])\n",
    "    return df.dtypes"
   ]
  },
  {
   "cell_type": "markdown",
   "metadata": {},
   "source": [
    "### Women's Health Data"
   ]
  },
  {
   "cell_type": "code",
   "execution_count": 69,
   "metadata": {},
   "outputs": [
    {
     "data": {
      "text/plain": [
       "subreddit     object\n",
       "author        object\n",
       "timestamp     object\n",
       "total_text    object\n",
       "dtype: object"
      ]
     },
     "execution_count": 69,
     "metadata": {},
     "output_type": "execute_result"
    }
   ],
   "source": [
    "health.dtypes"
   ]
  },
  {
   "cell_type": "markdown",
   "metadata": {},
   "source": [
    "The `subreddit`, `author`, and `total_text` columns are the appropriate data type (strings), but the `timestamp` column should be converted to a datetime object."
   ]
  },
  {
   "cell_type": "code",
   "execution_count": 70,
   "metadata": {},
   "outputs": [
    {
     "data": {
      "text/plain": [
       "subreddit             object\n",
       "author                object\n",
       "timestamp     datetime64[ns]\n",
       "total_text            object\n",
       "dtype: object"
      ]
     },
     "execution_count": 70,
     "metadata": {},
     "output_type": "execute_result"
    }
   ],
   "source": [
    "convert_to_datetime(health, 'timestamp')"
   ]
  },
  {
   "cell_type": "markdown",
   "metadata": {},
   "source": [
    "### Fertility and Pregnancy Data"
   ]
  },
  {
   "cell_type": "code",
   "execution_count": 71,
   "metadata": {},
   "outputs": [
    {
     "data": {
      "text/plain": [
       "subreddit     object\n",
       "author        object\n",
       "timestamp     object\n",
       "total_text    object\n",
       "dtype: object"
      ]
     },
     "execution_count": 71,
     "metadata": {},
     "output_type": "execute_result"
    }
   ],
   "source": [
    "obsgyn.dtypes"
   ]
  },
  {
   "cell_type": "markdown",
   "metadata": {},
   "source": [
    "Similar to the Women's Health Data, the `timestamp` column should be converted to a datetime object."
   ]
  },
  {
   "cell_type": "code",
   "execution_count": 72,
   "metadata": {},
   "outputs": [
    {
     "data": {
      "text/plain": [
       "subreddit             object\n",
       "author                object\n",
       "timestamp     datetime64[ns]\n",
       "total_text            object\n",
       "dtype: object"
      ]
     },
     "execution_count": 72,
     "metadata": {},
     "output_type": "execute_result"
    }
   ],
   "source": [
    "convert_to_datetime(obsgyn, 'timestamp')"
   ]
  },
  {
   "cell_type": "markdown",
   "metadata": {},
   "source": [
    "### Postpartum Data"
   ]
  },
  {
   "cell_type": "code",
   "execution_count": 73,
   "metadata": {},
   "outputs": [
    {
     "data": {
      "text/plain": [
       "subreddit     object\n",
       "author        object\n",
       "timestamp     object\n",
       "total_text    object\n",
       "dtype: object"
      ]
     },
     "execution_count": 73,
     "metadata": {},
     "output_type": "execute_result"
    }
   ],
   "source": [
    "pospar.dtypes"
   ]
  },
  {
   "cell_type": "markdown",
   "metadata": {},
   "source": [
    "Similar to the Women's Health and Fertility and Pregnancy Data, the `timestamp` column should be converted to a datetime object."
   ]
  },
  {
   "cell_type": "code",
   "execution_count": 74,
   "metadata": {},
   "outputs": [
    {
     "data": {
      "text/plain": [
       "subreddit             object\n",
       "author                object\n",
       "timestamp     datetime64[ns]\n",
       "total_text            object\n",
       "dtype: object"
      ]
     },
     "execution_count": 74,
     "metadata": {},
     "output_type": "execute_result"
    }
   ],
   "source": [
    "convert_to_datetime(pospar, 'timestamp')"
   ]
  },
  {
   "cell_type": "markdown",
   "metadata": {},
   "source": [
    "## Remove Reddit-Specific and HTML Tags"
   ]
  },
  {
   "cell_type": "code",
   "execution_count": 75,
   "metadata": {},
   "outputs": [],
   "source": [
    "def remove_string(df, column, string):\n",
    "    df[column] = df[column].str.replace(string, '')\n",
    "    return df.head(1)"
   ]
  },
  {
   "cell_type": "markdown",
   "metadata": {},
   "source": [
    "#### [removed]\n",
    "If moderators of the subreddit feel that the post violates one or more of the subreddit's rules, they will remove content of the post and replace it with a \"[removed]\" tag. Because the [removed] tags will not add any valuable information to the post, these will be removed from posts."
   ]
  },
  {
   "cell_type": "code",
   "execution_count": 76,
   "metadata": {},
   "outputs": [
    {
     "data": {
      "text/html": [
       "<div>\n",
       "<style scoped>\n",
       "    .dataframe tbody tr th:only-of-type {\n",
       "        vertical-align: middle;\n",
       "    }\n",
       "\n",
       "    .dataframe tbody tr th {\n",
       "        vertical-align: top;\n",
       "    }\n",
       "\n",
       "    .dataframe thead th {\n",
       "        text-align: right;\n",
       "    }\n",
       "</style>\n",
       "<table border=\"1\" class=\"dataframe\">\n",
       "  <thead>\n",
       "    <tr style=\"text-align: right;\">\n",
       "      <th></th>\n",
       "      <th>subreddit</th>\n",
       "      <th>author</th>\n",
       "      <th>timestamp</th>\n",
       "      <th>total_text</th>\n",
       "    </tr>\n",
       "  </thead>\n",
       "  <tbody>\n",
       "    <tr>\n",
       "      <th>0</th>\n",
       "      <td>BabyBumps</td>\n",
       "      <td>All_Hail_CC</td>\n",
       "      <td>2020-08-07</td>\n",
       "      <td>Question about bottles I'm researching baby bo...</td>\n",
       "    </tr>\n",
       "  </tbody>\n",
       "</table>\n",
       "</div>"
      ],
      "text/plain": [
       "   subreddit       author  timestamp  \\\n",
       "0  BabyBumps  All_Hail_CC 2020-08-07   \n",
       "\n",
       "                                          total_text  \n",
       "0  Question about bottles I'm researching baby bo...  "
      ]
     },
     "execution_count": 76,
     "metadata": {},
     "output_type": "execute_result"
    }
   ],
   "source": [
    "remove_string(health, 'total_text', '\\[removed\\]')\n",
    "remove_string(obsgyn, 'total_text', '\\[removed\\]')\n",
    "remove_string(pospar, 'total_text', '\\[removed\\]')"
   ]
  },
  {
   "cell_type": "markdown",
   "metadata": {},
   "source": [
    "#### \\n\n",
    "This is a symbol that indicates a new line. Because we are only interested in the text itself, this tag will be removed."
   ]
  },
  {
   "cell_type": "code",
   "execution_count": 77,
   "metadata": {},
   "outputs": [
    {
     "data": {
      "text/html": [
       "<div>\n",
       "<style scoped>\n",
       "    .dataframe tbody tr th:only-of-type {\n",
       "        vertical-align: middle;\n",
       "    }\n",
       "\n",
       "    .dataframe tbody tr th {\n",
       "        vertical-align: top;\n",
       "    }\n",
       "\n",
       "    .dataframe thead th {\n",
       "        text-align: right;\n",
       "    }\n",
       "</style>\n",
       "<table border=\"1\" class=\"dataframe\">\n",
       "  <thead>\n",
       "    <tr style=\"text-align: right;\">\n",
       "      <th></th>\n",
       "      <th>subreddit</th>\n",
       "      <th>author</th>\n",
       "      <th>timestamp</th>\n",
       "      <th>total_text</th>\n",
       "    </tr>\n",
       "  </thead>\n",
       "  <tbody>\n",
       "    <tr>\n",
       "      <th>0</th>\n",
       "      <td>BabyBumps</td>\n",
       "      <td>All_Hail_CC</td>\n",
       "      <td>2020-08-07</td>\n",
       "      <td>Question about bottles I'm researching baby bo...</td>\n",
       "    </tr>\n",
       "  </tbody>\n",
       "</table>\n",
       "</div>"
      ],
      "text/plain": [
       "   subreddit       author  timestamp  \\\n",
       "0  BabyBumps  All_Hail_CC 2020-08-07   \n",
       "\n",
       "                                          total_text  \n",
       "0  Question about bottles I'm researching baby bo...  "
      ]
     },
     "execution_count": 77,
     "metadata": {},
     "output_type": "execute_result"
    }
   ],
   "source": [
    "remove_string(health, 'total_text', '\\n')\n",
    "remove_string(obsgyn, 'total_text', '\\n')\n",
    "remove_string(pospar, 'total_text', '\\n')"
   ]
  },
  {
   "cell_type": "markdown",
   "metadata": {},
   "source": [
    "#### &amp ;\n",
    "\n",
    "Sometimes, the '&' symbol is not displayed, and the HTML reference `&amp;` shows up instead. This text will be removed."
   ]
  },
  {
   "cell_type": "code",
   "execution_count": 78,
   "metadata": {},
   "outputs": [
    {
     "data": {
      "text/html": [
       "<div>\n",
       "<style scoped>\n",
       "    .dataframe tbody tr th:only-of-type {\n",
       "        vertical-align: middle;\n",
       "    }\n",
       "\n",
       "    .dataframe tbody tr th {\n",
       "        vertical-align: top;\n",
       "    }\n",
       "\n",
       "    .dataframe thead th {\n",
       "        text-align: right;\n",
       "    }\n",
       "</style>\n",
       "<table border=\"1\" class=\"dataframe\">\n",
       "  <thead>\n",
       "    <tr style=\"text-align: right;\">\n",
       "      <th></th>\n",
       "      <th>subreddit</th>\n",
       "      <th>author</th>\n",
       "      <th>timestamp</th>\n",
       "      <th>total_text</th>\n",
       "    </tr>\n",
       "  </thead>\n",
       "  <tbody>\n",
       "    <tr>\n",
       "      <th>0</th>\n",
       "      <td>BabyBumps</td>\n",
       "      <td>All_Hail_CC</td>\n",
       "      <td>2020-08-07</td>\n",
       "      <td>Question about bottles I'm researching baby bo...</td>\n",
       "    </tr>\n",
       "  </tbody>\n",
       "</table>\n",
       "</div>"
      ],
      "text/plain": [
       "   subreddit       author  timestamp  \\\n",
       "0  BabyBumps  All_Hail_CC 2020-08-07   \n",
       "\n",
       "                                          total_text  \n",
       "0  Question about bottles I'm researching baby bo...  "
      ]
     },
     "execution_count": 78,
     "metadata": {},
     "output_type": "execute_result"
    }
   ],
   "source": [
    "remove_string(health, 'total_text', '&amp;')\n",
    "remove_string(obsgyn, 'total_text', '&amp;')\n",
    "remove_string(pospar, 'total_text', '&amp;')"
   ]
  },
  {
   "cell_type": "markdown",
   "metadata": {},
   "source": [
    "#### &gt ;\n",
    "\n",
    "Some times, the greater than symbol (>) is not properly displayed, and the HTML reference `&gt;` shows up in its place. I will remove this HTML reference."
   ]
  },
  {
   "cell_type": "code",
   "execution_count": 79,
   "metadata": {},
   "outputs": [
    {
     "data": {
      "text/html": [
       "<div>\n",
       "<style scoped>\n",
       "    .dataframe tbody tr th:only-of-type {\n",
       "        vertical-align: middle;\n",
       "    }\n",
       "\n",
       "    .dataframe tbody tr th {\n",
       "        vertical-align: top;\n",
       "    }\n",
       "\n",
       "    .dataframe thead th {\n",
       "        text-align: right;\n",
       "    }\n",
       "</style>\n",
       "<table border=\"1\" class=\"dataframe\">\n",
       "  <thead>\n",
       "    <tr style=\"text-align: right;\">\n",
       "      <th></th>\n",
       "      <th>subreddit</th>\n",
       "      <th>author</th>\n",
       "      <th>timestamp</th>\n",
       "      <th>total_text</th>\n",
       "    </tr>\n",
       "  </thead>\n",
       "  <tbody>\n",
       "    <tr>\n",
       "      <th>0</th>\n",
       "      <td>BabyBumps</td>\n",
       "      <td>All_Hail_CC</td>\n",
       "      <td>2020-08-07</td>\n",
       "      <td>Question about bottles I'm researching baby bo...</td>\n",
       "    </tr>\n",
       "  </tbody>\n",
       "</table>\n",
       "</div>"
      ],
      "text/plain": [
       "   subreddit       author  timestamp  \\\n",
       "0  BabyBumps  All_Hail_CC 2020-08-07   \n",
       "\n",
       "                                          total_text  \n",
       "0  Question about bottles I'm researching baby bo...  "
      ]
     },
     "execution_count": 79,
     "metadata": {},
     "output_type": "execute_result"
    }
   ],
   "source": [
    "remove_string(health, 'total_text', '&gt;')\n",
    "remove_string(obsgyn, 'total_text', '&gt;')\n",
    "remove_string(pospar, 'total_text', '&gt;')"
   ]
  },
  {
   "cell_type": "markdown",
   "metadata": {},
   "source": [
    "#### &lt ;\n",
    "\n",
    "Some times, the less than symbol (<) is not properly displayed, and the HTML reference `&lt;` shows up in its place. I will remove this HTML reference."
   ]
  },
  {
   "cell_type": "code",
   "execution_count": 80,
   "metadata": {},
   "outputs": [
    {
     "data": {
      "text/html": [
       "<div>\n",
       "<style scoped>\n",
       "    .dataframe tbody tr th:only-of-type {\n",
       "        vertical-align: middle;\n",
       "    }\n",
       "\n",
       "    .dataframe tbody tr th {\n",
       "        vertical-align: top;\n",
       "    }\n",
       "\n",
       "    .dataframe thead th {\n",
       "        text-align: right;\n",
       "    }\n",
       "</style>\n",
       "<table border=\"1\" class=\"dataframe\">\n",
       "  <thead>\n",
       "    <tr style=\"text-align: right;\">\n",
       "      <th></th>\n",
       "      <th>subreddit</th>\n",
       "      <th>author</th>\n",
       "      <th>timestamp</th>\n",
       "      <th>total_text</th>\n",
       "    </tr>\n",
       "  </thead>\n",
       "  <tbody>\n",
       "    <tr>\n",
       "      <th>0</th>\n",
       "      <td>BabyBumps</td>\n",
       "      <td>All_Hail_CC</td>\n",
       "      <td>2020-08-07</td>\n",
       "      <td>Question about bottles I'm researching baby bo...</td>\n",
       "    </tr>\n",
       "  </tbody>\n",
       "</table>\n",
       "</div>"
      ],
      "text/plain": [
       "   subreddit       author  timestamp  \\\n",
       "0  BabyBumps  All_Hail_CC 2020-08-07   \n",
       "\n",
       "                                          total_text  \n",
       "0  Question about bottles I'm researching baby bo...  "
      ]
     },
     "execution_count": 80,
     "metadata": {},
     "output_type": "execute_result"
    }
   ],
   "source": [
    "remove_string(health, 'total_text', '&lt;')\n",
    "remove_string(obsgyn, 'total_text', '&lt;')\n",
    "remove_string(pospar, 'total_text', '&lt;')"
   ]
  },
  {
   "cell_type": "markdown",
   "metadata": {},
   "source": [
    "### Remove Websites"
   ]
  },
  {
   "cell_type": "code",
   "execution_count": 225,
   "metadata": {},
   "outputs": [],
   "source": [
    "for i in range(0, len(pospar)):\n",
    "    pospar.loc[i, 'total_text'] = re.sub(r'^https?:\\/\\/.*[\\r\\n]*', '', pospar.loc[i, 'total_text'], flags=re.MULTILINE)"
   ]
  },
  {
   "cell_type": "markdown",
   "metadata": {},
   "source": [
    "### Export Clean Data to CSV"
   ]
  },
  {
   "cell_type": "code",
   "execution_count": 81,
   "metadata": {},
   "outputs": [],
   "source": [
    "health.to_csv('../data/womens_health_clean.csv', index = False)\n",
    "obsgyn.to_csv('../data/fertility_and_pregnancy_clean.csv', index = False)\n",
    "pospar.to_csv('../data/postpartum_clean.csv', index = False)"
   ]
  },
  {
   "cell_type": "markdown",
   "metadata": {},
   "source": [
    "## Exploratory Data Analysis"
   ]
  },
  {
   "cell_type": "markdown",
   "metadata": {},
   "source": [
    "#### Define Color Palette"
   ]
  },
  {
   "cell_type": "code",
   "execution_count": 215,
   "metadata": {},
   "outputs": [],
   "source": [
    "blush = '#F7D1CD'\n",
    "pink = '#E8C2CA'\n",
    "light_purple = '#D1B3C4'\n",
    "medium_purple = '#B392AC'\n",
    "dark_purple = '#B392AC'\n",
    "warm_grey = '#8E9AAF'"
   ]
  },
  {
   "cell_type": "markdown",
   "metadata": {},
   "source": [
    "### How many unique authors are there per subject matter?\n",
    "\n",
    "One of the reasons why we believe that using an online health forum to identify women's health concerns could be better than a focus group or targeted is because of the scope of people that we will be able to reach. Here, we will explore how many women voiced their concerns for each of the topics of interest.\n",
    "\n",
    "If it appears that several users have authored multiple posts, I will also examine these posts to eliminate the chances of including advertisements or spam in my analyses."
   ]
  },
  {
   "cell_type": "code",
   "execution_count": 82,
   "metadata": {},
   "outputs": [],
   "source": [
    "def unique_authors(df, column, title):\n",
    "    return f'{title} has {df[column].nunique()} unique authors.'"
   ]
  },
  {
   "cell_type": "markdown",
   "metadata": {},
   "source": [
    "#### Women's Health"
   ]
  },
  {
   "cell_type": "code",
   "execution_count": 83,
   "metadata": {},
   "outputs": [
    {
     "data": {
      "text/plain": [
       "\"Women's Health has 19753 unique authors.\""
      ]
     },
     "execution_count": 83,
     "metadata": {},
     "output_type": "execute_result"
    }
   ],
   "source": [
    "unique_authors(health, 'author', 'Women\\'s Health')"
   ]
  },
  {
   "cell_type": "markdown",
   "metadata": {},
   "source": [
    "In terms of general women's health concerns, we have posts from 19,753 unique users. Because there are 31,385 total posts, this means that 11,361 posts were contributed by a duplicate user."
   ]
  },
  {
   "cell_type": "markdown",
   "metadata": {},
   "source": [
    "#### Fertility and Pregnancy"
   ]
  },
  {
   "cell_type": "code",
   "execution_count": 84,
   "metadata": {},
   "outputs": [
    {
     "data": {
      "text/plain": [
       "'Fertility and Pregnancy has 35128 unique authors.'"
      ]
     },
     "execution_count": 84,
     "metadata": {},
     "output_type": "execute_result"
    }
   ],
   "source": [
    "unique_authors(obsgyn, 'author', 'Fertility and Pregnancy')"
   ]
  },
  {
   "cell_type": "markdown",
   "metadata": {},
   "source": [
    "The Fertility and Pregnancy data (`obsgyn`) has 98,138 total posts, but only 35,517 are unique. This means that 62,621 posts are by duplicate authors. "
   ]
  },
  {
   "cell_type": "markdown",
   "metadata": {},
   "source": [
    "#### Postpartum"
   ]
  },
  {
   "cell_type": "code",
   "execution_count": 85,
   "metadata": {},
   "outputs": [
    {
     "data": {
      "text/plain": [
       "'Postpartum has 21586 unique authors.'"
      ]
     },
     "execution_count": 85,
     "metadata": {},
     "output_type": "execute_result"
    }
   ],
   "source": [
    "unique_authors(pospar, 'author', 'Postpartum')"
   ]
  },
  {
   "cell_type": "markdown",
   "metadata": {},
   "source": [
    "The postpartum data has posts that were authored by 21,821 unique users. Because there are 51,674 total posts in the data frame, this means that 29,853 posts are by duplicate authors. "
   ]
  },
  {
   "cell_type": "markdown",
   "metadata": {},
   "source": [
    "### Are there any duplicated posts?\n",
    "\n",
    "Because the number of posts is larger than the number of authors, we can deduce that some users have posted on these subreddits more than one time. To eliminate counting the same post more than one time, I will check for duplicate posts and remove them from the data."
   ]
  },
  {
   "cell_type": "code",
   "execution_count": 86,
   "metadata": {},
   "outputs": [],
   "source": [
    "def check_for_duplicates(df, column):\n",
    "    duplicates = df[df[column].duplicated() == True].copy()\n",
    "    return duplicates.shape[0]"
   ]
  },
  {
   "cell_type": "markdown",
   "metadata": {},
   "source": [
    "#### Women's Health Data"
   ]
  },
  {
   "cell_type": "code",
   "execution_count": 87,
   "metadata": {},
   "outputs": [
    {
     "data": {
      "text/plain": [
       "131"
      ]
     },
     "execution_count": 87,
     "metadata": {},
     "output_type": "execute_result"
    }
   ],
   "source": [
    "check_for_duplicates(health, 'total_text')"
   ]
  },
  {
   "cell_type": "code",
   "execution_count": 88,
   "metadata": {},
   "outputs": [],
   "source": [
    "health['total_text'].drop_duplicates(inplace = True)"
   ]
  },
  {
   "cell_type": "markdown",
   "metadata": {},
   "source": [
    "There were 131 duplicate posts in the women's health data that have been removed."
   ]
  },
  {
   "cell_type": "markdown",
   "metadata": {},
   "source": [
    "#### Fertility and Pregnancy Data"
   ]
  },
  {
   "cell_type": "code",
   "execution_count": 89,
   "metadata": {},
   "outputs": [
    {
     "data": {
      "text/plain": [
       "2190"
      ]
     },
     "execution_count": 89,
     "metadata": {},
     "output_type": "execute_result"
    }
   ],
   "source": [
    "check_for_duplicates(obsgyn, 'total_text')"
   ]
  },
  {
   "cell_type": "code",
   "execution_count": 90,
   "metadata": {},
   "outputs": [],
   "source": [
    "obsgyn['total_text'].drop_duplicates(inplace = True)"
   ]
  },
  {
   "cell_type": "markdown",
   "metadata": {},
   "source": [
    "There were 2190 duplicate posts in the fertility and pregnancy data that have been removed."
   ]
  },
  {
   "cell_type": "markdown",
   "metadata": {},
   "source": [
    "#### Postpartum Data"
   ]
  },
  {
   "cell_type": "code",
   "execution_count": 91,
   "metadata": {},
   "outputs": [
    {
     "data": {
      "text/plain": [
       "959"
      ]
     },
     "execution_count": 91,
     "metadata": {},
     "output_type": "execute_result"
    }
   ],
   "source": [
    "check_for_duplicates(pospar, 'total_text')"
   ]
  },
  {
   "cell_type": "code",
   "execution_count": 42,
   "metadata": {},
   "outputs": [],
   "source": [
    "pospar['total_text'].drop_duplicates(inplace = True)"
   ]
  },
  {
   "cell_type": "markdown",
   "metadata": {},
   "source": [
    "There were 959 duplicate posts in the pospartum data that have been removed."
   ]
  },
  {
   "cell_type": "markdown",
   "metadata": {},
   "source": [
    "### Reset Indices"
   ]
  },
  {
   "cell_type": "code",
   "execution_count": 92,
   "metadata": {},
   "outputs": [],
   "source": [
    "health = health.reset_index(drop = True)\n",
    "obsgyn = obsgyn.reset_index(drop = True)\n",
    "pospar = pospar.reset_index(drop = True)"
   ]
  },
  {
   "cell_type": "markdown",
   "metadata": {},
   "source": [
    "### Word Count Distributions"
   ]
  },
  {
   "cell_type": "markdown",
   "metadata": {},
   "source": [
    "#### Get Word Counts for Posts in Each Data Set"
   ]
  },
  {
   "cell_type": "code",
   "execution_count": 103,
   "metadata": {},
   "outputs": [],
   "source": [
    "def get_word_count(df, column, new_column = 'word_count'):\n",
    "    df[new_column] = df[column].apply(lambda x: len(x.split()))\n",
    "    return df.head(1)"
   ]
  },
  {
   "cell_type": "code",
   "execution_count": 104,
   "metadata": {},
   "outputs": [
    {
     "data": {
      "text/html": [
       "<div>\n",
       "<style scoped>\n",
       "    .dataframe tbody tr th:only-of-type {\n",
       "        vertical-align: middle;\n",
       "    }\n",
       "\n",
       "    .dataframe tbody tr th {\n",
       "        vertical-align: top;\n",
       "    }\n",
       "\n",
       "    .dataframe thead th {\n",
       "        text-align: right;\n",
       "    }\n",
       "</style>\n",
       "<table border=\"1\" class=\"dataframe\">\n",
       "  <thead>\n",
       "    <tr style=\"text-align: right;\">\n",
       "      <th></th>\n",
       "      <th>subreddit</th>\n",
       "      <th>author</th>\n",
       "      <th>timestamp</th>\n",
       "      <th>total_text</th>\n",
       "      <th>word_count</th>\n",
       "    </tr>\n",
       "  </thead>\n",
       "  <tbody>\n",
       "    <tr>\n",
       "      <th>0</th>\n",
       "      <td>WomensHealth</td>\n",
       "      <td>thecrazedbunny</td>\n",
       "      <td>2020-08-07</td>\n",
       "      <td>Been to the clinic twice and they don’t know w...</td>\n",
       "      <td>382</td>\n",
       "    </tr>\n",
       "  </tbody>\n",
       "</table>\n",
       "</div>"
      ],
      "text/plain": [
       "      subreddit          author  timestamp  \\\n",
       "0  WomensHealth  thecrazedbunny 2020-08-07   \n",
       "\n",
       "                                          total_text  word_count  \n",
       "0  Been to the clinic twice and they don’t know w...         382  "
      ]
     },
     "execution_count": 104,
     "metadata": {},
     "output_type": "execute_result"
    }
   ],
   "source": [
    "get_word_count(health, 'total_text')"
   ]
  },
  {
   "cell_type": "code",
   "execution_count": 105,
   "metadata": {},
   "outputs": [
    {
     "data": {
      "text/html": [
       "<div>\n",
       "<style scoped>\n",
       "    .dataframe tbody tr th:only-of-type {\n",
       "        vertical-align: middle;\n",
       "    }\n",
       "\n",
       "    .dataframe tbody tr th {\n",
       "        vertical-align: top;\n",
       "    }\n",
       "\n",
       "    .dataframe thead th {\n",
       "        text-align: right;\n",
       "    }\n",
       "</style>\n",
       "<table border=\"1\" class=\"dataframe\">\n",
       "  <thead>\n",
       "    <tr style=\"text-align: right;\">\n",
       "      <th></th>\n",
       "      <th>subreddit</th>\n",
       "      <th>author</th>\n",
       "      <th>timestamp</th>\n",
       "      <th>total_text</th>\n",
       "      <th>word_count</th>\n",
       "    </tr>\n",
       "  </thead>\n",
       "  <tbody>\n",
       "    <tr>\n",
       "      <th>0</th>\n",
       "      <td>TryingForABaby</td>\n",
       "      <td>lastput1</td>\n",
       "      <td>2020-08-07</td>\n",
       "      <td>Adding to the kitchen sink approach: I just bo...</td>\n",
       "      <td>81</td>\n",
       "    </tr>\n",
       "  </tbody>\n",
       "</table>\n",
       "</div>"
      ],
      "text/plain": [
       "        subreddit    author  timestamp  \\\n",
       "0  TryingForABaby  lastput1 2020-08-07   \n",
       "\n",
       "                                          total_text  word_count  \n",
       "0  Adding to the kitchen sink approach: I just bo...          81  "
      ]
     },
     "execution_count": 105,
     "metadata": {},
     "output_type": "execute_result"
    }
   ],
   "source": [
    "get_word_count(obsgyn, 'total_text')"
   ]
  },
  {
   "cell_type": "code",
   "execution_count": 106,
   "metadata": {},
   "outputs": [
    {
     "data": {
      "text/html": [
       "<div>\n",
       "<style scoped>\n",
       "    .dataframe tbody tr th:only-of-type {\n",
       "        vertical-align: middle;\n",
       "    }\n",
       "\n",
       "    .dataframe tbody tr th {\n",
       "        vertical-align: top;\n",
       "    }\n",
       "\n",
       "    .dataframe thead th {\n",
       "        text-align: right;\n",
       "    }\n",
       "</style>\n",
       "<table border=\"1\" class=\"dataframe\">\n",
       "  <thead>\n",
       "    <tr style=\"text-align: right;\">\n",
       "      <th></th>\n",
       "      <th>subreddit</th>\n",
       "      <th>author</th>\n",
       "      <th>timestamp</th>\n",
       "      <th>total_text</th>\n",
       "      <th>word_count</th>\n",
       "    </tr>\n",
       "  </thead>\n",
       "  <tbody>\n",
       "    <tr>\n",
       "      <th>0</th>\n",
       "      <td>BabyBumps</td>\n",
       "      <td>All_Hail_CC</td>\n",
       "      <td>2020-08-07</td>\n",
       "      <td>Question about bottles I'm researching baby bo...</td>\n",
       "      <td>43</td>\n",
       "    </tr>\n",
       "  </tbody>\n",
       "</table>\n",
       "</div>"
      ],
      "text/plain": [
       "   subreddit       author  timestamp  \\\n",
       "0  BabyBumps  All_Hail_CC 2020-08-07   \n",
       "\n",
       "                                          total_text  word_count  \n",
       "0  Question about bottles I'm researching baby bo...          43  "
      ]
     },
     "execution_count": 106,
     "metadata": {},
     "output_type": "execute_result"
    }
   ],
   "source": [
    "get_word_count(pospar, 'total_text')"
   ]
  },
  {
   "cell_type": "markdown",
   "metadata": {},
   "source": [
    "#### Visualize Word Count Distributions"
   ]
  },
  {
   "cell_type": "code",
   "execution_count": 217,
   "metadata": {},
   "outputs": [],
   "source": [
    "def subplot_histogram(data, axis, title = None, x_label = None, y_label = None, color = None):\n",
    "    sns.distplot(data, ax = axis, kde = False, hist_kws=dict(edgecolor=\"k\", linewidth=.9, alpha = 0.9), color = color)\n",
    "    axis.set_title(title, pad = 8, fontdict = {'fontsize':14})\n",
    "    axis.set_xlabel(x_label, labelpad = 6, fontdict = {'fontsize':13})\n",
    "    axis.set_ylabel(y_label, labelpad = 6, fontdict = {'fontsize':13})\n",
    "    axis.tick_params(axis = 'both', labelsize = 11)\n",
    "    plt.tight_layout();"
   ]
  },
  {
   "cell_type": "code",
   "execution_count": 218,
   "metadata": {},
   "outputs": [
    {
     "data": {
      "image/png": "[encoded data removed]",
      "text/plain": [
       "<Figure size 1080x288 with 3 Axes>"
      ]
     },
     "metadata": {
      "needs_background": "light"
     },
     "output_type": "display_data"
    }
   ],
   "source": [
    "fig, axes = plt.subplots(1, 3, figsize = (15, 4))\n",
    "\n",
    "ax1 = axes[0]\n",
    "ax2 = axes[1]\n",
    "ax3 = axes[2]\n",
    "\n",
    "subplot_histogram(health['word_count'], \n",
    "                  axis = ax1,\n",
    "                  title = 'General Women\\'s Health Data',\n",
    "                  x_label = 'Word Count',\n",
    "                  y_label = 'Frequency',\n",
    "                  color = blush )\n",
    "\n",
    "\n",
    "subplot_histogram(obsgyn['word_count'], \n",
    "                  axis = ax2,\n",
    "                  title = 'Fertility and Pregnancy Data',\n",
    "                  x_label = 'Word Count',\n",
    "                  y_label = 'Frequency',\n",
    "                  color = dark_purple)\n",
    "\n",
    "subplot_histogram(pospar['word_count'],\n",
    "                  axis = ax3,\n",
    "                  title = 'Postpartum Data',\n",
    "                  x_label = 'Word Count',\n",
    "                  y_label = 'Frequency',\n",
    "                  color = warm_grey)\n",
    "\n",
    "plt.suptitle('Word Count Distributions by Health Domain', y = 1.12, size = 18);"
   ]
  },
  {
   "cell_type": "markdown",
   "metadata": {},
   "source": [
    "As shown in the histograms above, the majority of posts for all three health domains are less than 1000 words in length.\n",
    "\n",
    "**General Women's Health Domain**: The average word count for the Women's Health domain was 154.5, but word counts ranged from 1 to 2453 words. Almost 75% of posts had word counts of 193 words or less. \n",
    "\n",
    "**Fertility and Pregnancy Domain**: The average word count for the Fertility and Pregnancy domain was 154.2 words, but word counts varied from 1 to 5238 words. Almost 75% of posts had word counts of 182 words or less.\n",
    "\n",
    "**Postpartum Domain**: The average word count for the Postpartum domain is 169.8 words, but word counts range from 1 to 5238. Almost 75% of posts have word counts of 195 words or less."
   ]
  },
  {
   "cell_type": "code",
   "execution_count": 227,
   "metadata": {},
   "outputs": [
    {
     "data": {
      "text/html": [
       "<div>\n",
       "<style scoped>\n",
       "    .dataframe tbody tr th:only-of-type {\n",
       "        vertical-align: middle;\n",
       "    }\n",
       "\n",
       "    .dataframe tbody tr th {\n",
       "        vertical-align: top;\n",
       "    }\n",
       "\n",
       "    .dataframe thead th {\n",
       "        text-align: right;\n",
       "    }\n",
       "</style>\n",
       "<table border=\"1\" class=\"dataframe\">\n",
       "  <thead>\n",
       "    <tr style=\"text-align: right;\">\n",
       "      <th></th>\n",
       "      <th>subreddit</th>\n",
       "      <th>author</th>\n",
       "      <th>timestamp</th>\n",
       "      <th>total_text</th>\n",
       "      <th>word_count</th>\n",
       "    </tr>\n",
       "  </thead>\n",
       "  <tbody>\n",
       "    <tr>\n",
       "      <th>2652</th>\n",
       "      <td>BabyBumps</td>\n",
       "      <td>StarOne786</td>\n",
       "      <td>2020-06-30</td>\n",
       "      <td>Circumcision?</td>\n",
       "      <td>1</td>\n",
       "    </tr>\n",
       "    <tr>\n",
       "      <th>2710</th>\n",
       "      <td>BabyBumps</td>\n",
       "      <td>goodnitemare</td>\n",
       "      <td>2020-07-01</td>\n",
       "      <td>Heh</td>\n",
       "      <td>1</td>\n",
       "    </tr>\n",
       "    <tr>\n",
       "      <th>8415</th>\n",
       "      <td>BabyBumps</td>\n",
       "      <td>KindlyDiscussion1</td>\n",
       "      <td>2020-04-05</td>\n",
       "      <td>Confused!</td>\n",
       "      <td>1</td>\n",
       "    </tr>\n",
       "    <tr>\n",
       "      <th>8621</th>\n",
       "      <td>BabyBumps</td>\n",
       "      <td>yourbyyou</td>\n",
       "      <td>2020-04-03</td>\n",
       "      <td>coronavirus</td>\n",
       "      <td>1</td>\n",
       "    </tr>\n",
       "    <tr>\n",
       "      <th>13003</th>\n",
       "      <td>BabyBumps</td>\n",
       "      <td>Joycetonny</td>\n",
       "      <td>2020-01-23</td>\n",
       "      <td>Revitol</td>\n",
       "      <td>1</td>\n",
       "    </tr>\n",
       "    <tr>\n",
       "      <th>13004</th>\n",
       "      <td>BabyBumps</td>\n",
       "      <td>Joycetonny</td>\n",
       "      <td>2020-01-24</td>\n",
       "      <td>Revitol</td>\n",
       "      <td>1</td>\n",
       "    </tr>\n",
       "    <tr>\n",
       "      <th>15656</th>\n",
       "      <td>BabyBumps</td>\n",
       "      <td>phrresehelp</td>\n",
       "      <td>2019-12-15</td>\n",
       "      <td>Aww</td>\n",
       "      <td>1</td>\n",
       "    </tr>\n",
       "    <tr>\n",
       "      <th>17479</th>\n",
       "      <td>BabyBumps</td>\n",
       "      <td>marymorgan330</td>\n",
       "      <td>2019-11-15</td>\n",
       "      <td></td>\n",
       "      <td>1</td>\n",
       "    </tr>\n",
       "    <tr>\n",
       "      <th>17481</th>\n",
       "      <td>BabyBumps</td>\n",
       "      <td>marymorgan330</td>\n",
       "      <td>2019-11-15</td>\n",
       "      <td></td>\n",
       "      <td>1</td>\n",
       "    </tr>\n",
       "    <tr>\n",
       "      <th>35457</th>\n",
       "      <td>breastfeeding</td>\n",
       "      <td>SnooChocolates7176</td>\n",
       "      <td>2020-07-30</td>\n",
       "      <td>Domperidone</td>\n",
       "      <td>1</td>\n",
       "    </tr>\n",
       "    <tr>\n",
       "      <th>37655</th>\n",
       "      <td>breastfeeding</td>\n",
       "      <td>pmh-</td>\n",
       "      <td>2020-05-22</td>\n",
       "      <td>Domperidone</td>\n",
       "      <td>1</td>\n",
       "    </tr>\n",
       "    <tr>\n",
       "      <th>38822</th>\n",
       "      <td>breastfeeding</td>\n",
       "      <td>OnlyThickAss</td>\n",
       "      <td>2020-04-15</td>\n",
       "      <td>[Buying]</td>\n",
       "      <td>1</td>\n",
       "    </tr>\n",
       "    <tr>\n",
       "      <th>39428</th>\n",
       "      <td>breastfeeding</td>\n",
       "      <td>internetburnett</td>\n",
       "      <td>2020-03-25</td>\n",
       "      <td>Domperidone</td>\n",
       "      <td>1</td>\n",
       "    </tr>\n",
       "    <tr>\n",
       "      <th>39463</th>\n",
       "      <td>breastfeeding</td>\n",
       "      <td>figuring-it_out2019</td>\n",
       "      <td>2020-03-24</td>\n",
       "      <td>Relactating</td>\n",
       "      <td>1</td>\n",
       "    </tr>\n",
       "    <tr>\n",
       "      <th>41202</th>\n",
       "      <td>breastfeeding</td>\n",
       "      <td>letsbehonest9</td>\n",
       "      <td>2020-01-25</td>\n",
       "      <td>Journey</td>\n",
       "      <td>1</td>\n",
       "    </tr>\n",
       "    <tr>\n",
       "      <th>41327</th>\n",
       "      <td>breastfeeding</td>\n",
       "      <td>slaying_coochy</td>\n",
       "      <td>2020-01-20</td>\n",
       "      <td>Ummmm</td>\n",
       "      <td>1</td>\n",
       "    </tr>\n",
       "    <tr>\n",
       "      <th>41648</th>\n",
       "      <td>breastfeeding</td>\n",
       "      <td>mamaof2girls2020</td>\n",
       "      <td>2020-01-10</td>\n",
       "      <td>Help!</td>\n",
       "      <td>1</td>\n",
       "    </tr>\n",
       "    <tr>\n",
       "      <th>42695</th>\n",
       "      <td>breastfeeding</td>\n",
       "      <td>jonessm17</td>\n",
       "      <td>2019-12-09</td>\n",
       "      <td>Sweating</td>\n",
       "      <td>1</td>\n",
       "    </tr>\n",
       "    <tr>\n",
       "      <th>47343</th>\n",
       "      <td>breastfeeding</td>\n",
       "      <td>dumbmilkthroway</td>\n",
       "      <td>2019-06-19</td>\n",
       "      <td>Relactation</td>\n",
       "      <td>1</td>\n",
       "    </tr>\n",
       "    <tr>\n",
       "      <th>48647</th>\n",
       "      <td>breastfeeding</td>\n",
       "      <td>ohhtruuue</td>\n",
       "      <td>2019-04-30</td>\n",
       "      <td>Helpppp</td>\n",
       "      <td>1</td>\n",
       "    </tr>\n",
       "    <tr>\n",
       "      <th>48986</th>\n",
       "      <td>breastfeeding</td>\n",
       "      <td>Pair1</td>\n",
       "      <td>2019-04-19</td>\n",
       "      <td>Love</td>\n",
       "      <td>1</td>\n",
       "    </tr>\n",
       "    <tr>\n",
       "      <th>49412</th>\n",
       "      <td>breastfeeding</td>\n",
       "      <td>nope-nails</td>\n",
       "      <td>2019-04-03</td>\n",
       "      <td>Unisom?</td>\n",
       "      <td>1</td>\n",
       "    </tr>\n",
       "    <tr>\n",
       "      <th>50849</th>\n",
       "      <td>breastfeeding</td>\n",
       "      <td>cici2506</td>\n",
       "      <td>2019-02-16</td>\n",
       "      <td>Nausea?</td>\n",
       "      <td>1</td>\n",
       "    </tr>\n",
       "  </tbody>\n",
       "</table>\n",
       "</div>"
      ],
      "text/plain": [
       "           subreddit               author  timestamp      total_text  \\\n",
       "2652       BabyBumps           StarOne786 2020-06-30  Circumcision?    \n",
       "2710       BabyBumps         goodnitemare 2020-07-01            Heh    \n",
       "8415       BabyBumps    KindlyDiscussion1 2020-04-05      Confused!    \n",
       "8621       BabyBumps            yourbyyou 2020-04-03    coronavirus    \n",
       "13003      BabyBumps           Joycetonny 2020-01-23        Revitol    \n",
       "13004      BabyBumps           Joycetonny 2020-01-24        Revitol    \n",
       "15656      BabyBumps          phrresehelp 2019-12-15            Aww    \n",
       "17479      BabyBumps        marymorgan330 2019-11-15                   \n",
       "17481      BabyBumps        marymorgan330 2019-11-15                   \n",
       "35457  breastfeeding   SnooChocolates7176 2020-07-30    Domperidone    \n",
       "37655  breastfeeding                 pmh- 2020-05-22    Domperidone    \n",
       "38822  breastfeeding         OnlyThickAss 2020-04-15       [Buying]    \n",
       "39428  breastfeeding      internetburnett 2020-03-25    Domperidone    \n",
       "39463  breastfeeding  figuring-it_out2019 2020-03-24    Relactating    \n",
       "41202  breastfeeding        letsbehonest9 2020-01-25        Journey    \n",
       "41327  breastfeeding       slaying_coochy 2020-01-20          Ummmm    \n",
       "41648  breastfeeding     mamaof2girls2020 2020-01-10          Help!    \n",
       "42695  breastfeeding            jonessm17 2019-12-09       Sweating    \n",
       "47343  breastfeeding      dumbmilkthroway 2019-06-19    Relactation    \n",
       "48647  breastfeeding            ohhtruuue 2019-04-30        Helpppp    \n",
       "48986  breastfeeding                Pair1 2019-04-19           Love    \n",
       "49412  breastfeeding           nope-nails 2019-04-03        Unisom?    \n",
       "50849  breastfeeding             cici2506 2019-02-16        Nausea?    \n",
       "\n",
       "       word_count  \n",
       "2652            1  \n",
       "2710            1  \n",
       "8415            1  \n",
       "8621            1  \n",
       "13003           1  \n",
       "13004           1  \n",
       "15656           1  \n",
       "17479           1  \n",
       "17481           1  \n",
       "35457           1  \n",
       "37655           1  \n",
       "38822           1  \n",
       "39428           1  \n",
       "39463           1  \n",
       "41202           1  \n",
       "41327           1  \n",
       "41648           1  \n",
       "42695           1  \n",
       "47343           1  \n",
       "48647           1  \n",
       "48986           1  \n",
       "49412           1  \n",
       "50849           1  "
      ]
     },
     "execution_count": 227,
     "metadata": {},
     "output_type": "execute_result"
    }
   ],
   "source": [
    "pospar[pospar['word_count']==1]"
   ]
  },
  {
   "cell_type": "code",
   "execution_count": null,
   "metadata": {},
   "outputs": [],
   "source": []
  }
 ],
 "metadata": {
  "kernelspec": {
   "display_name": "Python 3",
   "language": "python",
   "name": "python3"
  },
  "language_info": {
   "codemirror_mode": {
    "name": "ipython",
    "version": 3
   },
   "file_extension": ".py",
   "mimetype": "text/x-python",
   "name": "python",
   "nbconvert_exporter": "python",
   "pygments_lexer": "ipython3",
   "version": "3.7.6"
  }
 },
 "nbformat": 4,
 "nbformat_minor": 4
}
