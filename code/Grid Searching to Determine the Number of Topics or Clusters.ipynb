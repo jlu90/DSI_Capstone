{
 "cells": [
  {
   "cell_type": "markdown",
   "metadata": {},
   "source": [
    "# Grid Searching to Determine the Number of Topics or Clusters\n",
    "\n",
    "For anyone familiar with tuning hyperparameters in a SciKit Learn supervised model, you have probably used `GridSearchCV` to tune the best hyperparameters for your model. `GridSearchCV` works by essentially fitting a model for each of your combinations of hyperparameters and providing you with a cross-validated score for each combination of features. At the end of the process, you are able to determine which values of your hyperparameters result in the best score. \n",
    "\n",
    "Because I am using unsupervised learning techniques (KMeansClustering in SciKit Learn and Latent Dirichilet Allocation in Gensim) in this project, I am unable to use `GridSearchCV` to determine the optimal number of topics/clusters for my data. To overcome this, I have built functions to allow me to assess a metric score and topic composition for each number of clusters/topics. \n",
    "\n",
    "With unsupervised learning techniques, such as clustering, often the number that results in the best score might not be the most interpretable. Therefore, it will be important to make sure that any clusters or topics that emerge from the model also have clear meaning to the human that is evaluating them. **Here, we will appy these functions to the General Women's Health, Fertility and Pregancy, and Postpartum and Early Parenthood data to try and find clusters/topics that are not only optimized for a scoring metric but also interpretable.**"
   ]
  },
  {
   "cell_type": "markdown",
   "metadata": {},
   "source": [
    "## Imports"
   ]
  },
  {
   "cell_type": "code",
   "execution_count": 1,
   "metadata": {},
   "outputs": [],
   "source": [
    "import pandas as pd\n",
    "import numpy as np\n",
    "import matplotlib.pyplot as plt\n",
    "import seaborn as sns\n",
    "\n",
    "# Spacy\n",
    "import spacy\n",
    "\n",
    "# Scipy\n",
    "import scipy.sparse\n",
    "\n",
    "# Sklearn\n",
    "from sklearn.feature_extraction.text import TfidfVectorizer\n",
    "from sklearn.cluster import KMeans\n",
    "from sklearn.metrics import silhouette_score\n",
    "\n",
    "# Gensim\n",
    "from gensim import matutils\n",
    "from gensim import corpora\n",
    "# from gensim.corpora.dictionary import Dictionary\n",
    "from gensim.models import LdaModel\n",
    "from gensim.models.coherencemodel import CoherenceModel\n",
    "\n",
    "# NLTK\n",
    "from nltk.corpus import stopwords\n",
    "\n",
    "# Silence Future Warnings\n",
    "import warnings\n",
    "warnings.simplefilter(action='ignore', category=FutureWarning)"
   ]
  },
  {
   "cell_type": "markdown",
   "metadata": {},
   "source": [
    "#### Color Palette"
   ]
  },
  {
   "cell_type": "code",
   "execution_count": 2,
   "metadata": {},
   "outputs": [],
   "source": [
    "blush = '#F7D1CD'\n",
    "dark_purple = '#B392AC'\n",
    "warm_grey = '#8E9AAF'"
   ]
  },
  {
   "cell_type": "markdown",
   "metadata": {},
   "source": [
    "## Read-In Data"
   ]
  },
  {
   "cell_type": "code",
   "execution_count": 3,
   "metadata": {},
   "outputs": [
    {
     "name": "stdout",
     "output_type": "stream",
     "text": [
      "Health Shape: (30616, 7)\n",
      "ObsGyn Shape: (92943, 7)\n"
     ]
    }
   ],
   "source": [
    "health = pd.read_csv('../data/womens_health_preprocessed.csv', lineterminator='\\n')\n",
    "print(f'Health Shape: {health.shape}')\n",
    "obsgyn = pd.read_csv('../data/fertility_and_pregnancy_preprocessed.csv')\n",
    "print(f'ObsGyn Shape: {obsgyn.shape}')"
   ]
  },
  {
   "cell_type": "markdown",
   "metadata": {},
   "source": [
    "## Define Stop Words"
   ]
  },
  {
   "cell_type": "code",
   "execution_count": 4,
   "metadata": {},
   "outputs": [],
   "source": [
    "def add_stop_words(word_list, list_stop_words):\n",
    "    for word in word_list:\n",
    "        list_stop_words.add(word)\n",
    "        \n",
    "def remove_stop_words(word_list, list_stop_words):\n",
    "    for word in word_list:\n",
    "        list_stop_words.remove(word)"
   ]
  },
  {
   "cell_type": "code",
   "execution_count": 5,
   "metadata": {},
   "outputs": [],
   "source": [
    "# spaCy\n",
    "nlp = spacy.load('en_core_web_sm')\n",
    "stop_words_spacy = set(nlp.Defaults.stop_words)\n",
    "\n",
    "# nltk\n",
    "stop_words_nltk = set(stopwords.words('english'))\n",
    "\n",
    "# full list of stop words\n",
    "full_stop_words = stop_words_spacy.union(stop_words_nltk)\n",
    "\n",
    "words_to_add = ['like', 'know', 'want', 'feel', 'going', 'think', 'reddit', 'imgur', 'pron', 'officially', 'story', 'month', 'week', 'time', 'day', 'year', 'delete', 'saturday', 'sunday', 'monday', 'tuesday', 'wednesday', 'thursday', 'friday', 'subreddit']\n",
    "\n",
    "add_stop_words(words_to_add, full_stop_words)\n",
    "remove_stop_words(['not'], full_stop_words)"
   ]
  },
  {
   "cell_type": "markdown",
   "metadata": {},
   "source": [
    "## Create Document Term Matrix (DTM) From Corpus"
   ]
  },
  {
   "cell_type": "markdown",
   "metadata": {},
   "source": [
    "#### Function to Convert Text to a DTM"
   ]
  },
  {
   "cell_type": "code",
   "execution_count": 6,
   "metadata": {},
   "outputs": [],
   "source": [
    "def build_tvec(df, column, stop_words = full_stop_words):\n",
    "    tvec = TfidfVectorizer(max_df = 0.98, min_df = 0.005, ngram_range = (1,2), stop_words = stop_words)\n",
    "    dtm = tvec.fit_transform(df[column])\n",
    "    return tvec, dtm"
   ]
  },
  {
   "cell_type": "markdown",
   "metadata": {},
   "source": [
    "#### Create DTM for Each Health Domain"
   ]
  },
  {
   "cell_type": "code",
   "execution_count": 7,
   "metadata": {},
   "outputs": [],
   "source": [
    "# Vectorizer, dtm are outputed from build_tvec\n",
    "\n",
    "health_vectorizer, health_dtm = build_tvec(health, 'lemma_text')\n",
    "obsgyn_vectorizer, obsgyn_dtm = build_tvec(obsgyn, 'lemma_text')"
   ]
  },
  {
   "cell_type": "markdown",
   "metadata": {},
   "source": [
    "\n",
    "#### Transform DTM into a Term Document Matrix (TDM) That is Compatible with Gensim\n",
    "**Note**: Code for these steps was modified from [A Dash of Data](https://github.com/adashofdata/nlp-in-python-tutorial) by Alice Zhao\n",
    "\n",
    "***FOR GENSIM MODELS ONLY!*** "
   ]
  },
  {
   "cell_type": "code",
   "execution_count": 8,
   "metadata": {},
   "outputs": [],
   "source": [
    "def create_tdm(dtm):\n",
    "    tdm = dtm.transpose() # transpose dtm\n",
    "    return tdm\n",
    "\n",
    "def tdm_to_gensim_corpus(tdm):\n",
    "    sparse = scipy.sparse.csr_matrix(tdm) # Create a compressed sparse row matrix\n",
    "    corpus = matutils.Sparse2Corpus(tdm) # Create a corpus from sparse matrix\n",
    "    return corpus\n",
    "\n",
    "def prepare_dtm_for_gensim(dtm):\n",
    "    tdm = create_tdm(dtm)\n",
    "    corpus = tdm_to_gensim_corpus(tdm)\n",
    "    return corpus"
   ]
  },
  {
   "cell_type": "markdown",
   "metadata": {},
   "source": [
    "#### Transform the DTM to TDM for Each Health Domain"
   ]
  },
  {
   "cell_type": "code",
   "execution_count": 9,
   "metadata": {},
   "outputs": [],
   "source": [
    "health_corpus = prepare_dtm_for_gensim(health_dtm)\n",
    "obsgyn_corpus = prepare_dtm_for_gensim(obsgyn_dtm)"
   ]
  },
  {
   "cell_type": "markdown",
   "metadata": {},
   "source": [
    "## Define the Vocabulary That Was Used in the Vectorizer"
   ]
  },
  {
   "cell_type": "markdown",
   "metadata": {},
   "source": [
    "***For Gensim Models***"
   ]
  },
  {
   "cell_type": "code",
   "execution_count": 10,
   "metadata": {},
   "outputs": [],
   "source": [
    "def create_vocab_dictionary(vectorizer):\n",
    "    vocab_dictionary = dict((v,k) for k,v in vectorizer.vocabulary_.items())\n",
    "    return vocab_dictionary"
   ]
  },
  {
   "cell_type": "code",
   "execution_count": 11,
   "metadata": {},
   "outputs": [],
   "source": [
    "health_vocabulary = create_vocab_dictionary(health_vectorizer)\n",
    "obsgyn_vocabulary = create_vocab_dictionary(obsgyn_vectorizer)"
   ]
  },
  {
   "cell_type": "markdown",
   "metadata": {},
   "source": [
    "***For SciKit Learn Models***"
   ]
  },
  {
   "cell_type": "code",
   "execution_count": 12,
   "metadata": {},
   "outputs": [],
   "source": [
    "health_terms = health_vectorizer.get_feature_names()\n",
    "obsgyn_terms = obsgyn_vectorizer.get_feature_names()"
   ]
  },
  {
   "cell_type": "markdown",
   "metadata": {},
   "source": [
    "## Grid Search"
   ]
  },
  {
   "cell_type": "markdown",
   "metadata": {},
   "source": [
    "### K-Means Clustering\n",
    "#### Functions"
   ]
  },
  {
   "cell_type": "code",
   "execution_count": 13,
   "metadata": {},
   "outputs": [],
   "source": [
    "def grid_search_kmeans(start, stop, step, dtm):\n",
    "    \n",
    "    silhouettes = []\n",
    "    models = {}\n",
    "    \n",
    "    for i in range(start, stop, step):\n",
    "        \n",
    "        # Build KMeans Model\n",
    "        kmeans = KMeans(n_clusters = i, random_state = 42, n_jobs = -1)\n",
    "        kmeans.fit(dtm)\n",
    "        models[i] = kmeans\n",
    "        \n",
    "        # Calculate Silhouette Score & Append to List\n",
    "        preds = kmeans.fit_predict(dtm)\n",
    "        sil_score = silhouette_score(dtm, preds)\n",
    "        silhouettes.append(sil_score)\n",
    "        \n",
    "    return models, silhouettes"
   ]
  },
  {
   "cell_type": "code",
   "execution_count": 14,
   "metadata": {},
   "outputs": [],
   "source": [
    "def plot_gs_results(start, stop, step, list_of_scores, title = None, x_label = None, y_label = None):\n",
    "    plt.figure(figsize = (12, 8))\n",
    "    sns.lineplot(x = range(start, stop, step), y = list_of_scores, linewidth = 2, color = '#B392AC')\n",
    "    plt.title(title, fontdict = {'fontsize': 15}, pad = 8)\n",
    "    plt.xlabel(x_label, fontdict = {'fontsize': 12}, labelpad = 8)\n",
    "    plt.ylabel(y_label, fontdict = {'fontsize': 12}, labelpad = 8)\n",
    "    plt.tight_layout();"
   ]
  },
  {
   "cell_type": "code",
   "execution_count": 15,
   "metadata": {},
   "outputs": [],
   "source": [
    "def get_topic_terms_kmeans(model, k, terms, n_terms = 15):\n",
    "# Code modified from # https://pythonprogramminglanguage.com/kmeans-text-clustering/\n",
    "\n",
    "    sorted_centroids = model.cluster_centers_.argsort()[:, ::-1]\n",
    "    \n",
    "    topic_dictionary = {}\n",
    "    for i in range(k):\n",
    "        topics_list = []\n",
    "        for index in sorted_centroids[i, :n_terms]:\n",
    "                topics_list.append(terms[index])\n",
    "        topic_dictionary[i] = topics_list\n",
    "    \n",
    "    return topic_dictionary"
   ]
  },
  {
   "cell_type": "markdown",
   "metadata": {},
   "source": [
    "#### KMeans Grid Search for General Women's Health Data"
   ]
  },
  {
   "cell_type": "code",
   "execution_count": 16,
   "metadata": {},
   "outputs": [],
   "source": [
    "health_kmeans_models, health_silhouettes = grid_search_kmeans(2, 25, 2, health_dtm)"
   ]
  },
  {
   "cell_type": "code",
   "execution_count": 17,
   "metadata": {},
   "outputs": [
    {
     "data": {
      "image/png": "[encoded data removed]",
      "text/plain": [
       "<Figure size 864x576 with 1 Axes>"
      ]
     },
     "metadata": {
      "needs_background": "light"
     },
     "output_type": "display_data"
    }
   ],
   "source": [
    "plot_gs_results(2, 25, 2, \n",
    "                health_silhouettes, \n",
    "                title = 'Silhouette Score by Number of General Women\\'s Health Topics',\n",
    "                x_label = 'Number of Topics (k)',\n",
    "                y_label = 'Silhouette Score')"
   ]
  },
  {
   "cell_type": "code",
   "execution_count": null,
   "metadata": {},
   "outputs": [],
   "source": []
  },
  {
   "cell_type": "markdown",
   "metadata": {},
   "source": [
    "#### KMeans Grid Search for Fertility and Pregnancy Data"
   ]
  },
  {
   "cell_type": "code",
   "execution_count": 18,
   "metadata": {},
   "outputs": [],
   "source": [
    "obsgyn_kmeans_models, obsgyn_silhouettes = grid_search_kmeans(2, 25, 2, obsgyn_dtm)"
   ]
  },
  {
   "cell_type": "code",
   "execution_count": 19,
   "metadata": {},
   "outputs": [
    {
     "data": {
      "image/png": "[encoded data removed]",
      "text/plain": [
       "<Figure size 864x576 with 1 Axes>"
      ]
     },
     "metadata": {
      "needs_background": "light"
     },
     "output_type": "display_data"
    }
   ],
   "source": [
    "plot_gs_results(2, 25, 2, \n",
    "                obsgyn_silhouettes, \n",
    "                title = 'Silhouette Score by Number of Fertility and Pregnancy Topics',\n",
    "                x_label = 'Number of Topics (k)',\n",
    "                y_label = 'Silhouette Score')"
   ]
  },
  {
   "cell_type": "code",
   "execution_count": null,
   "metadata": {},
   "outputs": [],
   "source": []
  },
  {
   "cell_type": "markdown",
   "metadata": {},
   "source": [
    "### Latent Dirichlet Allocation (LDA)"
   ]
  },
  {
   "cell_type": "markdown",
   "metadata": {},
   "source": [
    "#### Functions"
   ]
  },
  {
   "cell_type": "code",
   "execution_count": 20,
   "metadata": {},
   "outputs": [],
   "source": [
    "def build_gensim_lda(corpus, n_topics, vocabulary, n_passes):\n",
    "    lda = LdaModel(corpus = corpus, num_topics = n_topics, id2word = vocabulary, passes = n_passes, decay = 0.7, offset = 10, random_state = 2020)\n",
    "    return lda"
   ]
  },
  {
   "cell_type": "code",
   "execution_count": 21,
   "metadata": {},
   "outputs": [],
   "source": [
    "def build_gensim_coherence_model(model, corpus, dictionary):\n",
    "    coherence = CoherenceModel(model=model, corpus = corpus, dictionary = dictionary, coherence = 'u_mass')\n",
    "    return round(coherence.get_coherence(), 3)"
   ]
  },
  {
   "cell_type": "code",
   "execution_count": 22,
   "metadata": {},
   "outputs": [],
   "source": [
    "# Grid Search Function Modified from Selva Prabhakaran\n",
    "# https://www.machinelearningplus.com/nlp/topic-modeling-gensim-python/\n",
    "def grid_search_lda(corpus, vocabulary, n_passes, start, stop, step_size):\n",
    "    \n",
    "    models_dict = {}\n",
    "    coherence_list = []\n",
    "    \n",
    "    for i in range(start, stop, step_size):\n",
    "        print(f'Building LDA model for {i} topics')\n",
    "        lda_model = build_gensim_lda(corpus, i, vocabulary, n_passes)\n",
    "        models_dict[i] = lda_model # Save model to dictionary with # topics as key\n",
    "        print('Calculating coherence score')\n",
    "        coherence = build_gensim_coherence_model(lda_model, corpus, vocabulary)\n",
    "        coherence_list.append(coherence)\n",
    "        \n",
    "    print('Finished!')\n",
    "    \n",
    "    return models_dict, coherence_list"
   ]
  },
  {
   "cell_type": "code",
   "execution_count": 23,
   "metadata": {},
   "outputs": [],
   "source": [
    "def plot_coherence_by_topic(start, stop, step_size, coherence_list, size = (12, 8), title = None, x_label = None, y_label = None):\n",
    "    plt.figure(figsize = size)\n",
    "    sns.lineplot(x = range(start, stop, step_size), y = coherence_list, linewidth = 2, color = dark_purple)\n",
    "    plt.xlabel(x_label, fontdict = {'fontsize':12}, labelpad = 8)\n",
    "    plt.ylabel(y_label, fontdict = {'fontsize':12}, labelpad = 8)\n",
    "    plt.title(title, fontdict = {'fontsize':15}, pad = 8)\n",
    "    plt.xticks(range(2,21,2), size = 11)\n",
    "    plt.yticks(size = 11)\n",
    "    plt.tight_layout();"
   ]
  },
  {
   "cell_type": "code",
   "execution_count": 24,
   "metadata": {},
   "outputs": [],
   "source": [
    "def get_topic_terms(model, n_topics, n_words):\n",
    "    return model.print_topics(num_topics = n_topics, num_words = n_words)"
   ]
  },
  {
   "cell_type": "markdown",
   "metadata": {},
   "source": [
    "#### Grid Search for Women's Health Data"
   ]
  },
  {
   "cell_type": "code",
   "execution_count": 25,
   "metadata": {},
   "outputs": [
    {
     "name": "stdout",
     "output_type": "stream",
     "text": [
      "Building LDA model for 2 topics\n",
      "Calculating coherence score\n",
      "Building LDA model for 4 topics\n",
      "Calculating coherence score\n",
      "Building LDA model for 6 topics\n",
      "Calculating coherence score\n",
      "Building LDA model for 8 topics\n",
      "Calculating coherence score\n",
      "Building LDA model for 10 topics\n",
      "Calculating coherence score\n",
      "Building LDA model for 12 topics\n",
      "Calculating coherence score\n",
      "Building LDA model for 14 topics\n",
      "Calculating coherence score\n",
      "Building LDA model for 16 topics\n",
      "Calculating coherence score\n",
      "Building LDA model for 18 topics\n",
      "Calculating coherence score\n",
      "Building LDA model for 20 topics\n",
      "Calculating coherence score\n",
      "Finished!\n"
     ]
    }
   ],
   "source": [
    "health_lda_models, health_lda_coherence = grid_search_lda(corpus = health_corpus, \n",
    "                                                          vocabulary = health_vocabulary, \n",
    "                                                          n_passes = 10, \n",
    "                                                          start = 2, \n",
    "                                                          stop = 21, \n",
    "                                                          step_size = 2);"
   ]
  },
  {
   "cell_type": "code",
   "execution_count": 26,
   "metadata": {},
   "outputs": [
    {
     "data": {
      "image/png": "[encoded data removed]",
      "text/plain": [
       "<Figure size 576x360 with 1 Axes>"
      ]
     },
     "metadata": {
      "needs_background": "light"
     },
     "output_type": "display_data"
    }
   ],
   "source": [
    "plot_coherence_by_topic(2, 21, 2, \n",
    "                        health_lda_coherence, \n",
    "                        size = (8, 5), \n",
    "                        title = 'Coherence Score by Number of Women\\'s Health Topics', \n",
    "                        x_label = 'Number of Topics', \n",
    "                        y_label = 'UMass Coherence Score')"
   ]
  },
  {
   "cell_type": "code",
   "execution_count": 28,
   "metadata": {},
   "outputs": [
    {
     "data": {
      "text/plain": [
       "[(0,\n",
       "  '0.028*\"infection\" + 0.027*\"yeast\" + 0.024*\"yeast infection\" + 0.019*\"discharge\" + 0.018*\"smell\" + 0.013*\"bv\" + 0.010*\"vagina\" + 0.008*\"vaginal\" + 0.007*\"itch\" + 0.007*\"sex\"'),\n",
       " (1,\n",
       "  '0.117*\"tampon\" + 0.095*\"cup\" + 0.066*\"pad\" + 0.057*\"menstrual\" + 0.045*\"menstrual cup\" + 0.031*\"use\" + 0.025*\"period\" + 0.024*\"abortion\" + 0.023*\"product\" + 0.016*\"leak\"'),\n",
       " (2,\n",
       "  '0.013*\"friend\" + 0.008*\"guy\" + 0.008*\"people\" + 0.008*\"work\" + 0.007*\"thing\" + 0.007*\"talk\" + 0.006*\"good\" + 0.006*\"date\" + 0.006*\"tell\" + 0.006*\"relationship\"'),\n",
       " (3,\n",
       "  '0.051*\"hair\" + 0.013*\"shave\" + 0.011*\"skin\" + 0.011*\"look\" + 0.009*\"wax\" + 0.009*\"face\" + 0.008*\"use\" + 0.008*\"wash\" + 0.008*\"try\" + 0.008*\"nail\"'),\n",
       " (4,\n",
       "  '0.026*\"pain\" + 0.012*\"period\" + 0.011*\"cyst\" + 0.010*\"cramp\" + 0.008*\"doctor\" + 0.007*\"bad\" + 0.007*\"ultrasound\" + 0.006*\"ovary\" + 0.006*\"ovarian\" + 0.006*\"experience\"'),\n",
       " (5,\n",
       "  '0.051*\"self esteem\" + 0.051*\"esteem\" + 0.044*\"self\" + 0.039*\"eat\" + 0.037*\"tip\" + 0.033*\"pms\" + 0.032*\"vitamin\" + 0.031*\"food\" + 0.031*\"deal\" + 0.030*\"woman\"'),\n",
       " (6,\n",
       "  '0.044*\"iud\" + 0.020*\"control\" + 0.019*\"birth\" + 0.019*\"birth control\" + 0.017*\"pill\" + 0.013*\"experience\" + 0.012*\"hormonal\" + 0.012*\"period\" + 0.012*\"mirena\" + 0.010*\"implant\"'),\n",
       " (7,\n",
       "  '0.011*\"vagina\" + 0.011*\"pap\" + 0.011*\"breast\" + 0.009*\"hurt\" + 0.009*\"doctor\" + 0.008*\"labia\" + 0.008*\"sex\" + 0.008*\"smear\" + 0.007*\"lump\" + 0.007*\"bump\"'),\n",
       " (8,\n",
       "  '0.040*\"uti\" + 0.029*\"pee\" + 0.027*\"sex\" + 0.015*\"orgasm\" + 0.015*\"antibiotic\" + 0.013*\"drink\" + 0.010*\"burn\" + 0.010*\"urine\" + 0.010*\"water\" + 0.009*\"pain\"'),\n",
       " (9,\n",
       "  '0.064*\"pill\" + 0.053*\"birth control\" + 0.052*\"birth\" + 0.052*\"control\" + 0.019*\"pack\" + 0.018*\"pregnant\" + 0.018*\"condom\" + 0.016*\"plan\" + 0.015*\"control pill\" + 0.014*\"sex\"'),\n",
       " (10,\n",
       "  '0.044*\"period\" + 0.013*\"bleed\" + 0.010*\"start\" + 0.010*\"test\" + 0.010*\"pregnancy\" + 0.009*\"normal\" + 0.009*\"late\" + 0.009*\"pill\" + 0.009*\"pregnant\" + 0.009*\"cycle\"'),\n",
       " (11,\n",
       "  '0.026*\"wear\" + 0.018*\"dress\" + 0.015*\"look\" + 0.013*\"bra\" + 0.010*\"buy\" + 0.010*\"clothe\" + 0.009*\"weight\" + 0.008*\"size\" + 0.008*\"good\" + 0.008*\"jean\"')]"
      ]
     },
     "execution_count": 28,
     "metadata": {},
     "output_type": "execute_result"
    }
   ],
   "source": [
    "health_lda_model_12 = health_lda_models[12]\n",
    "get_topic_terms(health_lda_model_12, 12, 10)"
   ]
  },
  {
   "cell_type": "markdown",
   "metadata": {},
   "source": [
    "#### Grid Search for Fertility and Pregnancy Data"
   ]
  },
  {
   "cell_type": "code",
   "execution_count": 29,
   "metadata": {},
   "outputs": [
    {
     "name": "stdout",
     "output_type": "stream",
     "text": [
      "Building LDA model for 2 topics\n",
      "Calculating coherence score\n",
      "Building LDA model for 4 topics\n",
      "Calculating coherence score\n",
      "Building LDA model for 6 topics\n",
      "Calculating coherence score\n",
      "Building LDA model for 8 topics\n",
      "Calculating coherence score\n",
      "Building LDA model for 10 topics\n",
      "Calculating coherence score\n",
      "Building LDA model for 12 topics\n",
      "Calculating coherence score\n",
      "Building LDA model for 14 topics\n",
      "Calculating coherence score\n",
      "Building LDA model for 16 topics\n",
      "Calculating coherence score\n",
      "Building LDA model for 18 topics\n",
      "Calculating coherence score\n",
      "Building LDA model for 20 topics\n",
      "Calculating coherence score\n",
      "Finished!\n"
     ]
    }
   ],
   "source": [
    "obsgyn_lda_models, obsgyn_lda_coherence = grid_search_lda(corpus = obsgyn_corpus, \n",
    "                                                          vocabulary = obsgyn_vocabulary, \n",
    "                                                          n_passes = 10, \n",
    "                                                          start = 2, \n",
    "                                                          stop = 21, \n",
    "                                                          step_size = 2);"
   ]
  },
  {
   "cell_type": "code",
   "execution_count": 30,
   "metadata": {},
   "outputs": [
    {
     "data": {
      "image/png": "[encoded data removed]",
      "text/plain": [
       "<Figure size 576x360 with 1 Axes>"
      ]
     },
     "metadata": {
      "needs_background": "light"
     },
     "output_type": "display_data"
    }
   ],
   "source": [
    "plot_coherence_by_topic(2, 21, 2, \n",
    "                        obsgyn_lda_coherence, \n",
    "                        size = (8, 5), \n",
    "                        title = 'Coherence Score by Number of Fertility and Pregnancy Topics', \n",
    "                        x_label = 'Number of Topics', \n",
    "                        y_label = 'UMass Coherence Score')"
   ]
  },
  {
   "cell_type": "code",
   "execution_count": 31,
   "metadata": {},
   "outputs": [
    {
     "data": {
      "text/plain": [
       "[(0,\n",
       "  '0.012*\"birth\" + 0.010*\"work\" + 0.010*\"baby\" + 0.008*\"hospital\" + 0.007*\"leave\" + 0.006*\"csection\" + 0.006*\"job\" + 0.006*\"plan\" + 0.005*\"home\" + 0.005*\"need\"'),\n",
       " (1,\n",
       "  '0.014*\"baby\" + 0.010*\"pregnant\" + 0.009*\"tell\" + 0.008*\"family\" + 0.007*\"husband\" + 0.007*\"friend\" + 0.007*\"people\" + 0.006*\"mom\" + 0.006*\"pregnancy\" + 0.006*\"child\"'),\n",
       " (2,\n",
       "  '0.029*\"contraction\" + 0.026*\"labor\" + 0.014*\"induction\" + 0.013*\"cm\" + 0.013*\"induce\" + 0.012*\"epidural\" + 0.012*\"hour\" + 0.011*\"water\" + 0.011*\"pain\" + 0.011*\"dilate\"'),\n",
       " (3,\n",
       "  '0.023*\"eat\" + 0.012*\"food\" + 0.012*\"nausea\" + 0.011*\"sickness\" + 0.010*\"pregnancy\" + 0.010*\"morning\" + 0.010*\"trimester\" + 0.010*\"morning sickness\" + 0.009*\"sick\" + 0.009*\"bad\"'),\n",
       " (4,\n",
       "  '0.026*\"test\" + 0.025*\"period\" + 0.017*\"pregnancy\" + 0.016*\"pregnant\" + 0.013*\"positive\" + 0.012*\"symptom\" + 0.011*\"pregnancy test\" + 0.011*\"negative\" + 0.010*\"sex\" + 0.009*\"bleed\"'),\n",
       " (5,\n",
       "  '0.020*\"maternity\" + 0.017*\"recommendation\" + 0.014*\"look\" + 0.013*\"bra\" + 0.013*\"clothe\" + 0.012*\"buy\" + 0.012*\"good\" + 0.012*\"pregnancy\" + 0.012*\"thank\" + 0.011*\"breast\"'),\n",
       " (6,\n",
       "  '0.029*\"cycle\" + 0.019*\"ovulation\" + 0.017*\"try\" + 0.017*\"ttc\" + 0.014*\"ovulate\" + 0.014*\"opk\" + 0.012*\"cd\" + 0.012*\"period\" + 0.012*\"conceive\" + 0.011*\"start\"'),\n",
       " (7,\n",
       "  '0.017*\"baby\" + 0.009*\"sleep\" + 0.007*\"diaper\" + 0.007*\"nursery\" + 0.007*\"buy\" + 0.007*\"car\" + 0.007*\"need\" + 0.006*\"bag\" + 0.006*\"seat\" + 0.006*\"crib\"'),\n",
       " (8,\n",
       "  '0.016*\"ultrasound\" + 0.012*\"doctor\" + 0.011*\"blood\" + 0.010*\"baby\" + 0.010*\"test\" + 0.010*\"appointment\" + 0.010*\"scan\" + 0.007*\"pregnancy\" + 0.007*\"ob\" + 0.007*\"tell\"'),\n",
       " (9,\n",
       "  '0.022*\"pain\" + 0.013*\"belly\" + 0.012*\"baby\" + 0.010*\"weight\" + 0.010*\"gain\" + 0.010*\"kick\" + 0.009*\"movement\" + 0.009*\"pregnancy\" + 0.008*\"bump\" + 0.008*\"hurt\"')]"
      ]
     },
     "execution_count": 31,
     "metadata": {},
     "output_type": "execute_result"
    }
   ],
   "source": [
    "obsgyn_lda_model_10 = obsgyn_lda_models[10]\n",
    "get_topic_terms(obsgyn_lda_model_10, 10, 10)"
   ]
  },
  {
   "cell_type": "code",
   "execution_count": null,
   "metadata": {},
   "outputs": [],
   "source": []
  }
 ],
 "metadata": {
  "kernelspec": {
   "display_name": "Python 3",
   "language": "python",
   "name": "python3"
  },
  "language_info": {
   "codemirror_mode": {
    "name": "ipython",
    "version": 3
   },
   "file_extension": ".py",
   "mimetype": "text/x-python",
   "name": "python",
   "nbconvert_exporter": "python",
   "pygments_lexer": "ipython3",
   "version": "3.7.6"
  }
 },
 "nbformat": 4,
 "nbformat_minor": 4
}
