{
 "cells": [
  {
   "cell_type": "markdown",
   "metadata": {},
   "source": [
    "# Identifying Women's Health Concerns From Online Forums"
   ]
  },
  {
   "cell_type": "markdown",
   "metadata": {},
   "source": [
    "## Problem Statement"
   ]
  },
  {
   "cell_type": "markdown",
   "metadata": {},
   "source": [
    "Citizen science is an emerging field of research in which members of the public volunteer to participate in scientific research [(1)](https://www.citizenscience.gov/about/#). One of the most well-known, crowd-sourced citizen science is projects is [American Gut](https://msystems.asm.org/content/3/3/e00031-18), a citizen science project designed to better understand the human microbiome. For this project, citizens interested in contributing to the project paid $99 to receive a sample collection kit and were given instructions to submit the sample [(2)](https://anesthesiology.duke.edu/?p=846744). Within approximately five years, it was estimated that American Gut received samples from over 11,000 people in 45 different countries [(2)](https://anesthesiology.duke.edu/?p=846744), illustrating the willingness of individualas to participate in research and the power of citizen science for generating large datasets that can answer important research questions.\n",
    "\n",
    "The field of developmental neurotoxicology is interested in understanding the developmental origins of the nervous system throughout the lifespan [(3)](https://www.dntshome.org). Within this field, a substantial amount of research is dedicated to understanding how events that occur during a woman's pregnancy (e.g. illness, treatment with medication, psychological distress, etc.) impact the development of the baby's brain and behavior. Traditional research within the field of maternal health and infant development has relied on retrospective maternal report of any events that occurred during pregnancy through regularly-scheduled interviews with a trained research assistant or counselor. Although these interviews provide important information for the studies, the accuracy of reporting depends on the ability of the expecting mother to recall any important events that happened during her pregnancy. \n",
    "\n",
    "In order to eliminate any gaps in reporting and to gain a more-representative picture of a woman's pregnancy, we would like to to plan a citizen science project in which women who are interested in participating can download a mobile application that would allow them to log important events during their pregnancy in real time. However, understanding that this will be a large time commitment for participating women, we would also like to provide them with specially curated resources related to women's health concerns. \n",
    "\n",
    "In order to identify concerns that are relevant to women's health, a focus group was initially proposed. However, focus groups can be costly in terms of time and money, and it is also possible that the small number of women who can join a focus group are not representative of the larger population of women who could opt to particpate in the research. Therefore, an alternative method of identifying concerns was proposed.\n",
    "\n",
    "In this project, we will use natural language processing and unsupervised clustering techniques to identify women's health concerns from posts in online forums. Specific concerns will be identified for general women's health, fertility and pregnancy, and early parenthood."
   ]
  },
  {
   "cell_type": "markdown",
   "metadata": {},
   "source": [
    "## Imports"
   ]
  },
  {
   "cell_type": "code",
   "execution_count": 2,
   "metadata": {},
   "outputs": [],
   "source": [
    "import pandas as pd"
   ]
  },
  {
   "cell_type": "markdown",
   "metadata": {},
   "source": [
    "## Data"
   ]
  },
  {
   "cell_type": "markdown",
   "metadata": {},
   "source": [
    "For each area of interest, 18 months of data was scraped from three or more subreddits related to the area of interest. Eighteen months of data was chosen so that concerns pre- and post-COVID-19 could be compared.\n",
    "\n",
    "***Note:*** Although I had initially hoped to scrape from other online forums, there appeared to be a scarcity of forums with quality, scrapable data. Because Reddit has moderators, some of which are Ob/Gyn's, I am hoping that the quality of this data will be higher. "
   ]
  },
  {
   "cell_type": "markdown",
   "metadata": {},
   "source": [
    "### Women's Health"
   ]
  },
  {
   "cell_type": "code",
   "execution_count": null,
   "metadata": {},
   "outputs": [],
   "source": [
    "womens_health = pd.read_csv('../data/womens_health.csv')"
   ]
  },
  {
   "cell_type": "code",
   "execution_count": 6,
   "metadata": {},
   "outputs": [],
   "source": [
    "womens_health.drop(columns = 'Unnamed: 0', inplace = True)"
   ]
  },
  {
   "cell_type": "code",
   "execution_count": 7,
   "metadata": {},
   "outputs": [
    {
     "data": {
      "text/plain": [
       "(31385, 9)"
      ]
     },
     "execution_count": 7,
     "metadata": {},
     "output_type": "execute_result"
    }
   ],
   "source": [
    "womens_health.shape"
   ]
  },
  {
   "cell_type": "code",
   "execution_count": 9,
   "metadata": {},
   "outputs": [
    {
     "data": {
      "text/html": [
       "<div>\n",
       "<style scoped>\n",
       "    .dataframe tbody tr th:only-of-type {\n",
       "        vertical-align: middle;\n",
       "    }\n",
       "\n",
       "    .dataframe tbody tr th {\n",
       "        vertical-align: top;\n",
       "    }\n",
       "\n",
       "    .dataframe thead th {\n",
       "        text-align: right;\n",
       "    }\n",
       "</style>\n",
       "<table border=\"1\" class=\"dataframe\">\n",
       "  <thead>\n",
       "    <tr style=\"text-align: right;\">\n",
       "      <th></th>\n",
       "      <th>title</th>\n",
       "      <th>selftext</th>\n",
       "      <th>subreddit</th>\n",
       "      <th>created_utc</th>\n",
       "      <th>author</th>\n",
       "      <th>num_comments</th>\n",
       "      <th>score</th>\n",
       "      <th>is_self</th>\n",
       "      <th>timestamp</th>\n",
       "    </tr>\n",
       "  </thead>\n",
       "  <tbody>\n",
       "    <tr>\n",
       "      <th>0</th>\n",
       "      <td>Been to the clinic twice and they don’t know w...</td>\n",
       "      <td>So I’ve been having problems with discharge an...</td>\n",
       "      <td>WomensHealth</td>\n",
       "      <td>1596818251</td>\n",
       "      <td>thecrazedbunny</td>\n",
       "      <td>0</td>\n",
       "      <td>1</td>\n",
       "      <td>True</td>\n",
       "      <td>2020-08-07</td>\n",
       "    </tr>\n",
       "    <tr>\n",
       "      <th>1</th>\n",
       "      <td>Period going on for 14 days today. Help!!</td>\n",
       "      <td>Hi guys. I'm getting a bit worried about my pe...</td>\n",
       "      <td>WomensHealth</td>\n",
       "      <td>1596822599</td>\n",
       "      <td>Help-Me-Already</td>\n",
       "      <td>4</td>\n",
       "      <td>1</td>\n",
       "      <td>True</td>\n",
       "      <td>2020-08-07</td>\n",
       "    </tr>\n",
       "    <tr>\n",
       "      <th>2</th>\n",
       "      <td>Question about birth control - advice apprecia...</td>\n",
       "      <td>Hi! So I am 18 and I have been on birth contro...</td>\n",
       "      <td>WomensHealth</td>\n",
       "      <td>1596822743</td>\n",
       "      <td>blueberrydoe</td>\n",
       "      <td>2</td>\n",
       "      <td>1</td>\n",
       "      <td>True</td>\n",
       "      <td>2020-08-07</td>\n",
       "    </tr>\n",
       "    <tr>\n",
       "      <th>3</th>\n",
       "      <td>Yeast infection vs. Cytolytic Vaginosis?</td>\n",
       "      <td>Hi everyone!  Hoping someone here can help me....</td>\n",
       "      <td>WomensHealth</td>\n",
       "      <td>1596826397</td>\n",
       "      <td>TheTinyOne23</td>\n",
       "      <td>1</td>\n",
       "      <td>1</td>\n",
       "      <td>True</td>\n",
       "      <td>2020-08-07</td>\n",
       "    </tr>\n",
       "    <tr>\n",
       "      <th>4</th>\n",
       "      <td>Virgin concerned about transvaginal ultrasound</td>\n",
       "      <td>I went in for my well woman exam today and the...</td>\n",
       "      <td>WomensHealth</td>\n",
       "      <td>1596829944</td>\n",
       "      <td>BabyFaceIT</td>\n",
       "      <td>4</td>\n",
       "      <td>1</td>\n",
       "      <td>True</td>\n",
       "      <td>2020-08-07</td>\n",
       "    </tr>\n",
       "  </tbody>\n",
       "</table>\n",
       "</div>"
      ],
      "text/plain": [
       "                                               title  \\\n",
       "0  Been to the clinic twice and they don’t know w...   \n",
       "1          Period going on for 14 days today. Help!!   \n",
       "2  Question about birth control - advice apprecia...   \n",
       "3           Yeast infection vs. Cytolytic Vaginosis?   \n",
       "4     Virgin concerned about transvaginal ultrasound   \n",
       "\n",
       "                                            selftext     subreddit  \\\n",
       "0  So I’ve been having problems with discharge an...  WomensHealth   \n",
       "1  Hi guys. I'm getting a bit worried about my pe...  WomensHealth   \n",
       "2  Hi! So I am 18 and I have been on birth contro...  WomensHealth   \n",
       "3  Hi everyone!  Hoping someone here can help me....  WomensHealth   \n",
       "4  I went in for my well woman exam today and the...  WomensHealth   \n",
       "\n",
       "   created_utc           author  num_comments  score  is_self   timestamp  \n",
       "0   1596818251   thecrazedbunny             0      1     True  2020-08-07  \n",
       "1   1596822599  Help-Me-Already             4      1     True  2020-08-07  \n",
       "2   1596822743     blueberrydoe             2      1     True  2020-08-07  \n",
       "3   1596826397     TheTinyOne23             1      1     True  2020-08-07  \n",
       "4   1596829944       BabyFaceIT             4      1     True  2020-08-07  "
      ]
     },
     "execution_count": 9,
     "metadata": {},
     "output_type": "execute_result"
    }
   ],
   "source": [
    "womens_health.head()"
   ]
  },
  {
   "cell_type": "markdown",
   "metadata": {},
   "source": [
    "### Fertility and Pregnancy"
   ]
  },
  {
   "cell_type": "code",
   "execution_count": 8,
   "metadata": {},
   "outputs": [],
   "source": [
    "fert_and_preg = pd.read_csv('../data/fertility_and_pregnancy.csv')"
   ]
  },
  {
   "cell_type": "code",
   "execution_count": 10,
   "metadata": {},
   "outputs": [],
   "source": [
    "fert_and_preg.drop(columns = 'Unnamed: 0', inplace = True)"
   ]
  },
  {
   "cell_type": "code",
   "execution_count": 11,
   "metadata": {},
   "outputs": [
    {
     "data": {
      "text/plain": [
       "(98138, 9)"
      ]
     },
     "execution_count": 11,
     "metadata": {},
     "output_type": "execute_result"
    }
   ],
   "source": [
    "fert_and_preg.shape"
   ]
  },
  {
   "cell_type": "code",
   "execution_count": 12,
   "metadata": {},
   "outputs": [
    {
     "data": {
      "text/html": [
       "<div>\n",
       "<style scoped>\n",
       "    .dataframe tbody tr th:only-of-type {\n",
       "        vertical-align: middle;\n",
       "    }\n",
       "\n",
       "    .dataframe tbody tr th {\n",
       "        vertical-align: top;\n",
       "    }\n",
       "\n",
       "    .dataframe thead th {\n",
       "        text-align: right;\n",
       "    }\n",
       "</style>\n",
       "<table border=\"1\" class=\"dataframe\">\n",
       "  <thead>\n",
       "    <tr style=\"text-align: right;\">\n",
       "      <th></th>\n",
       "      <th>title</th>\n",
       "      <th>selftext</th>\n",
       "      <th>subreddit</th>\n",
       "      <th>created_utc</th>\n",
       "      <th>author</th>\n",
       "      <th>num_comments</th>\n",
       "      <th>score</th>\n",
       "      <th>is_self</th>\n",
       "      <th>timestamp</th>\n",
       "    </tr>\n",
       "  </thead>\n",
       "  <tbody>\n",
       "    <tr>\n",
       "      <th>0</th>\n",
       "      <td>Adding to the kitchen sink approach: I just bo...</td>\n",
       "      <td>This time I’m going to be using a menstrual cu...</td>\n",
       "      <td>TryingForABaby</td>\n",
       "      <td>1596839749</td>\n",
       "      <td>lastput1</td>\n",
       "      <td>7</td>\n",
       "      <td>1</td>\n",
       "      <td>True</td>\n",
       "      <td>2020-08-07</td>\n",
       "    </tr>\n",
       "    <tr>\n",
       "      <th>1</th>\n",
       "      <td>Has anyone used/or currently an app to track t...</td>\n",
       "      <td>\\nMy husband and I are new to TTC.\\n\\nWe have ...</td>\n",
       "      <td>TryingForABaby</td>\n",
       "      <td>1596841178</td>\n",
       "      <td>ParkingFrosting4</td>\n",
       "      <td>8</td>\n",
       "      <td>1</td>\n",
       "      <td>True</td>\n",
       "      <td>2020-08-07</td>\n",
       "    </tr>\n",
       "    <tr>\n",
       "      <th>2</th>\n",
       "      <td>Invited to my first “virtual” baby shower</td>\n",
       "      <td>I don’t know why but I feel a type of way. Sit...</td>\n",
       "      <td>TryingForABaby</td>\n",
       "      <td>1596841808</td>\n",
       "      <td>MinimalTa1886</td>\n",
       "      <td>16</td>\n",
       "      <td>1</td>\n",
       "      <td>True</td>\n",
       "      <td>2020-08-07</td>\n",
       "    </tr>\n",
       "    <tr>\n",
       "      <th>3</th>\n",
       "      <td>Constantly testing during the TWW?</td>\n",
       "      <td>I know it's hard not to test constantly during...</td>\n",
       "      <td>TryingForABaby</td>\n",
       "      <td>1596842913</td>\n",
       "      <td>amma017</td>\n",
       "      <td>6</td>\n",
       "      <td>1</td>\n",
       "      <td>True</td>\n",
       "      <td>2020-08-07</td>\n",
       "    </tr>\n",
       "    <tr>\n",
       "      <th>4</th>\n",
       "      <td>When do I actually ovulate?</td>\n",
       "      <td>I’ve been tracking my cycles for two months no...</td>\n",
       "      <td>TryingForABaby</td>\n",
       "      <td>1596842925</td>\n",
       "      <td>bethrowinaway</td>\n",
       "      <td>4</td>\n",
       "      <td>1</td>\n",
       "      <td>True</td>\n",
       "      <td>2020-08-07</td>\n",
       "    </tr>\n",
       "  </tbody>\n",
       "</table>\n",
       "</div>"
      ],
      "text/plain": [
       "                                               title  \\\n",
       "0  Adding to the kitchen sink approach: I just bo...   \n",
       "1  Has anyone used/or currently an app to track t...   \n",
       "2          Invited to my first “virtual” baby shower   \n",
       "3                 Constantly testing during the TWW?   \n",
       "4                        When do I actually ovulate?   \n",
       "\n",
       "                                            selftext       subreddit  \\\n",
       "0  This time I’m going to be using a menstrual cu...  TryingForABaby   \n",
       "1  \\nMy husband and I are new to TTC.\\n\\nWe have ...  TryingForABaby   \n",
       "2  I don’t know why but I feel a type of way. Sit...  TryingForABaby   \n",
       "3  I know it's hard not to test constantly during...  TryingForABaby   \n",
       "4  I’ve been tracking my cycles for two months no...  TryingForABaby   \n",
       "\n",
       "   created_utc            author  num_comments  score  is_self   timestamp  \n",
       "0   1596839749          lastput1             7      1     True  2020-08-07  \n",
       "1   1596841178  ParkingFrosting4             8      1     True  2020-08-07  \n",
       "2   1596841808     MinimalTa1886            16      1     True  2020-08-07  \n",
       "3   1596842913           amma017             6      1     True  2020-08-07  \n",
       "4   1596842925     bethrowinaway             4      1     True  2020-08-07  "
      ]
     },
     "execution_count": 12,
     "metadata": {},
     "output_type": "execute_result"
    }
   ],
   "source": [
    "fert_and_preg.head()"
   ]
  },
  {
   "cell_type": "markdown",
   "metadata": {},
   "source": [
    "### Postpartum"
   ]
  },
  {
   "cell_type": "code",
   "execution_count": 13,
   "metadata": {},
   "outputs": [],
   "source": [
    "postpartum = pd.read_csv('../data/postpartum.csv')"
   ]
  },
  {
   "cell_type": "code",
   "execution_count": 15,
   "metadata": {},
   "outputs": [],
   "source": [
    "postpartum.drop(columns = 'Unnamed: 0', inplace = True)"
   ]
  },
  {
   "cell_type": "code",
   "execution_count": 16,
   "metadata": {},
   "outputs": [
    {
     "data": {
      "text/plain": [
       "(51674, 9)"
      ]
     },
     "execution_count": 16,
     "metadata": {},
     "output_type": "execute_result"
    }
   ],
   "source": [
    "postpartum.shape"
   ]
  },
  {
   "cell_type": "code",
   "execution_count": 17,
   "metadata": {},
   "outputs": [
    {
     "data": {
      "text/html": [
       "<div>\n",
       "<style scoped>\n",
       "    .dataframe tbody tr th:only-of-type {\n",
       "        vertical-align: middle;\n",
       "    }\n",
       "\n",
       "    .dataframe tbody tr th {\n",
       "        vertical-align: top;\n",
       "    }\n",
       "\n",
       "    .dataframe thead th {\n",
       "        text-align: right;\n",
       "    }\n",
       "</style>\n",
       "<table border=\"1\" class=\"dataframe\">\n",
       "  <thead>\n",
       "    <tr style=\"text-align: right;\">\n",
       "      <th></th>\n",
       "      <th>title</th>\n",
       "      <th>selftext</th>\n",
       "      <th>subreddit</th>\n",
       "      <th>created_utc</th>\n",
       "      <th>author</th>\n",
       "      <th>num_comments</th>\n",
       "      <th>score</th>\n",
       "      <th>is_self</th>\n",
       "      <th>timestamp</th>\n",
       "    </tr>\n",
       "  </thead>\n",
       "  <tbody>\n",
       "    <tr>\n",
       "      <th>0</th>\n",
       "      <td>Question about bottles</td>\n",
       "      <td>I'm researching baby bottles and am trying to ...</td>\n",
       "      <td>BabyBumps</td>\n",
       "      <td>1596850138</td>\n",
       "      <td>All_Hail_CC</td>\n",
       "      <td>4</td>\n",
       "      <td>1</td>\n",
       "      <td>True</td>\n",
       "      <td>2020-08-07</td>\n",
       "    </tr>\n",
       "    <tr>\n",
       "      <th>1</th>\n",
       "      <td>Anyone else getting that generation gap judgem...</td>\n",
       "      <td>Aunt- I don’t eat much meat, but when I was pr...</td>\n",
       "      <td>BabyBumps</td>\n",
       "      <td>1596850152</td>\n",
       "      <td>waterfallsummer</td>\n",
       "      <td>86</td>\n",
       "      <td>1</td>\n",
       "      <td>True</td>\n",
       "      <td>2020-08-07</td>\n",
       "    </tr>\n",
       "    <tr>\n",
       "      <th>2</th>\n",
       "      <td>Insurance perks.</td>\n",
       "      <td>Hello All we are expecting our first in mid of...</td>\n",
       "      <td>BabyBumps</td>\n",
       "      <td>1596850522</td>\n",
       "      <td>mkokit1</td>\n",
       "      <td>9</td>\n",
       "      <td>1</td>\n",
       "      <td>True</td>\n",
       "      <td>2020-08-07</td>\n",
       "    </tr>\n",
       "    <tr>\n",
       "      <th>3</th>\n",
       "      <td>37 weeks and extra moody</td>\n",
       "      <td>Is just me or do these last few weeks just mak...</td>\n",
       "      <td>BabyBumps</td>\n",
       "      <td>1596851772</td>\n",
       "      <td>denisemescudi</td>\n",
       "      <td>2</td>\n",
       "      <td>1</td>\n",
       "      <td>True</td>\n",
       "      <td>2020-08-07</td>\n",
       "    </tr>\n",
       "    <tr>\n",
       "      <th>4</th>\n",
       "      <td>FTM Breastfeeding question</td>\n",
       "      <td>Hey folks!\\n\\nFTM mom here. There’s a lot of t...</td>\n",
       "      <td>BabyBumps</td>\n",
       "      <td>1596853969</td>\n",
       "      <td>malinjl36</td>\n",
       "      <td>18</td>\n",
       "      <td>1</td>\n",
       "      <td>True</td>\n",
       "      <td>2020-08-07</td>\n",
       "    </tr>\n",
       "  </tbody>\n",
       "</table>\n",
       "</div>"
      ],
      "text/plain": [
       "                                               title  \\\n",
       "0                             Question about bottles   \n",
       "1  Anyone else getting that generation gap judgem...   \n",
       "2                                   Insurance perks.   \n",
       "3                           37 weeks and extra moody   \n",
       "4                         FTM Breastfeeding question   \n",
       "\n",
       "                                            selftext  subreddit  created_utc  \\\n",
       "0  I'm researching baby bottles and am trying to ...  BabyBumps   1596850138   \n",
       "1  Aunt- I don’t eat much meat, but when I was pr...  BabyBumps   1596850152   \n",
       "2  Hello All we are expecting our first in mid of...  BabyBumps   1596850522   \n",
       "3  Is just me or do these last few weeks just mak...  BabyBumps   1596851772   \n",
       "4  Hey folks!\\n\\nFTM mom here. There’s a lot of t...  BabyBumps   1596853969   \n",
       "\n",
       "            author  num_comments  score  is_self   timestamp  \n",
       "0      All_Hail_CC             4      1     True  2020-08-07  \n",
       "1  waterfallsummer            86      1     True  2020-08-07  \n",
       "2          mkokit1             9      1     True  2020-08-07  \n",
       "3    denisemescudi             2      1     True  2020-08-07  \n",
       "4        malinjl36            18      1     True  2020-08-07  "
      ]
     },
     "execution_count": 17,
     "metadata": {},
     "output_type": "execute_result"
    }
   ],
   "source": [
    "postpartum.head()"
   ]
  },
  {
   "cell_type": "markdown",
   "metadata": {},
   "source": [
    "## *VERY* Light EDA"
   ]
  },
  {
   "cell_type": "markdown",
   "metadata": {},
   "source": [
    "### Unique Authors"
   ]
  },
  {
   "cell_type": "code",
   "execution_count": 19,
   "metadata": {},
   "outputs": [
    {
     "data": {
      "text/plain": [
       "20024"
      ]
     },
     "execution_count": 19,
     "metadata": {},
     "output_type": "execute_result"
    }
   ],
   "source": [
    "womens_health['author'].nunique()"
   ]
  },
  {
   "cell_type": "code",
   "execution_count": 20,
   "metadata": {},
   "outputs": [
    {
     "data": {
      "text/plain": [
       "35517"
      ]
     },
     "execution_count": 20,
     "metadata": {},
     "output_type": "execute_result"
    }
   ],
   "source": [
    "fert_and_preg['author'].nunique()"
   ]
  },
  {
   "cell_type": "code",
   "execution_count": 21,
   "metadata": {},
   "outputs": [
    {
     "data": {
      "text/plain": [
       "21821"
      ]
     },
     "execution_count": 21,
     "metadata": {},
     "output_type": "execute_result"
    }
   ],
   "source": [
    "postpartum['author'].nunique()"
   ]
  },
  {
   "cell_type": "markdown",
   "metadata": {},
   "source": [
    "### Dates of Posts"
   ]
  },
  {
   "cell_type": "code",
   "execution_count": 24,
   "metadata": {},
   "outputs": [],
   "source": [
    "womens_health['timestamp'] = pd.to_datetime(womens_health['timestamp'])\n",
    "fert_and_preg['timestamp'] = pd.to_datetime(fert_and_preg['timestamp'])\n",
    "postpartum['timestamp'] = pd.to_datetime(postpartum['timestamp'])"
   ]
  },
  {
   "cell_type": "code",
   "execution_count": 25,
   "metadata": {},
   "outputs": [
    {
     "data": {
      "text/plain": [
       "count                   31385\n",
       "unique                    541\n",
       "top       2020-08-03 00:00:00\n",
       "freq                      103\n",
       "first     2019-02-15 00:00:00\n",
       "last      2020-08-08 00:00:00\n",
       "Name: timestamp, dtype: object"
      ]
     },
     "execution_count": 25,
     "metadata": {},
     "output_type": "execute_result"
    }
   ],
   "source": [
    "womens_health['timestamp'].describe()"
   ]
  },
  {
   "cell_type": "code",
   "execution_count": 26,
   "metadata": {},
   "outputs": [
    {
     "data": {
      "text/plain": [
       "count                   98138\n",
       "unique                    541\n",
       "top       2020-08-04 00:00:00\n",
       "freq                      261\n",
       "first     2019-02-15 00:00:00\n",
       "last      2020-08-08 00:00:00\n",
       "Name: timestamp, dtype: object"
      ]
     },
     "execution_count": 26,
     "metadata": {},
     "output_type": "execute_result"
    }
   ],
   "source": [
    "fert_and_preg['timestamp'].describe()"
   ]
  },
  {
   "cell_type": "code",
   "execution_count": 27,
   "metadata": {},
   "outputs": [
    {
     "data": {
      "text/plain": [
       "count                   51674\n",
       "unique                    542\n",
       "top       2020-06-22 00:00:00\n",
       "freq                      134\n",
       "first     2019-02-15 00:00:00\n",
       "last      2020-08-09 00:00:00\n",
       "Name: timestamp, dtype: object"
      ]
     },
     "execution_count": 27,
     "metadata": {},
     "output_type": "execute_result"
    }
   ],
   "source": [
    "postpartum['timestamp'].describe()"
   ]
  },
  {
   "cell_type": "code",
   "execution_count": null,
   "metadata": {},
   "outputs": [],
   "source": []
  }
 ],
 "metadata": {
  "kernelspec": {
   "display_name": "Python 3",
   "language": "python",
   "name": "python3"
  },
  "language_info": {
   "codemirror_mode": {
    "name": "ipython",
    "version": 3
   },
   "file_extension": ".py",
   "mimetype": "text/x-python",
   "name": "python",
   "nbconvert_exporter": "python",
   "pygments_lexer": "ipython3",
   "version": "3.7.6"
  }
 },
 "nbformat": 4,
 "nbformat_minor": 4
}
