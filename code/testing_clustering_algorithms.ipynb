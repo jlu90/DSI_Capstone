{
 "cells": [
  {
   "cell_type": "markdown",
   "metadata": {},
   "source": [
    "## Imports"
   ]
  },
  {
   "cell_type": "code",
   "execution_count": 1,
   "metadata": {},
   "outputs": [],
   "source": [
    "import pandas as pd\n",
    "import numpy as np\n",
    "import matplotlib.pyplot as plt\n",
    "import seaborn as sns\n",
    "import pickle\n",
    "\n",
    "# Spacy\n",
    "import spacy\n",
    "\n",
    "# Sklearn\n",
    "from sklearn.feature_extraction.text import TfidfVectorizer\n",
    "from sklearn.cluster import KMeans, DBSCAN\n",
    "from sklearn.metrics import silhouette_score\n",
    "\n",
    "# NLTK\n",
    "from nltk.corpus import stopwords\n",
    "\n",
    "# Silence Future Warnings\n",
    "import warnings\n",
    "warnings.simplefilter(action='ignore', category=FutureWarning)"
   ]
  },
  {
   "cell_type": "markdown",
   "metadata": {},
   "source": [
    "## Read-In Data"
   ]
  },
  {
   "cell_type": "code",
   "execution_count": 2,
   "metadata": {},
   "outputs": [
    {
     "name": "stdout",
     "output_type": "stream",
     "text": [
      "Health: (30616, 7)\n",
      "ObsGyn: (92943, 7)\n",
      "Pospar: (49094, 7)\n"
     ]
    }
   ],
   "source": [
    "health = pd.read_csv('../data/womens_health_preprocessed.csv', lineterminator='\\n')\n",
    "print(f'Health: {health.shape}')\n",
    "obsgyn = pd.read_csv('../data/fertility_and_pregnancy_preprocessed.csv')\n",
    "print(f'ObsGyn: {obsgyn.shape}')\n",
    "pospar = pd.read_csv('../data/postpartum_preprocessed.csv')\n",
    "print(f'Pospar: {pospar.shape}')"
   ]
  },
  {
   "cell_type": "markdown",
   "metadata": {},
   "source": [
    "## Stop Words"
   ]
  },
  {
   "cell_type": "code",
   "execution_count": 3,
   "metadata": {},
   "outputs": [],
   "source": [
    "def add_stop_words(word_list, list_stop_words):\n",
    "    for word in word_list:\n",
    "        list_stop_words.add(word)\n",
    "        \n",
    "def remove_stop_words(word_list, list_stop_words):\n",
    "    for word in word_list:\n",
    "        list_stop_words.remove(word)"
   ]
  },
  {
   "cell_type": "code",
   "execution_count": 4,
   "metadata": {},
   "outputs": [],
   "source": [
    "# spaCy\n",
    "nlp = spacy.load('en_core_web_sm')\n",
    "stop_words_spacy = set(nlp.Defaults.stop_words)\n",
    "\n",
    "# nltk\n",
    "stop_words_nltk = set(stopwords.words('english'))\n",
    "\n",
    "# full list of stop words\n",
    "full_stop_words = stop_words_spacy.union(stop_words_nltk)\n",
    "\n",
    "words_to_add = ['like', 'know', 'want', 'feel', 'going', 'think', 'reddit', 'imgur', 'pron', 'officially', 'story', 'month', 'week', 'time', 'day', 'year', 'delete', 'saturday', 'sunday', 'monday', 'tuesday', 'wednesday', 'thursday', 'friday', 'subreddit']\n",
    "\n",
    "add_stop_words(words_to_add, full_stop_words)\n",
    "remove_stop_words(['not'], full_stop_words)"
   ]
  },
  {
   "cell_type": "markdown",
   "metadata": {},
   "source": [
    "## Create Tfidf Vectorizer"
   ]
  },
  {
   "cell_type": "code",
   "execution_count": 5,
   "metadata": {},
   "outputs": [],
   "source": [
    "def build_tvec(df, column, stop_words = full_stop_words):\n",
    "    tvec = TfidfVectorizer(max_df = 0.98, min_df = 0.005, ngram_range = (1,2), stop_words = stop_words)\n",
    "    dtm = tvec.fit_transform(df[column])\n",
    "    return tvec, dtm"
   ]
  },
  {
   "cell_type": "code",
   "execution_count": 6,
   "metadata": {},
   "outputs": [],
   "source": [
    "# Vectorizer, dtm are outputed from build_tvec\n",
    "\n",
    "health_vectorizer, health_dtm = build_tvec(health, 'lemma_text')\n",
    "obsgyn_vectorizer, obsgyn_dtm = build_tvec(obsgyn, 'lemma_text')\n",
    "pospar_vectorizer, pospar_dtm = build_tvec(pospar, 'lemma_text')"
   ]
  },
  {
   "cell_type": "code",
   "execution_count": 7,
   "metadata": {},
   "outputs": [],
   "source": [
    "health_terms = health_vectorizer.get_feature_names()\n",
    "obsgyn_terms = obsgyn_vectorizer.get_feature_names()\n",
    "pospar_terms = pospar_vectorizer.get_feature_names()"
   ]
  },
  {
   "cell_type": "markdown",
   "metadata": {},
   "source": [
    "## K-Means Clusters"
   ]
  },
  {
   "cell_type": "code",
   "execution_count": 8,
   "metadata": {},
   "outputs": [],
   "source": [
    "def grid_search_kmeans(dtm, k):\n",
    "    \n",
    "    # Build KMeans Model\n",
    "    kmeans = KMeans(n_clusters = k, random_state = 42, n_jobs = -1)\n",
    "    kmeans.fit(dtm)\n",
    "    \n",
    "    # Calculate Silhouette Score\n",
    "    preds = kmeans.fit_predict(dtm)\n",
    "    sil_score = silhouette_score(dtm, preds)\n",
    "        \n",
    "    return sil_score"
   ]
  },
  {
   "cell_type": "code",
   "execution_count": 9,
   "metadata": {},
   "outputs": [],
   "source": [
    "def build_kmeans(dtm, k):\n",
    "    \n",
    "    # Build KMeans Model\n",
    "    kmeans = KMeans(n_clusters = k, random_state = 42, n_jobs = -1)\n",
    "    kmeans.fit(dtm)\n",
    "       \n",
    "    return kmeans"
   ]
  },
  {
   "cell_type": "code",
   "execution_count": 10,
   "metadata": {},
   "outputs": [],
   "source": [
    "def plot_gs_results(start, stop, step, list_of_scores, title = None, x_label = None, y_label = None):\n",
    "    plt.figure(figsize = (12, 8))\n",
    "    sns.lineplot(x = range(start, stop, step), y = list_of_scores, linewidth = 2, color = '#B392AC')\n",
    "    plt.title(title, fontdict = {'fontsize': 15}, pad = 8)\n",
    "    plt.xlabel(x_label, fontdict = {'fontsize': 12}, labelpad = 8)\n",
    "    plt.ylabel(y_label, fontdict = {'fontsize': 12}, labelpad = 8)\n",
    "    plt.tight_layout();"
   ]
  },
  {
   "cell_type": "code",
   "execution_count": 11,
   "metadata": {},
   "outputs": [],
   "source": [
    "def get_topic_terms_kmeans(model, k, terms, n_terms = 15):\n",
    "# Code modified from # https://pythonprogramminglanguage.com/kmeans-text-clustering/\n",
    "\n",
    "    sorted_centroids = model.cluster_centers_.argsort()[:, ::-1]\n",
    "    \n",
    "    topic_dictionary = {}\n",
    "    for i in range(k):\n",
    "        topics_list = []\n",
    "        for index in sorted_centroids[i, :n_terms]:\n",
    "                topics_list.append(terms[index])\n",
    "        topic_dictionary[i] = topics_list\n",
    "    \n",
    "    return topic_dictionary"
   ]
  },
  {
   "cell_type": "markdown",
   "metadata": {},
   "source": [
    "### General Women's Health Data"
   ]
  },
  {
   "cell_type": "code",
   "execution_count": 12,
   "metadata": {},
   "outputs": [],
   "source": [
    "# health_silhouettes = []\n",
    "# for i in range(2, 31, 3):\n",
    "#     health_silhouettes.append(grid_search_kmeans(health_dtm, i))"
   ]
  },
  {
   "cell_type": "code",
   "execution_count": 13,
   "metadata": {},
   "outputs": [],
   "source": [
    "# plot_gs_results(2, 31, 3, \n",
    "#                 health_silhouettes, \n",
    "#                 title = 'Silhouette Score by Number of General Women\\'s Health Topics',\n",
    "#                 x_label = 'Number of Topics (k)',\n",
    "#                 y_label = 'Silhouette Score')"
   ]
  },
  {
   "cell_type": "code",
   "execution_count": 14,
   "metadata": {},
   "outputs": [],
   "source": [
    "health_kmeans = build_kmeans(health_dtm, 17)"
   ]
  },
  {
   "cell_type": "code",
   "execution_count": 15,
   "metadata": {},
   "outputs": [],
   "source": [
    "health['kmeans_cluster'] = health_kmeans.labels_"
   ]
  },
  {
   "cell_type": "code",
   "execution_count": 16,
   "metadata": {},
   "outputs": [],
   "source": [
    "health_kmeans_topics = get_topic_terms_kmeans(health_kmeans, 17, health_terms, n_terms = 15)"
   ]
  },
  {
   "cell_type": "markdown",
   "metadata": {},
   "source": [
    "### Exploration of Clusters\n",
    "\n",
    "#### Clusters Related to Health Concerns\n",
    "Cluster Number| Name| Top 5 Terms\n",
    "-|-|-\n",
    "0| Intrauterine Devices (IUDs)|IUD, period, copper, copper IUD, Mirena\n",
    "1|Late Periods/ Pregnancy|period, late, test, pregnancy, pregnant\n",
    "2|Infections (Yeast and Bacterial Vaginosis)|yeast, infection, yeast infection, discharge, BV\n",
    "4|Vaginal Symptoms|smell, discharge, vagina, odor, shower\n",
    "5|Periods and Bleeding|bleed, period, blood, bleeding, brown\n",
    "7|Gynecological Exams|pap, smear, pap smear, hpv, abnormal\n",
    "9|Ovarian Cysts|cyst, ovarian, ovarian cyst, pain, ovary\n",
    "10|Birth Control Pills| bc, birth, birth control, bleed, control\n",
    "12| Breast Health| breast, bra, boob, nipple, lump\n",
    "13|Infections (Urinary Tract Infection)|sex, uti, vagina, pee, doctor\n",
    "14| Period Pain| pain, period, cramp, doctor, bad\n",
    "15|Birth Control Pills| birth, birth control, control, control pill, doctor\n",
    "\n",
    "#### Clusters Not Related to Health Concerns\n",
    "Cluster Number| Name| Top 5 Terms\n",
    "-|-|-\n",
    "3| Hair and Depilation| hair, shave, grow, look, dye\n",
    "6| Unknown| guy, work, people, job, thing\n",
    "8| Unknown| help, look, try, good, woman\n",
    "11| Friendship| friend, good friend, talk, people, guy\n",
    "12| Clothing and Appearance| wear, dress, look, jean, makeup\n"
   ]
  },
  {
   "cell_type": "markdown",
   "metadata": {},
   "source": [
    "### Fertility and Pregnancy Data"
   ]
  },
  {
   "cell_type": "code",
   "execution_count": 17,
   "metadata": {},
   "outputs": [],
   "source": [
    "# obsgyn_silhouettes = []\n",
    "# for i in range(2, 31, 3):\n",
    "#     obsgyn_silhouettes.append(grid_search_kmeans(obsgyn_dtm, i))"
   ]
  },
  {
   "cell_type": "code",
   "execution_count": 18,
   "metadata": {},
   "outputs": [],
   "source": [
    "# plot_gs_results(2, 31, 3, \n",
    "#                 obsgyn_silhouettes, \n",
    "#                 title = 'Silhouette Score by Number of Pregnancy and Fertility Topics (KMeans)',\n",
    "#                 x_label = 'Number of Topics (k)',\n",
    "#                 y_label = 'Silhouette Score')"
   ]
  },
  {
   "cell_type": "code",
   "execution_count": 19,
   "metadata": {},
   "outputs": [],
   "source": [
    "obsgyn_kmeans = build_kmeans(obsgyn_dtm, 15)"
   ]
  },
  {
   "cell_type": "code",
   "execution_count": 20,
   "metadata": {},
   "outputs": [],
   "source": [
    "obsgyn_kmeans_topics = get_topic_terms_kmeans(obsgyn_kmeans, 15, obsgyn_terms)"
   ]
  },
  {
   "cell_type": "markdown",
   "metadata": {},
   "source": [
    "#### Clusters Related to Health Concerns\n",
    "Cluster Number| Name| Top 5 Terms\n",
    "-|-|-\n",
    "0| Sleep| pain, sleep, night, bad, wake\n",
    "2| Ovulation| cycle, CD (cycle day), OPK (ovulation predictor kit), ovulation, ovulate\n",
    "3| Pregnancy Tests| test, positive, pregnancy test, negative, pregnancy\n",
    "4| Weight During Pregnancy| eat, weight, food, gain, pregnancy\n",
    "5| Obstetrics Appointments| ultrasound, doctor, appointment, scan, blood\n",
    "6| Period and Pregnancy| period, test, start, pregnant, late\n",
    "9| Fetal Movement| kick, movement, baby, baby kick, little\n",
    "10| Labor| labor, contraction, hour, epidural, CM (centimeters)\n",
    "14| Pregnancy Status| pregnant, pregnancy, find, try, find pregnant\n",
    "\n",
    "#### Clusters Not Related to Health Concerns\n",
    "Cluster Number| Name| Top 5 Terms\n",
    "-|-|-\n",
    "1| Unknown| pregnancy, help, try, look, start\n",
    "7| Baby Shower| shower, baby shower, baby, gift, friend\n",
    "8| Work and Pregnancy| work, job, leave, home, maternity\n",
    "11| Purchases for Baby| baby, buy, need, thing, seat\n",
    "12| Gender Reveal| boy, girl, gender, baby, find\n",
    "13| Pregnancy Announcement| tell, family, baby, husband, friend"
   ]
  },
  {
   "cell_type": "markdown",
   "metadata": {},
   "source": [
    "### Pospartum Data"
   ]
  },
  {
   "cell_type": "code",
   "execution_count": 21,
   "metadata": {},
   "outputs": [],
   "source": [
    "# pospar_silhouettes = []\n",
    "# for i in range(2, 31, 3):\n",
    "#     pospar_silhouettes.append(grid_search_kmeans(pospar_dtm, i))"
   ]
  },
  {
   "cell_type": "code",
   "execution_count": 22,
   "metadata": {},
   "outputs": [],
   "source": [
    "# plot_gs_results(2, 31, 3, \n",
    "#                 pospar_silhouettes, \n",
    "#                 title = 'Silhouette Score by Number of Postpartum/ Early Parenthood Topics (KMeans)',\n",
    "#                 x_label = 'Number of Topics (k)',\n",
    "#                 y_label = 'Silhouette Score')"
   ]
  },
  {
   "cell_type": "code",
   "execution_count": 23,
   "metadata": {},
   "outputs": [],
   "source": [
    "pospar_kmeans_14 = build_kmeans(pospar_dtm, 14)"
   ]
  },
  {
   "cell_type": "code",
   "execution_count": 24,
   "metadata": {},
   "outputs": [],
   "source": [
    "pospar_kmeans_topics_14 = get_topic_terms_kmeans(pospar_kmeans_14, 14, pospar_terms)"
   ]
  },
  {
   "cell_type": "markdown",
   "metadata": {},
   "source": [
    "#### Clusters Related to Health Concerns\n",
    "Cluster Number| Name| Top 5 Terms\n",
    "-|-|-\n",
    "0| Breastfeeding(Latching)| nipple, latch, shield, nipple shield, feed\n",
    "2| Obstetrics Appointments| ultrasound, doctor, baby, scan, appointment\n",
    "3| Pain During Pregnancy| pain, bad, hurt, experience, help\n",
    "4| Baby's Sleep Schedule| sleep, night, wake, hour, feed\n",
    "5| Pregnancy Experience| pregnancy, pregnant, eat, weight, gain\n",
    "6| Breastfeeding (Pumping)| pump, supply, work, oz (ounces), breast\n",
    "7| Pregnancy Tests| test, period, positive, pregnancy, pregnancy test\n",
    "8| Breastfeeding (Random)| milk, feed, bottle, breast, pump\n",
    "9| Breastfeeding (Random)| breastfeed, nurse, wean, old, nursing\n",
    "10| Labor| contraction, labor, CM (centimeters), epidural, push\n",
    "\n",
    "\n",
    "\n",
    "#### Clusters Not Related to Health Concerns\n",
    "Cluster Number| Name| Top 5 Terms\n",
    "-|-|-\n",
    "1| Unknown| baby, birth, help, look, try\n",
    "11| Maternity Wear| maternity, bra, wear, clothe, nursing\n",
    "12| Pregnancy Announcement| baby, tell, husband, family, work\n",
    "13| Baby Shower| baby, shower, baby shower, buy, registry"
   ]
  },
  {
   "cell_type": "markdown",
   "metadata": {},
   "source": [
    "## Hierarchical Clusters"
   ]
  },
  {
   "cell_type": "code",
   "execution_count": 25,
   "metadata": {},
   "outputs": [],
   "source": [
    "import scipy.cluster.hierarchy as sch"
   ]
  },
  {
   "cell_type": "code",
   "execution_count": 27,
   "metadata": {},
   "outputs": [
    {
     "ename": "ValueError",
     "evalue": "The condensed distance matrix must contain only finite values.",
     "output_type": "error",
     "traceback": [
      "\u001b[0;31m---------------------------------------------------------------------------\u001b[0m",
      "\u001b[0;31mValueError\u001b[0m                                Traceback (most recent call last)",
      "\u001b[0;32m<ipython-input-27-b73d3ae1ab0a>\u001b[0m in \u001b[0;36m<module>\u001b[0;34m\u001b[0m\n\u001b[0;32m----> 1\u001b[0;31m \u001b[0mhealth_linkage\u001b[0m \u001b[0;34m=\u001b[0m \u001b[0msch\u001b[0m\u001b[0;34m.\u001b[0m\u001b[0mlinkage\u001b[0m\u001b[0;34m(\u001b[0m\u001b[0mhealth_dtm\u001b[0m\u001b[0;34m.\u001b[0m\u001b[0mtoarray\u001b[0m\u001b[0;34m(\u001b[0m\u001b[0;34m)\u001b[0m\u001b[0;34m,\u001b[0m \u001b[0mmetric\u001b[0m \u001b[0;34m=\u001b[0m \u001b[0;34m'cosine'\u001b[0m\u001b[0;34m)\u001b[0m\u001b[0;34m\u001b[0m\u001b[0;34m\u001b[0m\u001b[0m\n\u001b[0m",
      "\u001b[0;32m~/anaconda3/lib/python3.7/site-packages/scipy/cluster/hierarchy.py\u001b[0m in \u001b[0;36mlinkage\u001b[0;34m(y, method, metric, optimal_ordering)\u001b[0m\n\u001b[1;32m   1055\u001b[0m \u001b[0;34m\u001b[0m\u001b[0m\n\u001b[1;32m   1056\u001b[0m     \u001b[0;32mif\u001b[0m \u001b[0;32mnot\u001b[0m \u001b[0mnp\u001b[0m\u001b[0;34m.\u001b[0m\u001b[0mall\u001b[0m\u001b[0;34m(\u001b[0m\u001b[0mnp\u001b[0m\u001b[0;34m.\u001b[0m\u001b[0misfinite\u001b[0m\u001b[0;34m(\u001b[0m\u001b[0my\u001b[0m\u001b[0;34m)\u001b[0m\u001b[0;34m)\u001b[0m\u001b[0;34m:\u001b[0m\u001b[0;34m\u001b[0m\u001b[0;34m\u001b[0m\u001b[0m\n\u001b[0;32m-> 1057\u001b[0;31m         raise ValueError(\"The condensed distance matrix must contain only \"\n\u001b[0m\u001b[1;32m   1058\u001b[0m                          \"finite values.\")\n\u001b[1;32m   1059\u001b[0m \u001b[0;34m\u001b[0m\u001b[0m\n",
      "\u001b[0;31mValueError\u001b[0m: The condensed distance matrix must contain only finite values."
     ]
    }
   ],
   "source": [
    "health_linkage = sch.linkage(health_dtm.toarray(), metric = 'cosine')"
   ]
  },
  {
   "cell_type": "code",
   "execution_count": null,
   "metadata": {},
   "outputs": [],
   "source": [
    "obsgyn_linkage = sch.linkage(obsgyn_dtm.toarray(), metric = 'cosine')"
   ]
  },
  {
   "cell_type": "code",
   "execution_count": null,
   "metadata": {},
   "outputs": [],
   "source": [
    "pospar_linkage = sch.linkage(pospar_dtm.toarray(), metric = 'cosine')"
   ]
  },
  {
   "cell_type": "code",
   "execution_count": null,
   "metadata": {},
   "outputs": [],
   "source": [
    "health_dendrogram = sch.dendrogram(health_linkage)"
   ]
  },
  {
   "cell_type": "code",
   "execution_count": null,
   "metadata": {},
   "outputs": [],
   "source": [
    "pospar_dendrogram = sch.dendrogram(pospar_linkage)"
   ]
  },
  {
   "cell_type": "code",
   "execution_count": null,
   "metadata": {},
   "outputs": [],
   "source": [
    "obsgyn_dendrogram = sch.dendrogram(obsgyn_linkage)"
   ]
  },
  {
   "cell_type": "markdown",
   "metadata": {},
   "source": [
    "### General Women's Health"
   ]
  }
 ],
 "metadata": {
  "kernelspec": {
   "display_name": "Python 3",
   "language": "python",
   "name": "python3"
  },
  "language_info": {
   "codemirror_mode": {
    "name": "ipython",
    "version": 3
   },
   "file_extension": ".py",
   "mimetype": "text/x-python",
   "name": "python",
   "nbconvert_exporter": "python",
   "pygments_lexer": "ipython3",
   "version": "3.7.6"
  }
 },
 "nbformat": 4,
 "nbformat_minor": 4
}
