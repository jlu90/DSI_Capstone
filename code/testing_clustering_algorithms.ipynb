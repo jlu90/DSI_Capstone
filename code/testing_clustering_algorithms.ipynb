{
 "cells": [
  {
   "cell_type": "markdown",
   "metadata": {},
   "source": [
    "## Imports"
   ]
  },
  {
   "cell_type": "code",
   "execution_count": 2,
   "metadata": {},
   "outputs": [],
   "source": [
    "import pandas as pd\n",
    "import numpy as np\n",
    "import matplotlib.pyplot as plt\n",
    "import seaborn as sns\n",
    "import pickle\n",
    "\n",
    "# Spacy\n",
    "import spacy\n",
    "\n",
    "# Sklearn\n",
    "from sklearn.feature_extraction.text import TfidfVectorizer\n",
    "from sklearn.cluster import KMeans, DBSCAN\n",
    "from sklearn.metrics import silhouette_score\n",
    "from sklearn.model_selection import train_test_split\n",
    "\n",
    "# NLTK\n",
    "from nltk.corpus import stopwords\n",
    "\n",
    "# Silence Future Warnings\n",
    "import warnings\n",
    "warnings.simplefilter(action='ignore', category=FutureWarning)"
   ]
  },
  {
   "cell_type": "markdown",
   "metadata": {},
   "source": [
    "## Read-In Data"
   ]
  },
  {
   "cell_type": "code",
   "execution_count": 3,
   "metadata": {},
   "outputs": [
    {
     "name": "stdout",
     "output_type": "stream",
     "text": [
      "Health: (30616, 7)\n",
      "ObsGyn: (92943, 7)\n",
      "Pospar: (49094, 7)\n"
     ]
    }
   ],
   "source": [
    "health = pd.read_csv('../data/womens_health_preprocessed.csv', lineterminator='\\n')\n",
    "print(f'Health: {health.shape}')\n",
    "obsgyn = pd.read_csv('../data/fertility_and_pregnancy_preprocessed.csv')\n",
    "print(f'ObsGyn: {obsgyn.shape}')\n",
    "pospar = pd.read_csv('../data/postpartum_preprocessed.csv')\n",
    "print(f'Pospar: {pospar.shape}')"
   ]
  },
  {
   "cell_type": "markdown",
   "metadata": {},
   "source": [
    "## Stop Words"
   ]
  },
  {
   "cell_type": "code",
   "execution_count": 4,
   "metadata": {},
   "outputs": [],
   "source": [
    "def add_stop_words(word_list, list_stop_words):\n",
    "    for word in word_list:\n",
    "        list_stop_words.add(word)\n",
    "        \n",
    "def remove_stop_words(word_list, list_stop_words):\n",
    "    for word in word_list:\n",
    "        list_stop_words.remove(word)"
   ]
  },
  {
   "cell_type": "code",
   "execution_count": 5,
   "metadata": {},
   "outputs": [],
   "source": [
    "# spaCy\n",
    "nlp = spacy.load('en_core_web_sm')\n",
    "stop_words_spacy = set(nlp.Defaults.stop_words)\n",
    "\n",
    "# nltk\n",
    "stop_words_nltk = set(stopwords.words('english'))\n",
    "\n",
    "# full list of stop words\n",
    "full_stop_words = stop_words_spacy.union(stop_words_nltk)\n",
    "\n",
    "words_to_add = ['like', 'know', 'want', 'feel', 'going', 'think', 'reddit', 'imgur', 'pron', 'officially', 'story', 'month', 'week', 'time', 'day', 'year', 'delete', 'saturday', 'sunday', 'monday', 'tuesday', 'wednesday', 'thursday', 'friday', 'subreddit']\n",
    "\n",
    "add_stop_words(words_to_add, full_stop_words)\n",
    "remove_stop_words(['not'], full_stop_words)"
   ]
  },
  {
   "cell_type": "markdown",
   "metadata": {},
   "source": [
    "## Create Tfidf Vectorizer"
   ]
  },
  {
   "cell_type": "code",
   "execution_count": 6,
   "metadata": {},
   "outputs": [],
   "source": [
    "def build_tvec(df, column, stop_words = full_stop_words):\n",
    "    tvec = TfidfVectorizer(max_df = 0.98, min_df = 0.005, ngram_range = (1,2), stop_words = stop_words)\n",
    "    dtm = tvec.fit_transform(df[column])\n",
    "    return tvec, dtm"
   ]
  },
  {
   "cell_type": "code",
   "execution_count": 7,
   "metadata": {},
   "outputs": [],
   "source": [
    "# Vectorizer, dtm are outputed from build_tvec\n",
    "\n",
    "health_vectorizer, health_dtm = build_tvec(health, 'lemma_text')\n",
    "obsgyn_vectorizer, obsgyn_dtm = build_tvec(obsgyn, 'lemma_text')\n",
    "pospar_vectorizer, pospar_dtm = build_tvec(pospar, 'lemma_text')"
   ]
  },
  {
   "cell_type": "code",
   "execution_count": 8,
   "metadata": {},
   "outputs": [],
   "source": [
    "health_terms = health_vectorizer.get_feature_names()\n",
    "obsgyn_terms = obsgyn_vectorizer.get_feature_names()\n",
    "pospar_terms = pospar_vectorizer.get_feature_names()"
   ]
  },
  {
   "cell_type": "markdown",
   "metadata": {},
   "source": [
    "## K-Means Clusters"
   ]
  },
  {
   "cell_type": "code",
   "execution_count": 9,
   "metadata": {},
   "outputs": [],
   "source": [
    "def grid_search_kmeans(dtm, k):\n",
    "    \n",
    "    # Build KMeans Model\n",
    "    kmeans = KMeans(n_clusters = k, random_state = 42, n_jobs = -1)\n",
    "    kmeans.fit(dtm)\n",
    "    \n",
    "    # Calculate Silhouette Score\n",
    "    preds = kmeans.fit_predict(dtm)\n",
    "    sil_score = silhouette_score(dtm, preds)\n",
    "        \n",
    "    return sil_score"
   ]
  },
  {
   "cell_type": "code",
   "execution_count": 10,
   "metadata": {},
   "outputs": [],
   "source": [
    "def build_kmeans(dtm, k):\n",
    "    \n",
    "    # Build KMeans Model\n",
    "    kmeans = KMeans(n_clusters = k, random_state = 42, n_jobs = -1)\n",
    "    kmeans.fit(dtm)\n",
    "       \n",
    "    return kmeans"
   ]
  },
  {
   "cell_type": "code",
   "execution_count": 11,
   "metadata": {},
   "outputs": [],
   "source": [
    "def plot_gs_results(start, stop, step, list_of_scores, title = None, x_label = None, y_label = None):\n",
    "    plt.figure(figsize = (12, 8))\n",
    "    sns.lineplot(x = range(start, stop, step), y = list_of_scores, linewidth = 2, color = '#B392AC')\n",
    "    plt.title(title, fontdict = {'fontsize': 15}, pad = 8)\n",
    "    plt.xlabel(x_label, fontdict = {'fontsize': 12}, labelpad = 8)\n",
    "    plt.ylabel(y_label, fontdict = {'fontsize': 12}, labelpad = 8)\n",
    "    plt.tight_layout();"
   ]
  },
  {
   "cell_type": "code",
   "execution_count": 12,
   "metadata": {},
   "outputs": [],
   "source": [
    "def get_topic_terms_kmeans(model, k, terms, n_terms = 15):\n",
    "# Code modified from # https://pythonprogramminglanguage.com/kmeans-text-clustering/\n",
    "\n",
    "    sorted_centroids = model.cluster_centers_.argsort()[:, ::-1]\n",
    "    \n",
    "    topic_dictionary = {}\n",
    "    for i in range(k):\n",
    "        topics_list = []\n",
    "        for index in sorted_centroids[i, :n_terms]:\n",
    "                topics_list.append(terms[index])\n",
    "        topic_dictionary[i] = topics_list\n",
    "    \n",
    "    return topic_dictionary"
   ]
  },
  {
   "cell_type": "markdown",
   "metadata": {},
   "source": [
    "### General Women's Health Data"
   ]
  },
  {
   "cell_type": "code",
   "execution_count": 14,
   "metadata": {},
   "outputs": [],
   "source": [
    "health_kmeans = build_kmeans(health_dtm, 17)"
   ]
  },
  {
   "cell_type": "code",
   "execution_count": 15,
   "metadata": {},
   "outputs": [],
   "source": [
    "health['kmeans_cluster'] = health_kmeans.labels_"
   ]
  },
  {
   "cell_type": "code",
   "execution_count": 16,
   "metadata": {},
   "outputs": [],
   "source": [
    "health_kmeans_topics = get_topic_terms_kmeans(health_kmeans, 17, health_terms, n_terms = 15)"
   ]
  },
  {
   "cell_type": "markdown",
   "metadata": {},
   "source": [
    "### Exploration of Clusters\n",
    "\n",
    "#### Clusters Related to Health Concerns\n",
    "Cluster Number| Name| Top 5 Terms\n",
    "-|-|-\n",
    "0| Intrauterine Devices (IUDs)|IUD, period, copper, copper IUD, Mirena\n",
    "1|Late Periods/ Pregnancy|period, late, test, pregnancy, pregnant\n",
    "2|Infections (Yeast and Bacterial Vaginosis)|yeast, infection, yeast infection, discharge, BV\n",
    "4|Vaginal Symptoms|smell, discharge, vagina, odor, shower\n",
    "5|Periods and Bleeding|bleed, period, blood, bleeding, brown\n",
    "7|Gynecological Exams|pap, smear, pap smear, hpv, abnormal\n",
    "9|Ovarian Cysts|cyst, ovarian, ovarian cyst, pain, ovary\n",
    "10|Birth Control Pills| bc, birth, birth control, bleed, control\n",
    "12| Breast Health| breast, bra, boob, nipple, lump\n",
    "13|Infections (Urinary Tract Infection)|sex, uti, vagina, pee, doctor\n",
    "14| Period Pain| pain, period, cramp, doctor, bad\n",
    "15|Birth Control Pills| birth, birth control, control, control pill, doctor\n",
    "\n",
    "#### Clusters Not Related to Health Concerns\n",
    "Cluster Number| Name| Top 5 Terms\n",
    "-|-|-\n",
    "3| Hair and Depilation| hair, shave, grow, look, dye\n",
    "6| Unknown| guy, work, people, job, thing\n",
    "8| Unknown| help, look, try, good, woman\n",
    "11| Friendship| friend, good friend, talk, people, guy\n",
    "12| Clothing and Appearance| wear, dress, look, jean, makeup\n"
   ]
  },
  {
   "cell_type": "markdown",
   "metadata": {},
   "source": [
    "### Fertility and Pregnancy Data"
   ]
  },
  {
   "cell_type": "code",
   "execution_count": 19,
   "metadata": {},
   "outputs": [],
   "source": [
    "obsgyn_kmeans = build_kmeans(obsgyn_dtm, 15)"
   ]
  },
  {
   "cell_type": "code",
   "execution_count": 20,
   "metadata": {},
   "outputs": [],
   "source": [
    "obsgyn_kmeans_topics = get_topic_terms_kmeans(obsgyn_kmeans, 15, obsgyn_terms)"
   ]
  },
  {
   "cell_type": "markdown",
   "metadata": {},
   "source": [
    "<h4 align = center> Clusters Related to Health Concerns </h4>\n",
    "\n",
    "Cluster Number| Name| Top 5 Terms\n",
    "-|-|-\n",
    "0| Sleep| pain, sleep, night, bad, wake\n",
    "2| Ovulation| cycle, CD (cycle day), OPK (ovulation predictor kit), ovulation, ovulate\n",
    "3| Pregnancy Tests| test, positive, pregnancy test, negative, pregnancy\n",
    "4| Weight During Pregnancy| eat, weight, food, gain, pregnancy\n",
    "5| Obstetrics Appointments| ultrasound, doctor, appointment, scan, blood\n",
    "6| Period and Pregnancy| period, test, start, pregnant, late\n",
    "9| Fetal Movement| kick, movement, baby, baby kick, little\n",
    "10| Labor| labor, contraction, hour, epidural, CM (centimeters)\n",
    "14| Pregnancy Status| pregnant, pregnancy, find, try, find pregnant\n",
    "\n",
    "<h4 align = center> Clusters Not Related to Health Concerns </h4>\n",
    "\n",
    "Cluster Number| Name| Top 5 Terms\n",
    "-|-|-\n",
    "1| Unknown| pregnancy, help, try, look, start\n",
    "7| Baby Shower| shower, baby shower, baby, gift, friend\n",
    "8| Work and Pregnancy| work, job, leave, home, maternity\n",
    "11| Purchases for Baby| baby, buy, need, thing, seat\n",
    "12| Gender Reveal| boy, girl, gender, baby, find\n",
    "13| Pregnancy Announcement| tell, family, baby, husband, friend"
   ]
  },
  {
   "cell_type": "markdown",
   "metadata": {},
   "source": [
    "### Pospartum Data"
   ]
  },
  {
   "cell_type": "code",
   "execution_count": 13,
   "metadata": {},
   "outputs": [],
   "source": [
    "pospar_kmeans_10 = build_kmeans(pospar_dtm, 10)"
   ]
  },
  {
   "cell_type": "code",
   "execution_count": 14,
   "metadata": {},
   "outputs": [],
   "source": [
    "pospar_kmeans_topics_14 = get_topic_terms_kmeans(pospar_kmeans_10, 10, pospar_terms)"
   ]
  },
  {
   "cell_type": "markdown",
   "metadata": {},
   "source": [
    "#### Clusters Related to Health Concerns\n",
    "Cluster Number| Name| Top 5 Terms\n",
    "-|-|-\n",
    "0| Breastfeeding(Latching)| nipple, latch, shield, nipple shield, feed\n",
    "2| Obstetrics Appointments| ultrasound, doctor, baby, scan, appointment\n",
    "3| Pain During Pregnancy| pain, bad, hurt, experience, help\n",
    "4| Baby's Sleep Schedule| sleep, night, wake, hour, feed\n",
    "5| Pregnancy Experience| pregnancy, pregnant, eat, weight, gain\n",
    "6| Breastfeeding (Pumping)| pump, supply, work, oz (ounces), breast\n",
    "7| Pregnancy Tests| test, period, positive, pregnancy, pregnancy test\n",
    "8| Breastfeeding (Random)| milk, feed, bottle, breast, pump\n",
    "9| Breastfeeding (Random)| breastfeed, nurse, wean, old, nursing\n",
    "10| Labor| contraction, labor, CM (centimeters), epidural, push\n",
    "\n",
    "\n",
    "\n",
    "#### Clusters Not Related to Health Concerns\n",
    "Cluster Number| Name| Top 5 Terms\n",
    "-|-|-\n",
    "1| Unknown| baby, birth, help, look, try\n",
    "11| Maternity Wear| maternity, bra, wear, clothe, nursing\n",
    "12| Pregnancy Announcement| baby, tell, husband, family, work\n",
    "13| Baby Shower| baby, shower, baby shower, buy, registry"
   ]
  },
  {
   "cell_type": "markdown",
   "metadata": {},
   "source": [
    "## Hierarchical Clusters"
   ]
  },
  {
   "cell_type": "markdown",
   "metadata": {},
   "source": [
    "#### Reduce Size of Data"
   ]
  },
  {
   "cell_type": "code",
   "execution_count": 9,
   "metadata": {},
   "outputs": [],
   "source": [
    "health_sample_1, health_sample_2 = train_test_split(health_dtm, test_size = 0.4)\n",
    "obsgyn_sample_1, obsgyn_sample_2 = train_test_split(obsgyn_dtm, test_size = 0.4)\n",
    "pospar_sample_1, pospar_sample_2 = train_test_split(pospar_dtm, test_size = 0.4)"
   ]
  },
  {
   "cell_type": "code",
   "execution_count": 10,
   "metadata": {},
   "outputs": [
    {
     "data": {
      "text/plain": [
       "(55765, 1565)"
      ]
     },
     "execution_count": 10,
     "metadata": {},
     "output_type": "execute_result"
    }
   ],
   "source": [
    "obsgyn_sample_1.shape"
   ]
  },
  {
   "cell_type": "code",
   "execution_count": 12,
   "metadata": {},
   "outputs": [],
   "source": [
    "# for clustering\n",
    "from scipy.cluster.hierarchy import ward, dendrogram, fcluster, single, complete\n",
    "from sklearn.metrics.pairwise import cosine_similarity\n",
    "from sklearn.metrics import silhouette_score"
   ]
  },
  {
   "cell_type": "code",
   "execution_count": 15,
   "metadata": {},
   "outputs": [],
   "source": [
    "health_dist = 1 - cosine_similarity(health_sample_1)"
   ]
  },
  {
   "cell_type": "code",
   "execution_count": 14,
   "metadata": {},
   "outputs": [],
   "source": [
    "pospar_dist = 1 - cosine_similarity(pospar_sample_1)"
   ]
  },
  {
   "cell_type": "code",
   "execution_count": 13,
   "metadata": {},
   "outputs": [],
   "source": [
    "obsgyn_dist = 1 - cosine_similarity(obsgyn_sample_1)"
   ]
  },
  {
   "cell_type": "code",
   "execution_count": 16,
   "metadata": {},
   "outputs": [],
   "source": [
    "health_dist -= health_dist.min()\n",
    "pospar_dist -= pospar_dist.min()\n",
    "obsgyn_dist -= obsgyn_dist.min()"
   ]
  },
  {
   "cell_type": "code",
   "execution_count": 17,
   "metadata": {},
   "outputs": [],
   "source": [
    "health_link = ward(health_dist)"
   ]
  },
  {
   "cell_type": "code",
   "execution_count": null,
   "metadata": {},
   "outputs": [],
   "source": [
    "pospar_dist = ward(pospar_dist)"
   ]
  },
  {
   "cell_type": "code",
   "execution_count": null,
   "metadata": {},
   "outputs": [],
   "source": [
    "obsgyn_dist = ward(obsgyn_dist)"
   ]
  },
  {
   "cell_type": "markdown",
   "metadata": {},
   "source": [
    "### General Women's Health"
   ]
  }
 ],
 "metadata": {
  "kernelspec": {
   "display_name": "Python 3",
   "language": "python",
   "name": "python3"
  },
  "language_info": {
   "codemirror_mode": {
    "name": "ipython",
    "version": 3
   },
   "file_extension": ".py",
   "mimetype": "text/x-python",
   "name": "python",
   "nbconvert_exporter": "python",
   "pygments_lexer": "ipython3",
   "version": "3.7.6"
  }
 },
 "nbformat": 4,
 "nbformat_minor": 4
}
