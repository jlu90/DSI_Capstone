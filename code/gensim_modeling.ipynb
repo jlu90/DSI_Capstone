{
 "cells": [
  {
   "cell_type": "markdown",
   "metadata": {},
   "source": [
    "# Topic Modeling"
   ]
  },
  {
   "cell_type": "markdown",
   "metadata": {},
   "source": [
    "## Imports"
   ]
  },
  {
   "cell_type": "code",
   "execution_count": 170,
   "metadata": {},
   "outputs": [],
   "source": [
    "import pandas as pd\n",
    "import numpy as np\n",
    "import matplotlib.pyplot as plt\n",
    "import seaborn as sns\n",
    "from gensim import corpora\n",
    "from gensim.models import LsiModel, LdaModel\n",
    "from nltk.tokenize import RegexpTokenizer\n",
    "from nltk.corpus import stopwords\n",
    "from nltk.stem.porter import PorterStemmer\n",
    "from gensim.models.coherencemodel import CoherenceModel\n",
    "import spacy\n",
    "from sklearn.feature_extraction.text import TfidfVectorizer\n",
    "from gensim import matutils\n",
    "import scipy.sparse\n",
    "import gensim\n",
    "import pyLDAvis\n",
    "import pyLDAvis.gensim"
   ]
  },
  {
   "cell_type": "markdown",
   "metadata": {},
   "source": [
    "## Read-In Data"
   ]
  },
  {
   "cell_type": "code",
   "execution_count": 2,
   "metadata": {},
   "outputs": [
    {
     "name": "stdout",
     "output_type": "stream",
     "text": [
      "Health: (30616, 8)\n",
      "ObsGyn: (92943, 8)\n",
      "Pospar: (49094, 8)\n"
     ]
    }
   ],
   "source": [
    "health = pd.read_csv('../data/womens_health_preprocessed.csv', lineterminator='\\n')\n",
    "print(f'Health: {health.shape}')\n",
    "obsgyn = pd.read_csv('../data/fertility_and_pregnancy_preprocessed.csv')\n",
    "print(f'ObsGyn: {obsgyn.shape}')\n",
    "pospar = pd.read_csv('../data/postpartum_preprocessed.csv')\n",
    "print(f'Pospar: {pospar.shape}')"
   ]
  },
  {
   "cell_type": "markdown",
   "metadata": {},
   "source": [
    "## Define Stop Words"
   ]
  },
  {
   "cell_type": "code",
   "execution_count": 3,
   "metadata": {},
   "outputs": [],
   "source": [
    "def add_stop_words(word_list, list_stop_words):\n",
    "    for word in word_list:\n",
    "        list_stop_words.add(word)\n",
    "        \n",
    "def remove_stop_words(word_list, list_stop_words):\n",
    "    for word in word_list:\n",
    "        list_stop_words.remove(word)"
   ]
  },
  {
   "cell_type": "code",
   "execution_count": 4,
   "metadata": {},
   "outputs": [],
   "source": [
    "# spaCy\n",
    "nlp = spacy.load('en_core_web_sm')\n",
    "stop_words_spacy = set(nlp.Defaults.stop_words)\n",
    "\n",
    "# nltk\n",
    "stop_words_nltk = set(stopwords.words('english'))\n",
    "\n",
    "# full list of stop words\n",
    "full_stop_words = stop_words_spacy.union(stop_words_nltk)\n",
    "\n",
    "words_to_add = ['like', 'know', 'want', 'feel', 'going', 'think', 'reddit', 'imgur', 'pron', 'officially', 'story', 'month', 'week', 'time', 'day', 'year', 'delete', 'saturday', 'sunday', 'monday', 'tuesday', 'wednesday', 'thursday', 'friday']\n",
    "\n",
    "add_stop_words(words_to_add, full_stop_words)\n",
    "remove_stop_words(['not'], full_stop_words)"
   ]
  },
  {
   "cell_type": "markdown",
   "metadata": {},
   "source": [
    "## Create Document Term Matrix From Corpus"
   ]
  },
  {
   "cell_type": "markdown",
   "metadata": {},
   "source": [
    "#### Function"
   ]
  },
  {
   "cell_type": "code",
   "execution_count": 5,
   "metadata": {},
   "outputs": [],
   "source": [
    "def build_tvec(df, column, stop_words = full_stop_words):\n",
    "    tvec = TfidfVectorizer(max_df = 0.98, min_df = 0.005, ngram_range = (1,2), stop_words = stop_words)\n",
    "    dtm = tvec.fit_transform(df[column])\n",
    "    return tvec, dtm"
   ]
  },
  {
   "cell_type": "markdown",
   "metadata": {},
   "source": [
    "#### Create Document Term Matrix"
   ]
  },
  {
   "cell_type": "code",
   "execution_count": 99,
   "metadata": {},
   "outputs": [],
   "source": [
    "# Vectorizer, dtm are outputed from build_tvec\n",
    "\n",
    "health_vectorizer, health_dtm = build_tvec(health, 'lemma_text')\n",
    "obsgyn_vectorizer, obsgyn_dtm = build_tvec(obsgyn, 'lemma_text')\n",
    "pospar_vectorizer, pospar_dtm = build_tvec(pospar, 'lemma_text')"
   ]
  },
  {
   "cell_type": "markdown",
   "metadata": {},
   "source": [
    "#### Transform Document Term Matrix into a Term Document Matrix that can be recognized by Gensim"
   ]
  },
  {
   "cell_type": "code",
   "execution_count": 7,
   "metadata": {},
   "outputs": [],
   "source": [
    "def create_tdm(dtm):\n",
    "    tdm = dtm.transpose()\n",
    "    return tdm"
   ]
  },
  {
   "cell_type": "code",
   "execution_count": 8,
   "metadata": {},
   "outputs": [],
   "source": [
    "def tdm_to_gensim_corpus(tdm):\n",
    "    sparse = scipy.sparse.csr_matrix(tdm) # Create a compressed sparse row matrix\n",
    "    corpus = matutils.Sparse2Corpus(tdm) # Create a corpus from sparse matrix\n",
    "    return corpus"
   ]
  },
  {
   "cell_type": "code",
   "execution_count": 9,
   "metadata": {},
   "outputs": [],
   "source": [
    "def prepare_dtm_for_gensim(dtm):\n",
    "    tdm = create_tdm(dtm)\n",
    "    corpus = tdm_to_gensim_corpus(tdm)\n",
    "    return corpus"
   ]
  },
  {
   "cell_type": "code",
   "execution_count": 101,
   "metadata": {},
   "outputs": [],
   "source": [
    "health_corpus = prepare_dtm_for_gensim(health_dtm)\n",
    "health_corpus_f = prepare_dtm_for_gensim(health_dtm_f)\n",
    "obsgyn_corpus = prepare_dtm_for_gensim(obsgyn_dtm)\n",
    "pospar_corpus = prepare_dtm_for_gensim(pospar_dtm)"
   ]
  },
  {
   "cell_type": "markdown",
   "metadata": {},
   "source": [
    "## Define Vocabulary Dictionary from Vectorizer"
   ]
  },
  {
   "cell_type": "code",
   "execution_count": 11,
   "metadata": {},
   "outputs": [],
   "source": [
    "def create_vocab_dictionary(vectorizer):\n",
    "    vocab_dictionary = dict((v,k) for k,v in vectorizer.vocabulary_.items())\n",
    "    return vocab_dictionary"
   ]
  },
  {
   "cell_type": "code",
   "execution_count": 100,
   "metadata": {},
   "outputs": [],
   "source": [
    "health_vocabulary = create_vocab_dictionary(health_vectorizer)\n",
    "health_vocabulary_f = create_vocab_dictionary(health_vectorizer_f)\n",
    "obsgyn_vocabulary = create_vocab_dictionary(obsgyn_vectorizer)\n",
    "pospar_vocabulary = create_vocab_dictionary(pospar_vectorizer)"
   ]
  },
  {
   "cell_type": "markdown",
   "metadata": {},
   "source": [
    "## Modeling"
   ]
  },
  {
   "cell_type": "markdown",
   "metadata": {},
   "source": [
    "### Build LSA Models"
   ]
  },
  {
   "cell_type": "code",
   "execution_count": 13,
   "metadata": {},
   "outputs": [],
   "source": [
    "def build_gensim_lsa(dtm, dictionary, n_topics):\n",
    "    lsa = LsiModel(dtm, num_topics = n_topics, id2word = dictionary)\n",
    "    return lsa   "
   ]
  },
  {
   "cell_type": "code",
   "execution_count": 21,
   "metadata": {},
   "outputs": [],
   "source": [
    "def grid_search_lsa(df, column, stopwords, start, stop, step_size):\n",
    "    clean_text, dictionary, dtm = gensim_preprocessing(df, column, stopwords)\n",
    "    \n",
    "    models_dict = {}\n",
    "    coherence_list = []\n",
    "    \n",
    "    for i in range(start, stop, step_size):\n",
    "        print(f'Building LSA model for {i} topics')\n",
    "        lsa_model = build_gensim_lsa(dtm, dictionary, i)\n",
    "        models_dict[i] = lsa_model\n",
    "        print('Calculating coherence score')\n",
    "        coherence = build_gensim_coherence_model(lsa_model, corpus, dictionary)\n",
    "        coherence_list.append(coherence)\n",
    "    \n",
    "    print('Finished!')\n",
    "    \n",
    "    return models_dict, coherence_list"
   ]
  },
  {
   "cell_type": "code",
   "execution_count": 123,
   "metadata": {},
   "outputs": [],
   "source": [
    "def build_gensim_coherence_model(model, corpus, dictionary):\n",
    "    coherence = CoherenceModel(model=model, corpus = corpus, dictionary = dictionary, coherence = 'u_mass')\n",
    "    return round(coherence.get_coherence(), 3)"
   ]
  },
  {
   "cell_type": "code",
   "execution_count": 16,
   "metadata": {},
   "outputs": [],
   "source": [
    "def get_topic_terms(model, n_topics, n_words):\n",
    "    return model.print_topics(num_topics = n_topics, num_words = n_words)"
   ]
  },
  {
   "cell_type": "markdown",
   "metadata": {},
   "source": [
    "### Build LDA Models"
   ]
  },
  {
   "cell_type": "markdown",
   "metadata": {},
   "source": [
    "#### Functions"
   ]
  },
  {
   "cell_type": "code",
   "execution_count": 126,
   "metadata": {},
   "outputs": [],
   "source": [
    "def build_gensim_lda(corpus, n_topics, vocabulary, n_passes):\n",
    "    lda = LdaModel(corpus = corpus, num_topics = n_topics, id2word = vocabulary, passes = n_passes, decay = 0.7, offset = 10, random_state = 42 )\n",
    "    return lda"
   ]
  },
  {
   "cell_type": "code",
   "execution_count": 110,
   "metadata": {},
   "outputs": [],
   "source": [
    "def grid_search_lda(corpus, vocabulary, n_passes, start, stop, step_size):\n",
    "    \n",
    "    models_dict = {}\n",
    "    coherence_list = []\n",
    "    perplexity_list = []\n",
    "    \n",
    "    for i in range(start, stop, step_size):\n",
    "        print(f'Building LDA model for {i} topics')\n",
    "        lda_model = build_gensim_lda(corpus, i, vocabulary, n_passes)\n",
    "        models_dict[i] = lda_model\n",
    "        print('Calculating coherence score')\n",
    "        coherence = build_gensim_coherence_model(lda_model, corpus, vocabulary)\n",
    "        coherence_list.append(coherence)\n",
    "        perplexity = lda_model.log_perplexity(corpus)\n",
    "        perplexity_list.append(perplexity)\n",
    "    \n",
    "    print('Finished!')\n",
    "    \n",
    "    return models_dict, coherence_list, perplexity_list"
   ]
  },
  {
   "cell_type": "markdown",
   "metadata": {},
   "source": [
    "#### General Women's Health Data"
   ]
  },
  {
   "cell_type": "code",
   "execution_count": 130,
   "metadata": {},
   "outputs": [],
   "source": [
    "lda_model_1 = build_gensim_lda(health_corpus, \n",
    "                               n_topics = 17, \n",
    "                               vocabulary = health_vocabulary, \n",
    "                               n_passes = 80)"
   ]
  },
  {
   "cell_type": "code",
   "execution_count": 131,
   "metadata": {},
   "outputs": [
    {
     "data": {
      "text/plain": [
       "[(0,\n",
       "  '0.025*\"infection\" + 0.024*\"yeast\" + 0.021*\"yeast infection\" + 0.016*\"uti\" + 0.014*\"discharge\" + 0.014*\"smell\" + 0.011*\"bv\" + 0.010*\"antibiotic\" + 0.009*\"pee\" + 0.008*\"symptom\" + 0.008*\"sex\" + 0.008*\"vagina\" + 0.008*\"doctor\" + 0.007*\"test\" + 0.007*\"help\" + 0.006*\"vaginal\" + 0.006*\"burn\" + 0.006*\"come\" + 0.006*\"itching\" + 0.006*\"itch\" + 0.005*\"itchy\" + 0.005*\"treatment\" + 0.005*\"pain\" + 0.004*\"bad\" + 0.004*\"white\"'),\n",
       " (1,\n",
       "  '0.031*\"wear\" + 0.023*\"dress\" + 0.014*\"buy\" + 0.013*\"look\" + 0.012*\"clothe\" + 0.011*\"jean\" + 0.011*\"good\" + 0.009*\"shoe\" + 0.009*\"style\" + 0.008*\"find\" + 0.008*\"fit\" + 0.007*\"pant\" + 0.007*\"cute\" + 0.007*\"short\" + 0.007*\"pair\" + 0.007*\"underwear\" + 0.007*\"store\" + 0.007*\"need\" + 0.007*\"shirt\" + 0.007*\"size\" + 0.007*\"wedding\" + 0.007*\"legging\" + 0.007*\"help\" + 0.007*\"outfit\" + 0.006*\"work\"'),\n",
       " (2,\n",
       "  '0.021*\"period\" + 0.019*\"cramp\" + 0.016*\"pain\" + 0.014*\"bad\" + 0.012*\"sleep\" + 0.010*\"help\" + 0.009*\"pms\" + 0.008*\"drink\" + 0.008*\"wake\" + 0.008*\"night\" + 0.008*\"eat\" + 0.008*\"hour\" + 0.007*\"start\" + 0.007*\"bed\" + 0.007*\"cold\" + 0.007*\"work\" + 0.007*\"stomach\" + 0.006*\"experience\" + 0.006*\"headache\" + 0.006*\"symptom\" + 0.006*\"mood\" + 0.006*\"deal\" + 0.006*\"period cramp\" + 0.005*\"hot\" + 0.005*\"sick\"'),\n",
       " (3,\n",
       "  '0.025*\"period\" + 0.024*\"pill\" + 0.020*\"birth control\" + 0.020*\"birth\" + 0.020*\"control\" + 0.011*\"pregnant\" + 0.011*\"pregnancy\" + 0.009*\"test\" + 0.008*\"sex\" + 0.008*\"late\" + 0.008*\"start\" + 0.006*\"cycle\" + 0.006*\"pregnancy test\" + 0.006*\"condom\" + 0.006*\"bc\" + 0.006*\"negative\" + 0.005*\"plan\" + 0.005*\"stop\" + 0.005*\"miss\" + 0.005*\"come\" + 0.005*\"experience\" + 0.005*\"control pill\" + 0.005*\"doctor\" + 0.004*\"effect\" + 0.004*\"hormone\"'),\n",
       " (4,\n",
       "  '0.032*\"pain\" + 0.021*\"cyst\" + 0.010*\"ovary\" + 0.010*\"ultrasound\" + 0.010*\"doctor\" + 0.009*\"ovarian\" + 0.008*\"ovarian cyst\" + 0.007*\"surgery\" + 0.007*\"period\" + 0.006*\"experience\" + 0.006*\"right\" + 0.006*\"low\" + 0.006*\"pelvic\" + 0.006*\"left\" + 0.006*\"uterus\" + 0.005*\"sharp\" + 0.005*\"bad\" + 0.005*\"cm\" + 0.005*\"endometriosis\" + 0.005*\"tell\" + 0.005*\"painful\" + 0.005*\"cause\" + 0.005*\"symptom\" + 0.004*\"pressure\" + 0.004*\"normal\"'),\n",
       " (5,\n",
       "  '0.141*\"cup\" + 0.131*\"tampon\" + 0.095*\"pad\" + 0.090*\"menstrual\" + 0.068*\"menstrual cup\" + 0.037*\"use\" + 0.034*\"period\" + 0.023*\"leak\" + 0.021*\"product\" + 0.015*\"try\" + 0.013*\"insert\" + 0.012*\"switch\" + 0.012*\"choice\" + 0.012*\"wear\" + 0.012*\"brand\" + 0.012*\"cycle\" + 0.011*\"menstrual cycle\" + 0.010*\"lonely\" + 0.009*\"review\" + 0.008*\"hate\" + 0.008*\"friendly\" + 0.007*\"balance\" + 0.006*\"underwear\" + 0.005*\"question\" + 0.005*\"blood\"'),\n",
       " (6,\n",
       "  '0.029*\"pap\" + 0.021*\"smear\" + 0.018*\"doctor\" + 0.018*\"pap smear\" + 0.016*\"appointment\" + 0.016*\"hpv\" + 0.012*\"test\" + 0.011*\"colposcopy\" + 0.011*\"result\" + 0.010*\"health\" + 0.010*\"gynecologist\" + 0.010*\"obgyn\" + 0.009*\"cancer\" + 0.009*\"abnormal\" + 0.009*\"tell\" + 0.009*\"advice\" + 0.009*\"procedure\" + 0.009*\"exam\" + 0.008*\"biopsy\" + 0.008*\"cervical\" + 0.007*\"ob\" + 0.007*\"insurance\" + 0.007*\"need\" + 0.007*\"nervous\" + 0.007*\"expect\"'),\n",
       " (7,\n",
       "  '0.077*\"breast\" + 0.059*\"bra\" + 0.040*\"boob\" + 0.039*\"nipple\" + 0.021*\"size\" + 0.021*\"lump\" + 0.015*\"big\" + 0.015*\"small\" + 0.013*\"wear\" + 0.013*\"chest\" + 0.012*\"self\" + 0.011*\"sport\" + 0.010*\"cup\" + 0.010*\"left\" + 0.010*\"look\" + 0.010*\"sore\" + 0.009*\"self conscious\" + 0.009*\"notice\" + 0.009*\"conscious\" + 0.008*\"grow\" + 0.008*\"mark\" + 0.008*\"hurt\" + 0.008*\"large\" + 0.007*\"nose\" + 0.007*\"insecure\"'),\n",
       " (8,\n",
       "  '0.039*\"shave\" + 0.038*\"hair\" + 0.027*\"wax\" + 0.019*\"leg\" + 0.018*\"skin\" + 0.017*\"razor\" + 0.014*\"area\" + 0.013*\"bump\" + 0.012*\"ingrown\" + 0.011*\"bikini\" + 0.010*\"pimple\" + 0.010*\"pubic\" + 0.010*\"ingrown hair\" + 0.009*\"thigh\" + 0.009*\"grow\" + 0.009*\"dark\" + 0.009*\"shaving\" + 0.009*\"hair removal\" + 0.008*\"removal\" + 0.008*\"rid\" + 0.008*\"lip\" + 0.007*\"arm\" + 0.007*\"try\" + 0.007*\"itchy\" + 0.007*\"use\"'),\n",
       " (9,\n",
       "  '0.268*\"iud\" + 0.072*\"mirena\" + 0.058*\"copper\" + 0.046*\"copper iud\" + 0.040*\"insertion\" + 0.036*\"kyleena\" + 0.033*\"string\" + 0.028*\"remove\" + 0.027*\"mirena iud\" + 0.025*\"insert\" + 0.024*\"experience\" + 0.020*\"removal\" + 0.018*\"hormonal\" + 0.017*\"question\" + 0.012*\"cramp\" + 0.010*\"place\" + 0.010*\"cramping\" + 0.009*\"replace\" + 0.007*\"concern\" + 0.007*\"procedure\" + 0.006*\"period\" + 0.006*\"great\" + 0.006*\"pain\" + 0.006*\"cervix\" + 0.006*\"vs\"'),\n",
       " (10,\n",
       "  '0.013*\"friend\" + 0.008*\"guy\" + 0.008*\"people\" + 0.007*\"work\" + 0.007*\"thing\" + 0.007*\"talk\" + 0.006*\"good\" + 0.006*\"date\" + 0.006*\"girl\" + 0.006*\"relationship\" + 0.006*\"tell\" + 0.006*\"life\" + 0.005*\"ask\" + 0.005*\"job\" + 0.005*\"try\" + 0.005*\"look\" + 0.005*\"woman\" + 0.005*\"love\" + 0.005*\"help\" + 0.005*\"way\" + 0.005*\"need\" + 0.004*\"start\" + 0.004*\"find\" + 0.004*\"school\" + 0.004*\"live\"'),\n",
       " (11,\n",
       "  '0.138*\"pelvic\" + 0.099*\"exam\" + 0.073*\"pelvic exam\" + 0.061*\"floor\" + 0.043*\"tube\" + 0.042*\"pelvic pain\" + 0.033*\"therapy\" + 0.029*\"menstruation\" + 0.024*\"tie\" + 0.021*\"mother\" + 0.017*\"vacation\" + 0.015*\"large\" + 0.012*\"block\" + 0.011*\"today\" + 0.009*\"pain\" + 0.007*\"muscle\" + 0.005*\"request\" + 0.003*\"possible\" + 0.003*\"need\" + 0.002*\"child\" + 0.002*\"uterus\" + 0.000*\"realise\" + 0.000*\"gel\" + 0.000*\"choose\" + 0.000*\"habit\"'),\n",
       " (12,\n",
       "  '0.048*\"period\" + 0.021*\"bleed\" + 0.015*\"blood\" + 0.014*\"spot\" + 0.014*\"normal\" + 0.013*\"heavy\" + 0.013*\"start\" + 0.013*\"light\" + 0.011*\"bleeding\" + 0.009*\"brown\" + 0.008*\"discharge\" + 0.008*\"cycle\" + 0.008*\"cramp\" + 0.007*\"ago\" + 0.007*\"come\" + 0.007*\"clot\" + 0.007*\"th\" + 0.007*\"pill\" + 0.007*\"stop\" + 0.006*\"happen\" + 0.006*\"sex\" + 0.006*\"spotting\" + 0.006*\"red\" + 0.006*\"flow\" + 0.005*\"irregular\"'),\n",
       " (13,\n",
       "  '0.104*\"discharge\" + 0.094*\"brown\" + 0.080*\"brown discharge\" + 0.075*\"study\" + 0.069*\"woman\" + 0.065*\"menopause\" + 0.038*\"free\" + 0.037*\"health\" + 0.033*\"link\" + 0.019*\"complete\" + 0.016*\"interested\" + 0.016*\"depo\" + 0.014*\"dark brown\" + 0.012*\"watery\" + 0.011*\"shot\" + 0.010*\"fill\" + 0.008*\"dark\" + 0.006*\"minute\" + 0.004*\"relate\" + 0.004*\"comment\" + 0.004*\"symptom\" + 0.004*\"use\" + 0.004*\"mind\" + 0.004*\"lot\" + 0.003*\"learn\"'),\n",
       " (14,\n",
       "  '0.109*\"weight\" + 0.062*\"eat\" + 0.062*\"gain\" + 0.040*\"lose\" + 0.035*\"lose weight\" + 0.031*\"fat\" + 0.030*\"body\" + 0.028*\"gain weight\" + 0.027*\"healthy\" + 0.027*\"diet\" + 0.026*\"exercise\" + 0.025*\"food\" + 0.023*\"weight gain\" + 0.022*\"pound\" + 0.022*\"lbs\" + 0.021*\"gym\" + 0.018*\"workout\" + 0.014*\"loss\" + 0.014*\"skinny\" + 0.013*\"overweight\" + 0.013*\"meal\" + 0.012*\"weigh\" + 0.011*\"stomach\" + 0.008*\"disorder\" + 0.007*\"routine\"'),\n",
       " (15,\n",
       "  '0.053*\"hair\" + 0.015*\"look\" + 0.012*\"face\" + 0.012*\"makeup\" + 0.011*\"wash\" + 0.010*\"nail\" + 0.009*\"skin\" + 0.009*\"product\" + 0.009*\"use\" + 0.008*\"tip\" + 0.008*\"dry\" + 0.007*\"try\" + 0.007*\"wear\" + 0.007*\"help\" + 0.007*\"color\" + 0.007*\"dye\" + 0.007*\"good\" + 0.007*\"shampoo\" + 0.006*\"long\" + 0.006*\"cut\" + 0.006*\"shower\" + 0.006*\"work\" + 0.006*\"grow\" + 0.005*\"eye\" + 0.005*\"deodorant\"'),\n",
       " (16,\n",
       "  '0.023*\"sex\" + 0.020*\"vagina\" + 0.013*\"hurt\" + 0.010*\"finger\" + 0.010*\"labia\" + 0.009*\"orgasm\" + 0.008*\"painful\" + 0.008*\"try\" + 0.008*\"pain\" + 0.008*\"boyfriend\" + 0.007*\"inside\" + 0.007*\"tampon\" + 0.007*\"normal\" + 0.007*\"masturbate\" + 0.007*\"vaginal\" + 0.006*\"opening\" + 0.006*\"bump\" + 0.006*\"clit\" + 0.006*\"happen\" + 0.006*\"bit\" + 0.006*\"help\" + 0.006*\"notice\" + 0.005*\"partner\" + 0.005*\"touch\" + 0.005*\"look\"')]"
      ]
     },
     "execution_count": 131,
     "metadata": {},
     "output_type": "execute_result"
    }
   ],
   "source": [
    "get_topic_terms(lda_model_1, 17, 10)"
   ]
  },
  {
   "cell_type": "code",
   "execution_count": 133,
   "metadata": {},
   "outputs": [
    {
     "data": {
      "text/plain": [
       "-2.474"
      ]
     },
     "execution_count": 133,
     "metadata": {},
     "output_type": "execute_result"
    }
   ],
   "source": [
    "build_gensim_coherence_model(lda_model_1, corpus = health_corpus, dictionary = health_vocabulary)"
   ]
  },
  {
   "cell_type": "code",
   "execution_count": 138,
   "metadata": {},
   "outputs": [
    {
     "name": "stdout",
     "output_type": "stream",
     "text": [
      "Building LDA model for 5 topics\n",
      "Calculating coherence score\n",
      "Building LDA model for 6 topics\n",
      "Calculating coherence score\n",
      "Building LDA model for 7 topics\n",
      "Calculating coherence score\n",
      "Building LDA model for 8 topics\n",
      "Calculating coherence score\n",
      "Building LDA model for 9 topics\n",
      "Calculating coherence score\n",
      "Building LDA model for 10 topics\n",
      "Calculating coherence score\n",
      "Building LDA model for 11 topics\n",
      "Calculating coherence score\n",
      "Building LDA model for 12 topics\n",
      "Calculating coherence score\n",
      "Building LDA model for 13 topics\n",
      "Calculating coherence score\n",
      "Building LDA model for 14 topics\n",
      "Calculating coherence score\n",
      "Building LDA model for 15 topics\n",
      "Calculating coherence score\n",
      "Building LDA model for 16 topics\n",
      "Calculating coherence score\n",
      "Building LDA model for 17 topics\n",
      "Calculating coherence score\n",
      "Building LDA model for 18 topics\n",
      "Calculating coherence score\n",
      "Building LDA model for 19 topics\n",
      "Calculating coherence score\n",
      "Finished!\n"
     ]
    }
   ],
   "source": [
    "health_lda_models_f, health_lda_coherence_f, health_lda_perplexity_f = grid_search_lda(corpus = health_corpus_f, \n",
    "                                                                                       vocabulary = health_vocabulary_f, \n",
    "                                                                                       n_passes = 25, \n",
    "                                                                                       start = 5, \n",
    "                                                                                       stop = 20, \n",
    "                                                                                       step_size = 1)"
   ]
  },
  {
   "cell_type": "code",
   "execution_count": 141,
   "metadata": {},
   "outputs": [
    {
     "data": {
      "image/png": "[encoded data removed]",
      "text/plain": [
       "<Figure size 720x432 with 1 Axes>"
      ]
     },
     "metadata": {
      "needs_background": "light"
     },
     "output_type": "display_data"
    }
   ],
   "source": [
    "plt.figure(figsize = (10, 6))\n",
    "sns.lineplot(x = range(5, 20, 1), y = health_lda_coherence_f, label = 'General Health')\n",
    "plt.xlabel('Number of Topics', fontdict = {'fontsize':12}, labelpad = 8)\n",
    "plt.ylabel('UMass Coherence Score', fontdict = {'fontsize':12}, labelpad = 8)\n",
    "plt.title('Coherence Score by Number of Topics', fontdict = {'fontsize':15}, pad = 8);"
   ]
  },
  {
   "cell_type": "code",
   "execution_count": 143,
   "metadata": {},
   "outputs": [
    {
     "data": {
      "image/png": "[encoded data removed]",
      "text/plain": [
       "<Figure size 720x432 with 1 Axes>"
      ]
     },
     "metadata": {
      "needs_background": "light"
     },
     "output_type": "display_data"
    }
   ],
   "source": [
    "plt.figure(figsize = (10, 6))\n",
    "sns.lineplot(x = range(5, 20, 1), y = health_lda_perplexity_f, label = 'General Health')\n",
    "plt.xlabel('Number of Topics', fontdict = {'fontsize':12}, labelpad = 8)\n",
    "plt.ylabel('Perplexity Score', fontdict = {'fontsize':12}, labelpad = 8)\n",
    "plt.title('Perplexity Score by Number of Topics', fontdict = {'fontsize':15}, pad = 8);"
   ]
  },
  {
   "cell_type": "code",
   "execution_count": 148,
   "metadata": {},
   "outputs": [
    {
     "data": {
      "text/plain": [
       "[(0,\n",
       "  '0.017*\"sex\" + 0.013*\"vagina\" + 0.012*\"tampon\" + 0.008*\"hurt\" + 0.007*\"finger\" + 0.007*\"try\" + 0.007*\"cup\" + 0.007*\"pain\" + 0.006*\"use\" + 0.006*\"help\"'),\n",
       " (1,\n",
       "  '0.034*\"period\" + 0.018*\"bleed\" + 0.016*\"pill\" + 0.014*\"start\" + 0.013*\"spot\" + 0.012*\"blood\" + 0.011*\"brown\" + 0.011*\"light\" + 0.010*\"heavy\" + 0.010*\"normal\"'),\n",
       " (2,\n",
       "  '0.051*\"pms\" + 0.050*\"period\" + 0.041*\"cycle\" + 0.032*\"mood\" + 0.025*\"mood swing\" + 0.025*\"swing\" + 0.023*\"menstrual\" + 0.022*\"symptom\" + 0.020*\"menstrual cycle\" + 0.019*\"menopause\"'),\n",
       " (3,\n",
       "  '0.038*\"breast\" + 0.022*\"lump\" + 0.020*\"bump\" + 0.020*\"labia\" + 0.019*\"nipple\" + 0.011*\"cyst\" + 0.011*\"notice\" + 0.011*\"sore\" + 0.010*\"pimple\" + 0.010*\"hurt\"'),\n",
       " (4,\n",
       "  '0.020*\"control\" + 0.020*\"birth\" + 0.020*\"birth control\" + 0.017*\"pill\" + 0.013*\"iud\" + 0.009*\"period\" + 0.008*\"experience\" + 0.007*\"effect\" + 0.007*\"hormonal\" + 0.006*\"hormone\"'),\n",
       " (5,\n",
       "  '0.205*\"cyst\" + 0.161*\"ovarian\" + 0.155*\"ovarian cyst\" + 0.072*\"rupture\" + 0.030*\"surgery\" + 0.029*\"burst\" + 0.004*\"er\" + 0.003*\"experience\" + 0.002*\"removal\" + 0.001*\"okay\"'),\n",
       " (6,\n",
       "  '0.071*\"uti\" + 0.042*\"pee\" + 0.023*\"antibiotic\" + 0.019*\"urine\" + 0.018*\"drink\" + 0.015*\"bladder\" + 0.015*\"water\" + 0.015*\"burn\" + 0.012*\"symptom\" + 0.009*\"doctor\"'),\n",
       " (7,\n",
       "  '0.027*\"period\" + 0.017*\"pregnant\" + 0.017*\"pregnancy\" + 0.016*\"test\" + 0.015*\"late\" + 0.011*\"sex\" + 0.011*\"pregnancy test\" + 0.010*\"plan\" + 0.010*\"negative\" + 0.009*\"pill\"'),\n",
       " (8,\n",
       "  '0.063*\"pap\" + 0.045*\"smear\" + 0.041*\"pap smear\" + 0.032*\"hpv\" + 0.024*\"colposcopy\" + 0.022*\"result\" + 0.019*\"abnormal\" + 0.017*\"biopsy\" + 0.016*\"appointment\" + 0.015*\"leep\"'),\n",
       " (9,\n",
       "  '0.021*\"pain\" + 0.009*\"period\" + 0.009*\"cramp\" + 0.008*\"iud\" + 0.007*\"doctor\" + 0.007*\"bad\" + 0.007*\"ultrasound\" + 0.006*\"cyst\" + 0.006*\"ovary\" + 0.005*\"pelvic\"'),\n",
       " (10,\n",
       "  '0.027*\"yeast\" + 0.027*\"infection\" + 0.024*\"yeast infection\" + 0.017*\"discharge\" + 0.015*\"smell\" + 0.012*\"bv\" + 0.007*\"vagina\" + 0.007*\"vaginal\" + 0.007*\"help\" + 0.006*\"itching\"'),\n",
       " (11,\n",
       "  '0.202*\"depo\" + 0.163*\"shot\" + 0.083*\"shoot\" + 0.061*\"provera\" + 0.038*\"nuvaring\" + 0.038*\"question\" + 0.019*\"bf\" + 0.003*\"break\" + 0.003*\"advice\" + 0.001*\"experience\"'),\n",
       " (12,\n",
       "  '0.092*\"abortion\" + 0.044*\"treatment\" + 0.039*\"bv\" + 0.037*\"metronidazole\" + 0.035*\"progesterone\" + 0.035*\"pid\" + 0.033*\"gel\" + 0.031*\"mg\" + 0.019*\"tablet\" + 0.019*\"disease\"'),\n",
       " (13,\n",
       "  '0.011*\"appetite\" + 0.001*\"force\" + 0.001*\"antibiotic\" + 0.001*\"period period\" + 0.001*\"food\" + 0.001*\"twice\" + 0.001*\"loss\" + 0.001*\"eat\" + 0.001*\"thought\" + 0.001*\"wrong\"')]"
      ]
     },
     "execution_count": 148,
     "metadata": {},
     "output_type": "execute_result"
    }
   ],
   "source": [
    "lda_14 = health_lda_models_f[14]\n",
    "\n",
    "\n",
    "get_topic_terms(lda_14, 14, 10)\n",
    "# print()\n",
    "#print(get_topic_terms(lda_4, 4, 10))\n",
    "# print()\n",
    "#print(get_topic_terms(lda_6, 6, 10))"
   ]
  },
  {
   "cell_type": "code",
   "execution_count": 165,
   "metadata": {},
   "outputs": [],
   "source": [
    "transformed_health_corpus = lda_model_1[health_corpus]"
   ]
  },
  {
   "cell_type": "code",
   "execution_count": 76,
   "metadata": {},
   "outputs": [],
   "source": [
    "# https://www.machinelearningplus.com/nlp/topic-modeling-gensim-python/\n",
    "\n",
    "def format_topics_sentences(ldamodel, corpus, texts):\n",
    "    # Init output\n",
    "    sent_topics_df = pd.DataFrame()\n",
    "\n",
    "    # Get main topic in each document\n",
    "    for i, row in enumerate(ldamodel[corpus]):\n",
    "        row = sorted(row, key=lambda x: (x[1]), reverse=True)\n",
    "        # Get the Dominant topic, Perc Contribution and Keywords for each document\n",
    "        for j, (topic_num, prop_topic) in enumerate(row):\n",
    "            if j == 0:  # => dominant topic\n",
    "                wp = ldamodel.show_topic(topic_num)\n",
    "                topic_keywords = \", \".join([word for word, prop in wp])\n",
    "                sent_topics_df = sent_topics_df.append(pd.Series([int(topic_num), round(prop_topic,4), topic_keywords]), ignore_index=True)\n",
    "            else:\n",
    "                break\n",
    "    sent_topics_df.columns = ['Dominant_Topic', 'Perc_Contribution', 'Topic_Keywords']\n",
    "\n",
    "    # Add original text to the end of the output\n",
    "    contents = pd.Series(texts)\n",
    "    sent_topics_df = pd.concat([sent_topics_df, contents], axis=1)\n",
    "    return(sent_topics_df)\n",
    "\n",
    "# df_topic_sents_keywords = format_topics_sentences(ldamodel=optimal_model, corpus=corpus, texts=data)\n",
    "\n",
    "# # Format\n",
    "# df_dominant_topic = df_topic_sents_keywords.reset_index()\n",
    "# df_dominant_topic.columns = ['Document_No', 'Dominant_Topic', 'Topic_Perc_Contrib', 'Keywords', 'Text']\n",
    "\n",
    "# # Show\n",
    "# df_dominant_topic.head(10)"
   ]
  },
  {
   "cell_type": "code",
   "execution_count": 152,
   "metadata": {},
   "outputs": [],
   "source": [
    "df_lda_17 = format_topics_sentences(lda_model_1, health_corpus, health['total_text'])"
   ]
  },
  {
   "cell_type": "code",
   "execution_count": 153,
   "metadata": {},
   "outputs": [],
   "source": [
    "df_lda_17.columns  = [ 'Dominant_Topic', 'Topic_Perc_Contrib', 'Keywords', 'Text']"
   ]
  },
  {
   "cell_type": "code",
   "execution_count": 169,
   "metadata": {},
   "outputs": [
    {
     "data": {
      "text/html": [
       "<div>\n",
       "<style scoped>\n",
       "    .dataframe tbody tr th:only-of-type {\n",
       "        vertical-align: middle;\n",
       "    }\n",
       "\n",
       "    .dataframe tbody tr th {\n",
       "        vertical-align: top;\n",
       "    }\n",
       "\n",
       "    .dataframe thead th {\n",
       "        text-align: right;\n",
       "    }\n",
       "</style>\n",
       "<table border=\"1\" class=\"dataframe\">\n",
       "  <thead>\n",
       "    <tr style=\"text-align: right;\">\n",
       "      <th></th>\n",
       "      <th>Dominant_Topic</th>\n",
       "      <th>Topic_Perc_Contrib</th>\n",
       "      <th>Keywords</th>\n",
       "      <th>Text</th>\n",
       "    </tr>\n",
       "  </thead>\n",
       "  <tbody>\n",
       "    <tr>\n",
       "      <th>0</th>\n",
       "      <td>0.0</td>\n",
       "      <td>0.8891</td>\n",
       "      <td>infection, yeast, yeast infection, uti, discha...</td>\n",
       "      <td>Been to the clinic twice and they don’t know w...</td>\n",
       "    </tr>\n",
       "    <tr>\n",
       "      <th>1</th>\n",
       "      <td>12.0</td>\n",
       "      <td>0.8382</td>\n",
       "      <td>period, bleed, blood, spot, normal, heavy, sta...</td>\n",
       "      <td>Period going on for  days today. Help!! Hi guy...</td>\n",
       "    </tr>\n",
       "    <tr>\n",
       "      <th>2</th>\n",
       "      <td>3.0</td>\n",
       "      <td>0.8133</td>\n",
       "      <td>period, pill, birth control, birth, control, p...</td>\n",
       "      <td>Question about birth control - advice apprecia...</td>\n",
       "    </tr>\n",
       "    <tr>\n",
       "      <th>3</th>\n",
       "      <td>0.0</td>\n",
       "      <td>0.8480</td>\n",
       "      <td>infection, yeast, yeast infection, uti, discha...</td>\n",
       "      <td>Yeast infection vs. Cytolytic Vaginosis? Hi ev...</td>\n",
       "    </tr>\n",
       "    <tr>\n",
       "      <th>4</th>\n",
       "      <td>4.0</td>\n",
       "      <td>0.5999</td>\n",
       "      <td>pain, cyst, ovary, ultrasound, doctor, ovarian...</td>\n",
       "      <td>Virgin concerned about transvaginal ultrasound...</td>\n",
       "    </tr>\n",
       "  </tbody>\n",
       "</table>\n",
       "</div>"
      ],
      "text/plain": [
       "   Dominant_Topic  Topic_Perc_Contrib  \\\n",
       "0             0.0              0.8891   \n",
       "1            12.0              0.8382   \n",
       "2             3.0              0.8133   \n",
       "3             0.0              0.8480   \n",
       "4             4.0              0.5999   \n",
       "\n",
       "                                            Keywords  \\\n",
       "0  infection, yeast, yeast infection, uti, discha...   \n",
       "1  period, bleed, blood, spot, normal, heavy, sta...   \n",
       "2  period, pill, birth control, birth, control, p...   \n",
       "3  infection, yeast, yeast infection, uti, discha...   \n",
       "4  pain, cyst, ovary, ultrasound, doctor, ovarian...   \n",
       "\n",
       "                                                Text  \n",
       "0  Been to the clinic twice and they don’t know w...  \n",
       "1  Period going on for  days today. Help!! Hi guy...  \n",
       "2  Question about birth control - advice apprecia...  \n",
       "3  Yeast infection vs. Cytolytic Vaginosis? Hi ev...  \n",
       "4  Virgin concerned about transvaginal ultrasound...  "
      ]
     },
     "execution_count": 169,
     "metadata": {},
     "output_type": "execute_result"
    }
   ],
   "source": [
    "df_lda_17.head()"
   ]
  },
  {
   "cell_type": "code",
   "execution_count": 163,
   "metadata": {},
   "outputs": [
    {
     "data": {
      "text/plain": [
       "10.0    0.253822\n",
       "3.0     0.135452\n",
       "0.0     0.104912\n",
       "15.0    0.081428\n",
       "12.0    0.077900\n",
       "1.0     0.066730\n",
       "16.0    0.066305\n",
       "4.0     0.065358\n",
       "2.0     0.042167\n",
       "8.0     0.039783\n",
       "6.0     0.036158\n",
       "7.0     0.016037\n",
       "14.0    0.004899\n",
       "9.0     0.004246\n",
       "5.0     0.002776\n",
       "13.0    0.001176\n",
       "11.0    0.000849\n",
       "Name: Dominant_Topic, dtype: float64"
      ]
     },
     "execution_count": 163,
     "metadata": {},
     "output_type": "execute_result"
    }
   ],
   "source": [
    "df_lda_17['Dominant_Topic'].value_counts(normalize = True)"
   ]
  },
  {
   "cell_type": "code",
   "execution_count": 172,
   "metadata": {},
   "outputs": [
    {
     "ename": "AttributeError",
     "evalue": "'dict' object has no attribute 'token2id'",
     "output_type": "error",
     "traceback": [
      "\u001b[0;31m---------------------------------------------------------------------------\u001b[0m",
      "\u001b[0;31mAttributeError\u001b[0m                            Traceback (most recent call last)",
      "\u001b[0;32m<ipython-input-172-53e8f156c8be>\u001b[0m in \u001b[0;36m<module>\u001b[0;34m\u001b[0m\n\u001b[0;32m----> 1\u001b[0;31m \u001b[0mpyLDAvis\u001b[0m\u001b[0;34m.\u001b[0m\u001b[0mgensim\u001b[0m\u001b[0;34m.\u001b[0m\u001b[0mprepare\u001b[0m\u001b[0;34m(\u001b[0m\u001b[0mdf_lda_17\u001b[0m\u001b[0;34m,\u001b[0m \u001b[0mhealth_corpus\u001b[0m\u001b[0;34m,\u001b[0m \u001b[0mhealth_vocabulary\u001b[0m\u001b[0;34m)\u001b[0m\u001b[0;34m\u001b[0m\u001b[0;34m\u001b[0m\u001b[0m\n\u001b[0m",
      "\u001b[0;32m~/anaconda3/lib/python3.7/site-packages/pyLDAvis/gensim.py\u001b[0m in \u001b[0;36mprepare\u001b[0;34m(topic_model, corpus, dictionary, doc_topic_dist, **kwargs)\u001b[0m\n\u001b[1;32m    116\u001b[0m     \u001b[0mSee\u001b[0m\u001b[0;31m \u001b[0m\u001b[0;31m`\u001b[0m\u001b[0mpyLDAvis\u001b[0m\u001b[0;34m.\u001b[0m\u001b[0mprepare\u001b[0m\u001b[0;31m`\u001b[0m \u001b[0;32mfor\u001b[0m \u001b[0;34m**\u001b[0m\u001b[0mkwargs\u001b[0m\u001b[0;34m.\u001b[0m\u001b[0;34m\u001b[0m\u001b[0;34m\u001b[0m\u001b[0m\n\u001b[1;32m    117\u001b[0m     \"\"\"\n\u001b[0;32m--> 118\u001b[0;31m     \u001b[0mopts\u001b[0m \u001b[0;34m=\u001b[0m \u001b[0mfp\u001b[0m\u001b[0;34m.\u001b[0m\u001b[0mmerge\u001b[0m\u001b[0;34m(\u001b[0m\u001b[0m_extract_data\u001b[0m\u001b[0;34m(\u001b[0m\u001b[0mtopic_model\u001b[0m\u001b[0;34m,\u001b[0m \u001b[0mcorpus\u001b[0m\u001b[0;34m,\u001b[0m \u001b[0mdictionary\u001b[0m\u001b[0;34m,\u001b[0m \u001b[0mdoc_topic_dist\u001b[0m\u001b[0;34m)\u001b[0m\u001b[0;34m,\u001b[0m \u001b[0mkwargs\u001b[0m\u001b[0;34m)\u001b[0m\u001b[0;34m\u001b[0m\u001b[0;34m\u001b[0m\u001b[0m\n\u001b[0m\u001b[1;32m    119\u001b[0m     \u001b[0;32mreturn\u001b[0m \u001b[0mvis_prepare\u001b[0m\u001b[0;34m(\u001b[0m\u001b[0;34m**\u001b[0m\u001b[0mopts\u001b[0m\u001b[0;34m)\u001b[0m\u001b[0;34m\u001b[0m\u001b[0;34m\u001b[0m\u001b[0m\n",
      "\u001b[0;32m~/anaconda3/lib/python3.7/site-packages/pyLDAvis/gensim.py\u001b[0m in \u001b[0;36m_extract_data\u001b[0;34m(topic_model, corpus, dictionary, doc_topic_dists)\u001b[0m\n\u001b[1;32m     24\u001b[0m       \u001b[0mcorpus\u001b[0m \u001b[0;34m=\u001b[0m \u001b[0mgensim\u001b[0m\u001b[0;34m.\u001b[0m\u001b[0mmatutils\u001b[0m\u001b[0;34m.\u001b[0m\u001b[0mSparse2Corpus\u001b[0m\u001b[0;34m(\u001b[0m\u001b[0mcorpus_csc\u001b[0m\u001b[0;34m)\u001b[0m\u001b[0;34m\u001b[0m\u001b[0;34m\u001b[0m\u001b[0m\n\u001b[1;32m     25\u001b[0m \u001b[0;34m\u001b[0m\u001b[0m\n\u001b[0;32m---> 26\u001b[0;31m    \u001b[0mvocab\u001b[0m \u001b[0;34m=\u001b[0m \u001b[0mlist\u001b[0m\u001b[0;34m(\u001b[0m\u001b[0mdictionary\u001b[0m\u001b[0;34m.\u001b[0m\u001b[0mtoken2id\u001b[0m\u001b[0;34m.\u001b[0m\u001b[0mkeys\u001b[0m\u001b[0;34m(\u001b[0m\u001b[0;34m)\u001b[0m\u001b[0;34m)\u001b[0m\u001b[0;34m\u001b[0m\u001b[0;34m\u001b[0m\u001b[0m\n\u001b[0m\u001b[1;32m     27\u001b[0m    \u001b[0;31m# TODO: add the hyperparam to smooth it out? no beta in online LDA impl.. hmm..\u001b[0m\u001b[0;34m\u001b[0m\u001b[0;34m\u001b[0m\u001b[0;34m\u001b[0m\u001b[0m\n\u001b[1;32m     28\u001b[0m    \u001b[0;31m# for now, I'll just make sure we don't ever get zeros...\u001b[0m\u001b[0;34m\u001b[0m\u001b[0;34m\u001b[0m\u001b[0;34m\u001b[0m\u001b[0m\n",
      "\u001b[0;31mAttributeError\u001b[0m: 'dict' object has no attribute 'token2id'"
     ]
    }
   ],
   "source": [
    "pyLDAvis.gensim.prepare(df_lda_17, health_corpus, health_vocabulary)"
   ]
  },
  {
   "cell_type": "code",
   "execution_count": null,
   "metadata": {},
   "outputs": [],
   "source": []
  }
 ],
 "metadata": {
  "kernelspec": {
   "display_name": "Python 3",
   "language": "python",
   "name": "python3"
  },
  "language_info": {
   "codemirror_mode": {
    "name": "ipython",
    "version": 3
   },
   "file_extension": ".py",
   "mimetype": "text/x-python",
   "name": "python",
   "nbconvert_exporter": "python",
   "pygments_lexer": "ipython3",
   "version": "3.7.6"
  }
 },
 "nbformat": 4,
 "nbformat_minor": 4
}
