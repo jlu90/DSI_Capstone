{
 "cells": [
  {
   "cell_type": "markdown",
   "metadata": {},
   "source": [
    "# Topic Modeling"
   ]
  },
  {
   "cell_type": "markdown",
   "metadata": {},
   "source": [
    "## Imports"
   ]
  },
  {
   "cell_type": "code",
   "execution_count": 1,
   "metadata": {},
   "outputs": [],
   "source": [
    "import pandas as pd\n",
    "import numpy as np\n",
    "import matplotlib.pyplot as plt\n",
    "import seaborn as sns\n",
    "import pickle\n",
    "\n",
    "# Spacy\n",
    "import spacy\n",
    "\n",
    "# Scipy\n",
    "import scipy.sparse\n",
    "\n",
    "# Sklearn\n",
    "from sklearn.feature_extraction.text import TfidfVectorizer\n",
    "\n",
    "# Gensim\n",
    "from gensim import matutils\n",
    "from gensim import corpora\n",
    "from gensim.models import LsiModel, LdaModel\n",
    "from gensim.models.coherencemodel import CoherenceModel\n",
    "\n",
    "# NLTK\n",
    "from nltk.corpus import stopwords\n",
    "\n",
    "# Pyldavis\n",
    "import pyLDAvis\n",
    "import pyLDAvis.gensim"
   ]
  },
  {
   "cell_type": "markdown",
   "metadata": {},
   "source": [
    "#### Color Palette"
   ]
  },
  {
   "cell_type": "code",
   "execution_count": 2,
   "metadata": {},
   "outputs": [],
   "source": [
    "blush = '#F7D1CD'\n",
    "pink = '#E8C2CA'\n",
    "light_purple = '#D1B3C4'\n",
    "medium_purple = '#B392AC'\n",
    "dark_purple = '#B392AC'\n",
    "warm_grey = '#8E9AAF'"
   ]
  },
  {
   "cell_type": "markdown",
   "metadata": {},
   "source": [
    "## Read-In Data"
   ]
  },
  {
   "cell_type": "code",
   "execution_count": 3,
   "metadata": {},
   "outputs": [
    {
     "name": "stdout",
     "output_type": "stream",
     "text": [
      "Health: (30616, 8)\n",
      "ObsGyn: (92943, 8)\n",
      "Pospar: (49094, 8)\n"
     ]
    }
   ],
   "source": [
    "health = pd.read_csv('../data/womens_health_preprocessed.csv', lineterminator='\\n')\n",
    "print(f'Health: {health.shape}')\n",
    "obsgyn = pd.read_csv('../data/fertility_and_pregnancy_preprocessed.csv')\n",
    "print(f'ObsGyn: {obsgyn.shape}')\n",
    "pospar = pd.read_csv('../data/postpartum_preprocessed.csv')\n",
    "print(f'Pospar: {pospar.shape}')"
   ]
  },
  {
   "cell_type": "markdown",
   "metadata": {},
   "source": [
    "## Define Stop Words"
   ]
  },
  {
   "cell_type": "code",
   "execution_count": 4,
   "metadata": {},
   "outputs": [],
   "source": [
    "def add_stop_words(word_list, list_stop_words):\n",
    "    for word in word_list:\n",
    "        list_stop_words.add(word)\n",
    "        \n",
    "def remove_stop_words(word_list, list_stop_words):\n",
    "    for word in word_list:\n",
    "        list_stop_words.remove(word)"
   ]
  },
  {
   "cell_type": "code",
   "execution_count": 5,
   "metadata": {},
   "outputs": [],
   "source": [
    "# spaCy\n",
    "nlp = spacy.load('en_core_web_sm')\n",
    "stop_words_spacy = set(nlp.Defaults.stop_words)\n",
    "\n",
    "# nltk\n",
    "stop_words_nltk = set(stopwords.words('english'))\n",
    "\n",
    "# full list of stop words\n",
    "full_stop_words = stop_words_spacy.union(stop_words_nltk)\n",
    "\n",
    "words_to_add = ['like', 'know', 'want', 'feel', 'going', 'think', 'reddit', 'imgur', 'pron', 'officially', 'story', 'month', 'week', 'time', 'day', 'year', 'delete', 'saturday', 'sunday', 'monday', 'tuesday', 'wednesday', 'thursday', 'friday', 'subreddit']\n",
    "\n",
    "add_stop_words(words_to_add, full_stop_words)\n",
    "remove_stop_words(['not'], full_stop_words)"
   ]
  },
  {
   "cell_type": "markdown",
   "metadata": {},
   "source": [
    "## Create Document Term Matrix From Corpus"
   ]
  },
  {
   "cell_type": "markdown",
   "metadata": {},
   "source": [
    "#### Function"
   ]
  },
  {
   "cell_type": "code",
   "execution_count": 6,
   "metadata": {},
   "outputs": [],
   "source": [
    "def build_tvec(df, column, stop_words = full_stop_words):\n",
    "    tvec = TfidfVectorizer(max_df = 0.98, min_df = 0.005, ngram_range = (1,2), stop_words = stop_words)\n",
    "    dtm = tvec.fit_transform(df[column])\n",
    "    return tvec, dtm"
   ]
  },
  {
   "cell_type": "markdown",
   "metadata": {},
   "source": [
    "#### Create Document Term Matrix"
   ]
  },
  {
   "cell_type": "code",
   "execution_count": 7,
   "metadata": {},
   "outputs": [],
   "source": [
    "# Vectorizer, dtm are outputed from build_tvec\n",
    "\n",
    "health_vectorizer, health_dtm = build_tvec(health, 'lemma_text')\n",
    "obsgyn_vectorizer, obsgyn_dtm = build_tvec(obsgyn, 'lemma_text')\n",
    "pospar_vectorizer, pospar_dtm = build_tvec(pospar, 'lemma_text')"
   ]
  },
  {
   "cell_type": "markdown",
   "metadata": {},
   "source": [
    "#### Transform Document Term Matrix into a Term Document Matrix that can be recognized by Gensim\n",
    "\n",
    "**Note**: Code for these steps was modified from [A Dash of Data](https://github.com/adashofdata/nlp-in-python-tutorial) by Alice Zhao"
   ]
  },
  {
   "cell_type": "code",
   "execution_count": 8,
   "metadata": {},
   "outputs": [],
   "source": [
    "def create_tdm(dtm):\n",
    "    tdm = dtm.transpose()\n",
    "    return tdm"
   ]
  },
  {
   "cell_type": "code",
   "execution_count": 9,
   "metadata": {},
   "outputs": [],
   "source": [
    "def tdm_to_gensim_corpus(tdm):\n",
    "    sparse = scipy.sparse.csr_matrix(tdm) # Create a compressed sparse row matrix\n",
    "    corpus = matutils.Sparse2Corpus(tdm) # Create a corpus from sparse matrix\n",
    "    return corpus"
   ]
  },
  {
   "cell_type": "code",
   "execution_count": 10,
   "metadata": {},
   "outputs": [],
   "source": [
    "def prepare_dtm_for_gensim(dtm):\n",
    "    tdm = create_tdm(dtm)\n",
    "    corpus = tdm_to_gensim_corpus(tdm)\n",
    "    return corpus"
   ]
  },
  {
   "cell_type": "code",
   "execution_count": 11,
   "metadata": {},
   "outputs": [],
   "source": [
    "health_corpus = prepare_dtm_for_gensim(health_dtm)\n",
    "obsgyn_corpus = prepare_dtm_for_gensim(obsgyn_dtm)\n",
    "pospar_corpus = prepare_dtm_for_gensim(pospar_dtm)"
   ]
  },
  {
   "cell_type": "markdown",
   "metadata": {},
   "source": [
    "## Define Vocabulary Dictionary from Vectorizer"
   ]
  },
  {
   "cell_type": "code",
   "execution_count": 12,
   "metadata": {},
   "outputs": [],
   "source": [
    "def create_vocab_dictionary(vectorizer):\n",
    "    vocab_dictionary = dict((v,k) for k,v in vectorizer.vocabulary_.items())\n",
    "    return vocab_dictionary"
   ]
  },
  {
   "cell_type": "code",
   "execution_count": 13,
   "metadata": {},
   "outputs": [],
   "source": [
    "health_vocabulary = create_vocab_dictionary(health_vectorizer)\n",
    "obsgyn_vocabulary = create_vocab_dictionary(obsgyn_vectorizer)\n",
    "pospar_vocabulary = create_vocab_dictionary(pospar_vectorizer)"
   ]
  },
  {
   "cell_type": "markdown",
   "metadata": {},
   "source": [
    "## Topic Modeling with Latent Dirichlet Allocation (LDA)"
   ]
  },
  {
   "cell_type": "markdown",
   "metadata": {},
   "source": [
    "### Build LDA Models"
   ]
  },
  {
   "cell_type": "markdown",
   "metadata": {},
   "source": [
    "#### Functions"
   ]
  },
  {
   "cell_type": "code",
   "execution_count": 14,
   "metadata": {},
   "outputs": [],
   "source": [
    "def build_gensim_lda(corpus, n_topics, vocabulary, n_passes):\n",
    "    lda = LdaModel(corpus = corpus, num_topics = n_topics, id2word = vocabulary, passes = n_passes, decay = 0.7, offset = 10, random_state = 2020)\n",
    "    return lda"
   ]
  },
  {
   "cell_type": "code",
   "execution_count": 15,
   "metadata": {},
   "outputs": [],
   "source": [
    "def build_gensim_coherence_model(model, corpus, dictionary):\n",
    "    coherence = CoherenceModel(model=model, corpus = corpus, dictionary = dictionary, coherence = 'u_mass')\n",
    "    return round(coherence.get_coherence(), 3)"
   ]
  },
  {
   "cell_type": "code",
   "execution_count": 16,
   "metadata": {},
   "outputs": [],
   "source": [
    "def get_topic_terms(model, n_topics, n_words):\n",
    "    return model.print_topics(num_topics = n_topics, num_words = n_words)"
   ]
  },
  {
   "cell_type": "code",
   "execution_count": 17,
   "metadata": {},
   "outputs": [],
   "source": [
    "def grid_search_lda(corpus, vocabulary, n_passes, start, stop, step_size):\n",
    "    \n",
    "    models_dict = {}\n",
    "    coherence_list = []\n",
    "    \n",
    "    for i in range(start, stop, step_size):\n",
    "        print(f'Building LDA model for {i} topics')\n",
    "        lda_model = build_gensim_lda(corpus, i, vocabulary, n_passes)\n",
    "        models_dict[i] = lda_model # Save model to dictionary with # topics as key\n",
    "        print('Calculating coherence score')\n",
    "        coherence = build_gensim_coherence_model(lda_model, corpus, vocabulary)\n",
    "        coherence_list.append(coherence)\n",
    "#         perplexity = lda_model.log_perplexity(corpus)\n",
    "#         perplexity_list.append(perplexity)\n",
    "    \n",
    "    print('Finished!')\n",
    "    \n",
    "    return models_dict, coherence_list"
   ]
  },
  {
   "cell_type": "code",
   "execution_count": 18,
   "metadata": {},
   "outputs": [],
   "source": [
    "# Function Written By Selva Prabhakaran\n",
    "# https://www.machinelearningplus.com/nlp/topic-modeling-gensim-python/\n",
    "\n",
    "def format_topics_sentences(ldamodel, corpus, texts):\n",
    "    # Init output\n",
    "    sent_topics_df = pd.DataFrame()\n",
    "\n",
    "    # Get main topic in each document\n",
    "    for i, row in enumerate(ldamodel[corpus]):\n",
    "        row = sorted(row, key=lambda x: (x[1]), reverse=True)\n",
    "        # Get the Dominant topic, Perc Contribution and Keywords for each document\n",
    "        for j, (topic_num, prop_topic) in enumerate(row):\n",
    "            if j == 0:  # => dominant topic\n",
    "                wp = ldamodel.show_topic(topic_num)\n",
    "                topic_keywords = \", \".join([word for word, prop in wp])\n",
    "                sent_topics_df = sent_topics_df.append(pd.Series([int(topic_num), round(prop_topic,4), topic_keywords]), ignore_index=True)\n",
    "            else:\n",
    "                break\n",
    "    sent_topics_df.columns = ['Dominant_Topic', 'Perc_Contribution', 'Topic_Keywords']\n",
    "\n",
    "    # Add original text to the end of the output\n",
    "    contents = pd.Series(texts)\n",
    "    sent_topics_df = pd.concat([sent_topics_df, contents], axis=1)\n",
    "    \n",
    "    sent_topics_df.columns = ['Dominant_Topic', 'Percent_Dominant_Topic', 'Keywords', 'Original_Text']\n",
    "    \n",
    "    return sent_topics_df"
   ]
  },
  {
   "cell_type": "code",
   "execution_count": 19,
   "metadata": {},
   "outputs": [],
   "source": [
    "def plot_coherence_by_topic(start, stop, step_size, coherence_list, size = (10,6), title = None, x_label = None, y_label = None):\n",
    "    plt.figure(figsize = size)\n",
    "    sns.lineplot(x = range(start, stop, step_size), y = coherence_list, linewidth = 2, color = dark_purple)\n",
    "    plt.xlabel(x_label, fontdict = {'fontsize':12}, labelpad = 8)\n",
    "    plt.ylabel(y_label, fontdict = {'fontsize':12}, labelpad = 8)\n",
    "    plt.title(title, fontdict = {'fontsize':15}, pad = 8)\n",
    "    plt.xticks(size = 11)\n",
    "    plt.yticks(size = 11)\n",
    "    plt.tight_layout();"
   ]
  },
  {
   "cell_type": "markdown",
   "metadata": {},
   "source": [
    "#### General Women's Health Data\n",
    "##### Grid Search to Find Optimal Number of Topics"
   ]
  },
  {
   "cell_type": "code",
   "execution_count": 20,
   "metadata": {},
   "outputs": [
    {
     "name": "stdout",
     "output_type": "stream",
     "text": [
      "Building LDA model for 5 topics\n",
      "Calculating coherence score\n",
      "Building LDA model for 6 topics\n",
      "Calculating coherence score\n",
      "Building LDA model for 7 topics\n",
      "Calculating coherence score\n",
      "Building LDA model for 8 topics\n",
      "Calculating coherence score\n",
      "Building LDA model for 9 topics\n",
      "Calculating coherence score\n",
      "Building LDA model for 10 topics\n",
      "Calculating coherence score\n",
      "Building LDA model for 11 topics\n",
      "Calculating coherence score\n",
      "Building LDA model for 12 topics\n",
      "Calculating coherence score\n",
      "Building LDA model for 13 topics\n",
      "Calculating coherence score\n",
      "Building LDA model for 14 topics\n",
      "Calculating coherence score\n",
      "Building LDA model for 15 topics\n",
      "Calculating coherence score\n",
      "Building LDA model for 16 topics\n",
      "Calculating coherence score\n",
      "Building LDA model for 17 topics\n",
      "Calculating coherence score\n",
      "Building LDA model for 18 topics\n",
      "Calculating coherence score\n",
      "Building LDA model for 19 topics\n",
      "Calculating coherence score\n",
      "Finished!\n"
     ]
    }
   ],
   "source": [
    "health_lda_models, health_lda_coherence = grid_search_lda(corpus = health_corpus, \n",
    "                                                          vocabulary = health_vocabulary, \n",
    "                                                          n_passes = 10, \n",
    "                                                          start = 5, \n",
    "                                                          stop = 20, \n",
    "                                                          step_size = 1)"
   ]
  },
  {
   "cell_type": "markdown",
   "metadata": {},
   "source": [
    "##### Examine How Coherence Changes with the Number of Topics"
   ]
  },
  {
   "cell_type": "code",
   "execution_count": 22,
   "metadata": {},
   "outputs": [
    {
     "data": {
      "image/png": "[encoded data removed]",
      "text/plain": [
       "<Figure size 720x432 with 1 Axes>"
      ]
     },
     "metadata": {
      "needs_background": "light"
     },
     "output_type": "display_data"
    }
   ],
   "source": [
    "plot_coherence_by_topic(5, 20, 1, \n",
    "                        health_lda_coherence, \n",
    "                        size = (10,6), \n",
    "                        title = 'Coherence Score by Number of Women\\'s Health Topics', \n",
    "                        x_label = 'Number of Topics', \n",
    "                        y_label = 'UMass Coherence Score')"
   ]
  },
  {
   "cell_type": "code",
   "execution_count": null,
   "metadata": {},
   "outputs": [],
   "source": []
  },
  {
   "cell_type": "markdown",
   "metadata": {},
   "source": [
    "##### Examine Topic Composition for Each Number of Topics\n",
    "\n",
    "Because each model that was built in the grid search was stored in a model dictionary where the number of topics was the key, we can easily access the model to explore the topics that were created. \n",
    "\n",
    "For example, for the model with 6 topics, the following code can be used to retrieve the top 10 terms for each of the 6 topics.\n",
    "\n",
    "```python\n",
    "health_lda_6 = health_lda_models[6]\n",
    "\n",
    "get_topic_terms(health_lda_6, 6, 10)\n",
    "```\n",
    "This was done for each several numbers of topics. At each step of the way, the topic clusters were evaluated to determine if the clusters made sense and if any loss in cohesion was offset by a gain in knowledge about a woman's health concern. After this process, 15 topics was determined to be the optimal number of topics for the general women's health data. Therefore, a new model was fit with the identified number of topics. To ensure, optimal allocation of topics, the model was allowed to run for 100 iterations. "
   ]
  },
  {
   "cell_type": "markdown",
   "metadata": {},
   "source": [
    "#### Build a Final LDA model with topic number chosen from review of grid search"
   ]
  },
  {
   "cell_type": "code",
   "execution_count": 23,
   "metadata": {},
   "outputs": [],
   "source": [
    "health_lda_model = build_gensim_lda(health_corpus, \n",
    "                               n_topics = 15, \n",
    "                               vocabulary = health_vocabulary, \n",
    "                               n_passes = 100)"
   ]
  },
  {
   "cell_type": "code",
   "execution_count": 24,
   "metadata": {},
   "outputs": [],
   "source": [
    "# pickle.dump(health_lda_model, open('health_lda_model.p', 'wb'))"
   ]
  },
  {
   "cell_type": "code",
   "execution_count": 25,
   "metadata": {},
   "outputs": [
    {
     "data": {
      "text/plain": [
       "[(0,\n",
       "  '0.028*\"infection\" + 0.026*\"yeast\" + 0.023*\"yeast infection\" + 0.017*\"discharge\" + 0.017*\"uti\" + 0.012*\"bv\" + 0.011*\"antibiotic\" + 0.009*\"symptom\" + 0.009*\"smell\" + 0.008*\"doctor\"'),\n",
       " (1,\n",
       "  '0.020*\"labia\" + 0.018*\"bump\" + 0.014*\"skin\" + 0.014*\"vagina\" + 0.011*\"area\" + 0.010*\"itchy\" + 0.010*\"notice\" + 0.009*\"pimple\" + 0.009*\"look\" + 0.009*\"red\"'),\n",
       " (2,\n",
       "  '0.017*\"pap\" + 0.014*\"doctor\" + 0.012*\"smear\" + 0.011*\"appointment\" + 0.011*\"health\" + 0.010*\"pap smear\" + 0.009*\"hpv\" + 0.008*\"woman\" + 0.008*\"test\" + 0.008*\"exam\"'),\n",
       " (3,\n",
       "  '0.063*\"hair\" + 0.016*\"shave\" + 0.013*\"look\" + 0.012*\"wax\" + 0.011*\"skin\" + 0.011*\"face\" + 0.010*\"makeup\" + 0.009*\"grow\" + 0.008*\"use\" + 0.008*\"try\"'),\n",
       " (4,\n",
       "  '0.033*\"wear\" + 0.024*\"dress\" + 0.015*\"look\" + 0.014*\"buy\" + 0.013*\"clothe\" + 0.011*\"jean\" + 0.009*\"style\" + 0.009*\"shoe\" + 0.009*\"find\" + 0.009*\"fit\"'),\n",
       " (5,\n",
       "  '0.136*\"conscious\" + 0.129*\"self conscious\" + 0.118*\"self\" + 0.062*\"good\" + 0.047*\"fake\" + 0.034*\"app\" + 0.031*\"travel\" + 0.028*\"deal\" + 0.024*\"guy\" + 0.022*\"video\"'),\n",
       " (6,\n",
       "  '0.116*\"nail\" + 0.109*\"cup\" + 0.092*\"tampon\" + 0.076*\"pad\" + 0.059*\"menstrual\" + 0.052*\"menstrual cup\" + 0.031*\"use\" + 0.024*\"period\" + 0.020*\"question\" + 0.018*\"woman\"'),\n",
       " (7,\n",
       "  '0.139*\"breast\" + 0.101*\"bra\" + 0.070*\"nipple\" + 0.069*\"boob\" + 0.034*\"lump\" + 0.026*\"size\" + 0.020*\"chest\" + 0.019*\"big\" + 0.019*\"sport\" + 0.018*\"cup\"'),\n",
       " (8,\n",
       "  '0.035*\"sex\" + 0.013*\"vagina\" + 0.011*\"finger\" + 0.010*\"orgasm\" + 0.010*\"boyfriend\" + 0.010*\"tampon\" + 0.009*\"hurt\" + 0.009*\"try\" + 0.008*\"masturbate\" + 0.008*\"pain\"'),\n",
       " (9,\n",
       "  '0.045*\"period\" + 0.019*\"pill\" + 0.016*\"pregnant\" + 0.015*\"pregnancy\" + 0.014*\"test\" + 0.013*\"late\" + 0.012*\"start\" + 0.012*\"sex\" + 0.010*\"bleed\" + 0.009*\"pregnancy test\"'),\n",
       " (10,\n",
       "  '0.034*\"pain\" + 0.015*\"cyst\" + 0.013*\"period\" + 0.013*\"cramp\" + 0.009*\"bad\" + 0.008*\"ovary\" + 0.008*\"ovarian\" + 0.008*\"doctor\" + 0.007*\"pelvic\" + 0.007*\"experience\"'),\n",
       " (11,\n",
       "  '0.080*\"smell\" + 0.038*\"wash\" + 0.035*\"sweat\" + 0.034*\"shower\" + 0.032*\"deodorant\" + 0.024*\"clean\" + 0.020*\"tooth\" + 0.020*\"water\" + 0.019*\"soap\" + 0.017*\"use\"'),\n",
       " (12,\n",
       "  '0.059*\"favorite\" + 0.052*\"book\" + 0.046*\"product\" + 0.044*\"bath\" + 0.042*\"recommendation\" + 0.041*\"natural\" + 0.039*\"oil\" + 0.036*\"insecure\" + 0.029*\"free\" + 0.029*\"review\"'),\n",
       " (13,\n",
       "  '0.023*\"period\" + 0.018*\"control\" + 0.017*\"birth\" + 0.017*\"birth control\" + 0.015*\"pill\" + 0.015*\"iud\" + 0.008*\"start\" + 0.008*\"stop\" + 0.007*\"bleed\" + 0.007*\"experience\"'),\n",
       " (14,\n",
       "  '0.012*\"friend\" + 0.008*\"people\" + 0.008*\"guy\" + 0.008*\"work\" + 0.007*\"thing\" + 0.006*\"talk\" + 0.006*\"good\" + 0.006*\"date\" + 0.006*\"girl\" + 0.005*\"tell\"')]"
      ]
     },
     "execution_count": 25,
     "metadata": {},
     "output_type": "execute_result"
    }
   ],
   "source": [
    "get_topic_terms(health_lda_model, 15, 10)"
   ]
  },
  {
   "cell_type": "code",
   "execution_count": 26,
   "metadata": {},
   "outputs": [
    {
     "data": {
      "text/plain": [
       "-2.454"
      ]
     },
     "execution_count": 26,
     "metadata": {},
     "output_type": "execute_result"
    }
   ],
   "source": [
    "build_gensim_coherence_model(health_lda_model, corpus = health_corpus, dictionary = health_vocabulary)"
   ]
  },
  {
   "cell_type": "code",
   "execution_count": 27,
   "metadata": {},
   "outputs": [],
   "source": [
    "# pyLDAvis.gensim.prepare(df_lda_17, health_corpus, health_vocabulary)"
   ]
  },
  {
   "cell_type": "markdown",
   "metadata": {},
   "source": [
    "#### Fertility and Pregnancy"
   ]
  },
  {
   "cell_type": "code",
   "execution_count": 28,
   "metadata": {},
   "outputs": [
    {
     "name": "stdout",
     "output_type": "stream",
     "text": [
      "Building LDA model for 2 topics\n",
      "Calculating coherence score\n",
      "Building LDA model for 4 topics\n",
      "Calculating coherence score\n",
      "Building LDA model for 6 topics\n",
      "Calculating coherence score\n",
      "Building LDA model for 8 topics\n",
      "Calculating coherence score\n",
      "Building LDA model for 10 topics\n",
      "Calculating coherence score\n",
      "Building LDA model for 12 topics\n",
      "Calculating coherence score\n",
      "Building LDA model for 14 topics\n",
      "Calculating coherence score\n",
      "Building LDA model for 16 topics\n",
      "Calculating coherence score\n",
      "Building LDA model for 18 topics\n",
      "Calculating coherence score\n",
      "Building LDA model for 20 topics\n",
      "Calculating coherence score\n",
      "Building LDA model for 22 topics\n",
      "Calculating coherence score\n",
      "Building LDA model for 24 topics\n",
      "Calculating coherence score\n",
      "Building LDA model for 26 topics\n",
      "Calculating coherence score\n",
      "Building LDA model for 28 topics\n",
      "Calculating coherence score\n",
      "Finished!\n"
     ]
    }
   ],
   "source": [
    "obsgyn_lda_models, obsgyn_lda_coherence = grid_search_lda(corpus = obsgyn_corpus, \n",
    "                                                          vocabulary = obsgyn_vocabulary, \n",
    "                                                          n_passes = 10, \n",
    "                                                          start = 2, \n",
    "                                                          stop = 30, \n",
    "                                                          step_size = 2)"
   ]
  },
  {
   "cell_type": "code",
   "execution_count": 29,
   "metadata": {},
   "outputs": [
    {
     "data": {
      "image/png": "[encoded data removed]",
      "text/plain": [
       "<Figure size 720x432 with 1 Axes>"
      ]
     },
     "metadata": {
      "needs_background": "light"
     },
     "output_type": "display_data"
    }
   ],
   "source": [
    "plot_coherence_by_topic(2, 30, 2, \n",
    "                        obsgyn_lda_coherence, \n",
    "                        size = (10,6), \n",
    "                        title = 'Coherence Score by Number of Fertility and Pregnancy Topics', \n",
    "                        x_label = 'Number of Topics', \n",
    "                        y_label = 'UMass Coherence Score')"
   ]
  },
  {
   "cell_type": "code",
   "execution_count": null,
   "metadata": {},
   "outputs": [],
   "source": [
    "get_topic_terms(obsgyn_lda_models[16], 16, 10)"
   ]
  },
  {
   "cell_type": "code",
   "execution_count": 30,
   "metadata": {},
   "outputs": [],
   "source": [
    "obsgyn_lda_model = build_gensim_lda(obsgyn_corpus, \n",
    "                               n_topics = 12, \n",
    "                               vocabulary = obsgyn_vocabulary, \n",
    "                               n_passes = 100)"
   ]
  },
  {
   "cell_type": "code",
   "execution_count": 31,
   "metadata": {},
   "outputs": [
    {
     "data": {
      "text/plain": [
       "[(0,\n",
       "  '0.012*\"pregnant\" + 0.012*\"work\" + 0.010*\"insurance\" + 0.010*\"job\" + 0.010*\"leave\" + 0.010*\"find\" + 0.010*\"pregnancy\" + 0.009*\"thank\" + 0.009*\"birth\" + 0.009*\"advice\"'),\n",
       " (1,\n",
       "  '0.012*\"baby\" + 0.009*\"tell\" + 0.009*\"pregnant\" + 0.008*\"husband\" + 0.007*\"family\" + 0.006*\"work\" + 0.006*\"people\" + 0.006*\"friend\" + 0.006*\"pregnancy\" + 0.005*\"mom\"'),\n",
       " (2,\n",
       "  '0.022*\"baby\" + 0.012*\"buy\" + 0.009*\"clothe\" + 0.008*\"need\" + 0.008*\"diaper\" + 0.008*\"maternity\" + 0.008*\"nursery\" + 0.008*\"gift\" + 0.007*\"shower\" + 0.007*\"pump\"'),\n",
       " (3,\n",
       "  '0.017*\"pain\" + 0.009*\"pregnancy\" + 0.009*\"bad\" + 0.008*\"morning\" + 0.008*\"sickness\" + 0.007*\"nausea\" + 0.007*\"pregnant\" + 0.007*\"morning sickness\" + 0.007*\"stomach\" + 0.006*\"trimester\"'),\n",
       " (4,\n",
       "  '0.020*\"try\" + 0.016*\"ttc\" + 0.013*\"cycle\" + 0.012*\"pregnant\" + 0.011*\"start\" + 0.011*\"conceive\" + 0.009*\"fertility\" + 0.009*\"period\" + 0.008*\"birth control\" + 0.007*\"control\"'),\n",
       " (5,\n",
       "  '0.037*\"test\" + 0.034*\"period\" + 0.019*\"pregnancy\" + 0.018*\"positive\" + 0.017*\"pregnant\" + 0.016*\"pregnancy test\" + 0.015*\"negative\" + 0.012*\"symptom\" + 0.011*\"early\" + 0.010*\"late\"'),\n",
       " (6,\n",
       "  '0.041*\"discharge\" + 0.039*\"mucus\" + 0.038*\"stretch\" + 0.035*\"mark\" + 0.034*\"plug\" + 0.028*\"leak\" + 0.026*\"mucus plug\" + 0.026*\"bump\" + 0.024*\"underwear\" + 0.023*\"wipe\"'),\n",
       " (7,\n",
       "  '0.016*\"labor\" + 0.014*\"contraction\" + 0.011*\"baby\" + 0.011*\"birth\" + 0.010*\"hospital\" + 0.009*\"section\" + 0.008*\"induction\" + 0.008*\"epidural\" + 0.008*\"induce\" + 0.008*\"hour\"'),\n",
       " (8,\n",
       "  '0.017*\"ultrasound\" + 0.012*\"doctor\" + 0.011*\"baby\" + 0.011*\"blood\" + 0.011*\"scan\" + 0.010*\"test\" + 0.010*\"appointment\" + 0.007*\"tell\" + 0.007*\"pregnancy\" + 0.007*\"result\"'),\n",
       " (9,\n",
       "  '0.034*\"cycle\" + 0.030*\"ovulation\" + 0.027*\"opk\" + 0.024*\"cd\" + 0.022*\"ovulate\" + 0.016*\"temp\" + 0.016*\"test\" + 0.015*\"app\" + 0.012*\"positive\" + 0.010*\"progesterone\"'),\n",
       " (10,\n",
       "  '0.039*\"eat\" + 0.024*\"weight\" + 0.021*\"gain\" + 0.020*\"food\" + 0.014*\"drink\" + 0.013*\"pregnancy\" + 0.010*\"pregnant\" + 0.010*\"craving\" + 0.009*\"meal\" + 0.009*\"prenatal\"'),\n",
       " (11,\n",
       "  '0.109*\"sleep\" + 0.048*\"night\" + 0.043*\"wake\" + 0.041*\"pillow\" + 0.039*\"dream\" + 0.033*\"asleep\" + 0.031*\"cat\" + 0.028*\"bed\" + 0.027*\"fall asleep\" + 0.023*\"fall\"')]"
      ]
     },
     "execution_count": 31,
     "metadata": {},
     "output_type": "execute_result"
    }
   ],
   "source": [
    "get_topic_terms(obsgyn_lda_model, 12, 10)"
   ]
  },
  {
   "cell_type": "code",
   "execution_count": 32,
   "metadata": {},
   "outputs": [
    {
     "data": {
      "text/plain": [
       "-2.223"
      ]
     },
     "execution_count": 32,
     "metadata": {},
     "output_type": "execute_result"
    }
   ],
   "source": [
    "build_gensim_coherence_model(obsgyn_lda_model, corpus = obsgyn_corpus, dictionary = obsgyn_vocabulary)"
   ]
  },
  {
   "cell_type": "code",
   "execution_count": 33,
   "metadata": {},
   "outputs": [],
   "source": [
    "# pickle.dump(obsgyn_lda_model, open('../pickles/obsgyn_lda_model.p', 'wb'))"
   ]
  },
  {
   "cell_type": "code",
   "execution_count": null,
   "metadata": {},
   "outputs": [],
   "source": [
    "obsgyn_lda_model = build_gensim_lda(obsgyn_corpus, \n",
    "                               n_topics = 14, \n",
    "                               vocabulary = obsgyn_vocabulary, \n",
    "                               n_passes = 100)"
   ]
  },
  {
   "cell_type": "markdown",
   "metadata": {},
   "source": [
    "#### Postpartum Data"
   ]
  },
  {
   "cell_type": "code",
   "execution_count": 34,
   "metadata": {},
   "outputs": [
    {
     "name": "stdout",
     "output_type": "stream",
     "text": [
      "Building LDA model for 2 topics\n",
      "Calculating coherence score\n",
      "Building LDA model for 4 topics\n",
      "Calculating coherence score\n",
      "Building LDA model for 6 topics\n",
      "Calculating coherence score\n",
      "Building LDA model for 8 topics\n",
      "Calculating coherence score\n",
      "Building LDA model for 10 topics\n",
      "Calculating coherence score\n",
      "Building LDA model for 12 topics\n",
      "Calculating coherence score\n",
      "Building LDA model for 14 topics\n",
      "Calculating coherence score\n",
      "Building LDA model for 16 topics\n",
      "Calculating coherence score\n",
      "Building LDA model for 18 topics\n",
      "Calculating coherence score\n",
      "Building LDA model for 20 topics\n",
      "Calculating coherence score\n",
      "Building LDA model for 22 topics\n",
      "Calculating coherence score\n",
      "Building LDA model for 24 topics\n",
      "Calculating coherence score\n",
      "Building LDA model for 26 topics\n",
      "Calculating coherence score\n",
      "Building LDA model for 28 topics\n",
      "Calculating coherence score\n",
      "Finished!\n"
     ]
    }
   ],
   "source": [
    "pospar_lda_models, pospar_lda_coherence = grid_search_lda(corpus = pospar_corpus, \n",
    "                                                          vocabulary = pospar_vocabulary, \n",
    "                                                          n_passes = 10, \n",
    "                                                          start = 2, \n",
    "                                                          stop = 30, \n",
    "                                                          step_size = 2)"
   ]
  },
  {
   "cell_type": "code",
   "execution_count": 35,
   "metadata": {},
   "outputs": [
    {
     "data": {
      "image/png": "[encoded data removed]",
      "text/plain": [
       "<Figure size 720x432 with 1 Axes>"
      ]
     },
     "metadata": {
      "needs_background": "light"
     },
     "output_type": "display_data"
    }
   ],
   "source": [
    "plot_coherence_by_topic(2, 30, 2, \n",
    "                        pospar_lda_coherence, \n",
    "                        size = (10,6), \n",
    "                        title = 'Coherence Score by Number of Pospartum/Early Parenthood Topics', \n",
    "                        x_label = 'Number of Topics', \n",
    "                        y_label = 'UMass Coherence Score')"
   ]
  },
  {
   "cell_type": "code",
   "execution_count": 36,
   "metadata": {},
   "outputs": [],
   "source": [
    "pospar_lda_model = build_gensim_lda(pospar_corpus, \n",
    "                               n_topics = 22, \n",
    "                               vocabulary = pospar_vocabulary, \n",
    "                               n_passes = 100)"
   ]
  },
  {
   "cell_type": "code",
   "execution_count": 37,
   "metadata": {},
   "outputs": [
    {
     "data": {
      "text/plain": [
       "[(0,\n",
       "  '0.028*\"period\" + 0.023*\"test\" + 0.017*\"pregnancy\" + 0.015*\"pregnant\" + 0.012*\"positive\" + 0.011*\"symptom\" + 0.009*\"early\" + 0.009*\"pregnancy test\" + 0.008*\"cycle\" + 0.008*\"sex\"'),\n",
       " (1,\n",
       "  '0.070*\"nipple\" + 0.042*\"breastfeed\" + 0.032*\"breast\" + 0.027*\"mastitis\" + 0.025*\"shield\" + 0.024*\"pain\" + 0.022*\"milk\" + 0.021*\"latch\" + 0.018*\"clog\" + 0.018*\"boob\"'),\n",
       " (2,\n",
       "  '0.022*\"pain\" + 0.008*\"belly\" + 0.008*\"baby\" + 0.008*\"bad\" + 0.008*\"pregnancy\" + 0.007*\"kick\" + 0.007*\"hurt\" + 0.007*\"movement\" + 0.006*\"stomach\" + 0.006*\"sleep\"'),\n",
       " (3,\n",
       "  '0.025*\"eat\" + 0.017*\"weight\" + 0.015*\"food\" + 0.012*\"gain\" + 0.011*\"pregnancy\" + 0.011*\"nausea\" + 0.010*\"sickness\" + 0.009*\"trimester\" + 0.009*\"morning sickness\" + 0.009*\"drink\"'),\n",
       " (4,\n",
       "  '0.044*\"bra\" + 0.028*\"wear\" + 0.026*\"maternity\" + 0.023*\"clothe\" + 0.022*\"nursing\" + 0.021*\"size\" + 0.016*\"dress\" + 0.013*\"nursing bra\" + 0.013*\"look\" + 0.012*\"buy\"'),\n",
       " (5,\n",
       "  '0.169*\"section\" + 0.061*\"breech\" + 0.049*\"schedule section\" + 0.044*\"surgery\" + 0.040*\"acid\" + 0.039*\"pp\" + 0.038*\"schedule\" + 0.036*\"carrier\" + 0.035*\"postpartum\" + 0.035*\"recovery\"'),\n",
       " (6,\n",
       "  '0.017*\"contraction\" + 0.016*\"labor\" + 0.008*\"baby\" + 0.008*\"induction\" + 0.008*\"hospital\" + 0.008*\"cm\" + 0.008*\"hour\" + 0.008*\"epidural\" + 0.007*\"pain\" + 0.007*\"come\"'),\n",
       " (7,\n",
       "  '0.040*\"amazon\" + 0.037*\"app\" + 0.034*\"free\" + 0.033*\"sale\" + 0.031*\"registry\" + 0.031*\"product\" + 0.024*\"buy\" + 0.021*\"review\" + 0.021*\"brand\" + 0.020*\"website\"'),\n",
       " (8,\n",
       "  '0.031*\"pump\" + 0.017*\"milk\" + 0.014*\"supply\" + 0.013*\"bottle\" + 0.012*\"feed\" + 0.012*\"breast\" + 0.009*\"formula\" + 0.009*\"oz\" + 0.009*\"breastfeed\" + 0.009*\"work\"'),\n",
       " (9,\n",
       "  '0.186*\"duct\" + 0.161*\"clogged\" + 0.148*\"clogged duct\" + 0.094*\"pillow\" + 0.076*\"massage\" + 0.039*\"hot\" + 0.039*\"lump\" + 0.029*\"heat\" + 0.028*\"left\" + 0.026*\"mastitis\"'),\n",
       " (10,\n",
       "  '0.038*\"shower\" + 0.029*\"baby shower\" + 0.023*\"baby\" + 0.020*\"gift\" + 0.019*\"friend\" + 0.016*\"family\" + 0.016*\"group\" + 0.012*\"people\" + 0.010*\"idea\" + 0.009*\"invite\"'),\n",
       " (11,\n",
       "  '0.009*\"baby\" + 0.009*\"tell\" + 0.008*\"husband\" + 0.008*\"pregnant\" + 0.006*\"pregnancy\" + 0.006*\"people\" + 0.006*\"thing\" + 0.005*\"work\" + 0.005*\"cry\" + 0.005*\"need\"'),\n",
       " (12,\n",
       "  '0.132*\"greatly\" + 0.129*\"greatly appreciate\" + 0.073*\"appreciate\" + 0.055*\"pregnant\" + 0.054*\"bump\" + 0.054*\"yoga\" + 0.042*\"prenatal\" + 0.039*\"exercise\" + 0.023*\"october\" + 0.022*\"pregnant baby\"'),\n",
       " (13,\n",
       "  '0.017*\"work\" + 0.012*\"leave\" + 0.011*\"job\" + 0.009*\"baby\" + 0.009*\"home\" + 0.008*\"insurance\" + 0.007*\"plan\" + 0.007*\"pay\" + 0.007*\"travel\" + 0.007*\"hospital\"'),\n",
       " (14,\n",
       "  '0.045*\"class\" + 0.045*\"book\" + 0.030*\"recommendation\" + 0.024*\"online\" + 0.023*\"partum\" + 0.023*\"post partum\" + 0.023*\"hair\" + 0.022*\"video\" + 0.021*\"post\" + 0.020*\"thank\"'),\n",
       " (15,\n",
       "  '0.157*\"bag\" + 0.076*\"cat\" + 0.075*\"pack\" + 0.066*\"hospital bag\" + 0.064*\"hospital\" + 0.050*\"diaper\" + 0.048*\"monitor\" + 0.039*\"favorite\" + 0.029*\"bring\" + 0.017*\"need\"'),\n",
       " (16,\n",
       "  '0.025*\"birth\" + 0.018*\"experience\" + 0.012*\"pregnancy\" + 0.012*\"pregnant\" + 0.012*\"anxiety\" + 0.011*\"advice\" + 0.010*\"woman\" + 0.010*\"hear\" + 0.009*\"breastfeed\" + 0.008*\"labor\"'),\n",
       " (17,\n",
       "  '0.020*\"sleep\" + 0.018*\"nurse\" + 0.017*\"feed\" + 0.017*\"night\" + 0.014*\"old\" + 0.012*\"wean\" + 0.011*\"nursing\" + 0.011*\"wake\" + 0.010*\"boob\" + 0.010*\"hour\"'),\n",
       " (18,\n",
       "  '0.019*\"baby\" + 0.016*\"nursery\" + 0.013*\"seat\" + 0.013*\"crib\" + 0.013*\"stroller\" + 0.013*\"car\" + 0.012*\"buy\" + 0.011*\"room\" + 0.010*\"bassinet\" + 0.009*\"car seat\"'),\n",
       " (19,\n",
       "  '0.016*\"ultrasound\" + 0.013*\"doctor\" + 0.011*\"test\" + 0.011*\"scan\" + 0.011*\"baby\" + 0.010*\"appointment\" + 0.010*\"blood\" + 0.008*\"ob\" + 0.007*\"high\" + 0.007*\"tell\"'),\n",
       " (20,\n",
       "  '0.020*\"baby\" + 0.017*\"boy\" + 0.016*\"girl\" + 0.011*\"pregnant\" + 0.011*\"love\" + 0.010*\"child\" + 0.009*\"excited\" + 0.009*\"find\" + 0.009*\"little\" + 0.009*\"kid\"'),\n",
       " (21,\n",
       "  '0.083*\"milk\" + 0.053*\"poop\" + 0.044*\"breastmilk\" + 0.040*\"bag\" + 0.037*\"freezer\" + 0.037*\"smell\" + 0.036*\"freeze\" + 0.036*\"breast milk\" + 0.033*\"frozen\" + 0.028*\"taste\"')]"
      ]
     },
     "execution_count": 37,
     "metadata": {},
     "output_type": "execute_result"
    }
   ],
   "source": [
    "get_topic_terms(pospar_lda_model, 22, 10)"
   ]
  },
  {
   "cell_type": "code",
   "execution_count": 38,
   "metadata": {},
   "outputs": [],
   "source": [
    "# pickle.dump(pospar_lda_model, open('../pickles/pospar_lda_model.p', 'wb'))"
   ]
  },
  {
   "cell_type": "code",
   "execution_count": null,
   "metadata": {},
   "outputs": [],
   "source": []
  }
 ],
 "metadata": {
  "kernelspec": {
   "display_name": "Python 3",
   "language": "python",
   "name": "python3"
  },
  "language_info": {
   "codemirror_mode": {
    "name": "ipython",
    "version": 3
   },
   "file_extension": ".py",
   "mimetype": "text/x-python",
   "name": "python",
   "nbconvert_exporter": "python",
   "pygments_lexer": "ipython3",
   "version": "3.7.6"
  }
 },
 "nbformat": 4,
 "nbformat_minor": 4
}
