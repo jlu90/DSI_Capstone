{
 "cells": [
  {
   "cell_type": "markdown",
   "metadata": {},
   "source": [
    "# Topic Modeling"
   ]
  },
  {
   "cell_type": "markdown",
   "metadata": {},
   "source": [
    "## Imports"
   ]
  },
  {
   "cell_type": "code",
   "execution_count": 60,
   "metadata": {},
   "outputs": [],
   "source": [
    "import pandas as pd\n",
    "import numpy as np\n",
    "import matplotlib.pyplot as plt\n",
    "import seaborn as sns\n",
    "import pickle\n",
    "\n",
    "# Spacy\n",
    "import spacy\n",
    "\n",
    "# Scipy\n",
    "import scipy.sparse\n",
    "\n",
    "# Sklearn\n",
    "from sklearn.feature_extraction.text import TfidfVectorizer\n",
    "\n",
    "# Gensim\n",
    "from gensim import matutils\n",
    "from gensim import corpora\n",
    "from gensim.models import LsiModel, LdaModel\n",
    "from gensim.models.coherencemodel import CoherenceModel\n",
    "\n",
    "# NLTK\n",
    "from nltk.corpus import stopwords\n",
    "\n",
    "# Pyldavis\n",
    "import pyLDAvis\n",
    "import pyLDAvis.gensim"
   ]
  },
  {
   "cell_type": "markdown",
   "metadata": {},
   "source": [
    "#### Color Palette"
   ]
  },
  {
   "cell_type": "code",
   "execution_count": 32,
   "metadata": {},
   "outputs": [],
   "source": [
    "blush = '#F7D1CD'\n",
    "pink = '#E8C2CA'\n",
    "light_purple = '#D1B3C4'\n",
    "medium_purple = '#B392AC'\n",
    "dark_purple = '#B392AC'\n",
    "warm_grey = '#8E9AAF'"
   ]
  },
  {
   "cell_type": "markdown",
   "metadata": {},
   "source": [
    "## Read-In Data"
   ]
  },
  {
   "cell_type": "code",
   "execution_count": 2,
   "metadata": {},
   "outputs": [
    {
     "name": "stdout",
     "output_type": "stream",
     "text": [
      "Health: (30616, 8)\n",
      "ObsGyn: (92943, 8)\n",
      "Pospar: (49094, 8)\n"
     ]
    }
   ],
   "source": [
    "health = pd.read_csv('../data/womens_health_preprocessed.csv', lineterminator='\\n')\n",
    "print(f'Health: {health.shape}')\n",
    "obsgyn = pd.read_csv('../data/fertility_and_pregnancy_preprocessed.csv')\n",
    "print(f'ObsGyn: {obsgyn.shape}')\n",
    "pospar = pd.read_csv('../data/postpartum_preprocessed.csv')\n",
    "print(f'Pospar: {pospar.shape}')"
   ]
  },
  {
   "cell_type": "markdown",
   "metadata": {},
   "source": [
    "## Define Stop Words"
   ]
  },
  {
   "cell_type": "code",
   "execution_count": 3,
   "metadata": {},
   "outputs": [],
   "source": [
    "def add_stop_words(word_list, list_stop_words):\n",
    "    for word in word_list:\n",
    "        list_stop_words.add(word)\n",
    "        \n",
    "def remove_stop_words(word_list, list_stop_words):\n",
    "    for word in word_list:\n",
    "        list_stop_words.remove(word)"
   ]
  },
  {
   "cell_type": "code",
   "execution_count": 4,
   "metadata": {},
   "outputs": [],
   "source": [
    "# spaCy\n",
    "nlp = spacy.load('en_core_web_sm')\n",
    "stop_words_spacy = set(nlp.Defaults.stop_words)\n",
    "\n",
    "# nltk\n",
    "stop_words_nltk = set(stopwords.words('english'))\n",
    "\n",
    "# full list of stop words\n",
    "full_stop_words = stop_words_spacy.union(stop_words_nltk)\n",
    "\n",
    "words_to_add = ['like', 'know', 'want', 'feel', 'going', 'think', 'reddit', 'imgur', 'pron', 'officially', 'story', 'month', 'week', 'time', 'day', 'year', 'delete', 'saturday', 'sunday', 'monday', 'tuesday', 'wednesday', 'thursday', 'friday']\n",
    "\n",
    "add_stop_words(words_to_add, full_stop_words)\n",
    "remove_stop_words(['not'], full_stop_words)"
   ]
  },
  {
   "cell_type": "markdown",
   "metadata": {},
   "source": [
    "## Create Document Term Matrix From Corpus"
   ]
  },
  {
   "cell_type": "markdown",
   "metadata": {},
   "source": [
    "#### Function"
   ]
  },
  {
   "cell_type": "code",
   "execution_count": 5,
   "metadata": {},
   "outputs": [],
   "source": [
    "def build_tvec(df, column, stop_words = full_stop_words):\n",
    "    tvec = TfidfVectorizer(max_df = 0.98, min_df = 0.005, ngram_range = (1,2), stop_words = stop_words)\n",
    "    dtm = tvec.fit_transform(df[column])\n",
    "    return tvec, dtm"
   ]
  },
  {
   "cell_type": "markdown",
   "metadata": {},
   "source": [
    "#### Create Document Term Matrix"
   ]
  },
  {
   "cell_type": "code",
   "execution_count": 6,
   "metadata": {},
   "outputs": [],
   "source": [
    "# Vectorizer, dtm are outputed from build_tvec\n",
    "\n",
    "health_vectorizer, health_dtm = build_tvec(health, 'lemma_text')\n",
    "obsgyn_vectorizer, obsgyn_dtm = build_tvec(obsgyn, 'lemma_text')\n",
    "pospar_vectorizer, pospar_dtm = build_tvec(pospar, 'lemma_text')"
   ]
  },
  {
   "cell_type": "markdown",
   "metadata": {},
   "source": [
    "#### Transform Document Term Matrix into a Term Document Matrix that can be recognized by Gensim\n",
    "\n",
    "**Note**: Code for these steps was modified from [A Dash of Data](https://github.com/adashofdata/nlp-in-python-tutorial) by Alice Zhao"
   ]
  },
  {
   "cell_type": "code",
   "execution_count": 7,
   "metadata": {},
   "outputs": [],
   "source": [
    "def create_tdm(dtm):\n",
    "    tdm = dtm.transpose()\n",
    "    return tdm"
   ]
  },
  {
   "cell_type": "code",
   "execution_count": 8,
   "metadata": {},
   "outputs": [],
   "source": [
    "def tdm_to_gensim_corpus(tdm):\n",
    "    sparse = scipy.sparse.csr_matrix(tdm) # Create a compressed sparse row matrix\n",
    "    corpus = matutils.Sparse2Corpus(tdm) # Create a corpus from sparse matrix\n",
    "    return corpus"
   ]
  },
  {
   "cell_type": "code",
   "execution_count": 9,
   "metadata": {},
   "outputs": [],
   "source": [
    "def prepare_dtm_for_gensim(dtm):\n",
    "    tdm = create_tdm(dtm)\n",
    "    corpus = tdm_to_gensim_corpus(tdm)\n",
    "    return corpus"
   ]
  },
  {
   "cell_type": "code",
   "execution_count": 10,
   "metadata": {},
   "outputs": [],
   "source": [
    "health_corpus = prepare_dtm_for_gensim(health_dtm)\n",
    "obsgyn_corpus = prepare_dtm_for_gensim(obsgyn_dtm)\n",
    "pospar_corpus = prepare_dtm_for_gensim(pospar_dtm)"
   ]
  },
  {
   "cell_type": "markdown",
   "metadata": {},
   "source": [
    "## Define Vocabulary Dictionary from Vectorizer"
   ]
  },
  {
   "cell_type": "code",
   "execution_count": 11,
   "metadata": {},
   "outputs": [],
   "source": [
    "def create_vocab_dictionary(vectorizer):\n",
    "    vocab_dictionary = dict((v,k) for k,v in vectorizer.vocabulary_.items())\n",
    "    return vocab_dictionary"
   ]
  },
  {
   "cell_type": "code",
   "execution_count": 12,
   "metadata": {},
   "outputs": [],
   "source": [
    "health_vocabulary = create_vocab_dictionary(health_vectorizer)\n",
    "obsgyn_vocabulary = create_vocab_dictionary(obsgyn_vectorizer)\n",
    "pospar_vocabulary = create_vocab_dictionary(pospar_vectorizer)"
   ]
  },
  {
   "cell_type": "markdown",
   "metadata": {},
   "source": [
    "## Topic Modeling with Latent Dirichlet Allocation (LDA)"
   ]
  },
  {
   "cell_type": "markdown",
   "metadata": {},
   "source": [
    "### Build LDA Models"
   ]
  },
  {
   "cell_type": "markdown",
   "metadata": {},
   "source": [
    "#### Functions"
   ]
  },
  {
   "cell_type": "code",
   "execution_count": 17,
   "metadata": {},
   "outputs": [],
   "source": [
    "def build_gensim_lda(corpus, n_topics, vocabulary, n_passes):\n",
    "    lda = LdaModel(corpus = corpus, num_topics = n_topics, id2word = vocabulary, passes = n_passes, decay = 0.7, offset = 10, random_state = 2020 )\n",
    "    return lda"
   ]
  },
  {
   "cell_type": "code",
   "execution_count": null,
   "metadata": {},
   "outputs": [],
   "source": [
    "def build_gensim_coherence_model(model, corpus, dictionary):\n",
    "    coherence = CoherenceModel(model=model, corpus = corpus, dictionary = dictionary, coherence = 'u_mass')\n",
    "    return round(coherence.get_coherence(), 3)"
   ]
  },
  {
   "cell_type": "code",
   "execution_count": null,
   "metadata": {},
   "outputs": [],
   "source": [
    "def get_topic_terms(model, n_topics, n_words):\n",
    "    return model.print_topics(num_topics = n_topics, num_words = n_words)"
   ]
  },
  {
   "cell_type": "code",
   "execution_count": 53,
   "metadata": {},
   "outputs": [],
   "source": [
    "def grid_search_lda(corpus, vocabulary, n_passes, start, stop, step_size):\n",
    "    \n",
    "    models_dict = {}\n",
    "    coherence_list = []\n",
    "    \n",
    "    for i in range(start, stop, step_size):\n",
    "        print(f'Building LDA model for {i} topics')\n",
    "        lda_model = build_gensim_lda(corpus, i, vocabulary, n_passes)\n",
    "        models_dict[i] = lda_model # Save model to dictionary with # topics as key\n",
    "        print('Calculating coherence score')\n",
    "        coherence = build_gensim_coherence_model(lda_model, corpus, vocabulary)\n",
    "        coherence_list.append(coherence)\n",
    "#         perplexity = lda_model.log_perplexity(corpus)\n",
    "#         perplexity_list.append(perplexity)\n",
    "    \n",
    "    print('Finished!')\n",
    "    \n",
    "    return models_dict, coherence_list"
   ]
  },
  {
   "cell_type": "code",
   "execution_count": 26,
   "metadata": {},
   "outputs": [],
   "source": [
    "# Function Written By Selva Prabhakaran\n",
    "# https://www.machinelearningplus.com/nlp/topic-modeling-gensim-python/\n",
    "\n",
    "def format_topics_sentences(ldamodel, corpus, texts):\n",
    "    # Init output\n",
    "    sent_topics_df = pd.DataFrame()\n",
    "\n",
    "    # Get main topic in each document\n",
    "    for i, row in enumerate(ldamodel[corpus]):\n",
    "        row = sorted(row, key=lambda x: (x[1]), reverse=True)\n",
    "        # Get the Dominant topic, Perc Contribution and Keywords for each document\n",
    "        for j, (topic_num, prop_topic) in enumerate(row):\n",
    "            if j == 0:  # => dominant topic\n",
    "                wp = ldamodel.show_topic(topic_num)\n",
    "                topic_keywords = \", \".join([word for word, prop in wp])\n",
    "                sent_topics_df = sent_topics_df.append(pd.Series([int(topic_num), round(prop_topic,4), topic_keywords]), ignore_index=True)\n",
    "            else:\n",
    "                break\n",
    "    sent_topics_df.columns = ['Dominant_Topic', 'Perc_Contribution', 'Topic_Keywords']\n",
    "\n",
    "    # Add original text to the end of the output\n",
    "    contents = pd.Series(texts)\n",
    "    sent_topics_df = pd.concat([sent_topics_df, contents], axis=1)\n",
    "    \n",
    "    sent_topics_df.columns = ['Dominant_Topic', 'Percent_Dominant_Topic', 'Keywords', 'Original_Text']\n",
    "    \n",
    "    return sent_topics_df"
   ]
  },
  {
   "cell_type": "code",
   "execution_count": null,
   "metadata": {},
   "outputs": [],
   "source": [
    "def plot_coherence_by_topic(start, stop, step_size, coherence_list, size = (10,6), title = None, x_label = None, y_label = None):\n",
    "    plt.figure(figsize = size)\n",
    "    sns.lineplot(x = range(start, stop, step_size), y = coherence_list, linewidth = 2, color = dark_purple)\n",
    "    plt.xlabel(x_label, fontdict = {'fontsize':12}, labelpad = 8)\n",
    "    plt.ylabel(y_label, fontdict = {'fontsize':12}, labelpad = 8)\n",
    "    plt.title(title, fontdict = {'fontsize':15}, pad = 8)\n",
    "    plt.xticks(size = 11)\n",
    "    plt.yticks(size = 11)\n",
    "    plt.tight_layout();"
   ]
  },
  {
   "cell_type": "markdown",
   "metadata": {},
   "source": [
    "#### General Women's Health Data"
   ]
  },
  {
   "cell_type": "code",
   "execution_count": 19,
   "metadata": {},
   "outputs": [
    {
     "name": "stdout",
     "output_type": "stream",
     "text": [
      "Building LDA model for 5 topics\n",
      "Calculating coherence score\n",
      "Building LDA model for 6 topics\n",
      "Calculating coherence score\n",
      "Building LDA model for 7 topics\n",
      "Calculating coherence score\n",
      "Building LDA model for 8 topics\n",
      "Calculating coherence score\n",
      "Building LDA model for 9 topics\n",
      "Calculating coherence score\n",
      "Building LDA model for 10 topics\n",
      "Calculating coherence score\n",
      "Building LDA model for 11 topics\n",
      "Calculating coherence score\n",
      "Building LDA model for 12 topics\n",
      "Calculating coherence score\n",
      "Building LDA model for 13 topics\n",
      "Calculating coherence score\n",
      "Building LDA model for 14 topics\n",
      "Calculating coherence score\n",
      "Building LDA model for 15 topics\n",
      "Calculating coherence score\n",
      "Building LDA model for 16 topics\n",
      "Calculating coherence score\n",
      "Building LDA model for 17 topics\n",
      "Calculating coherence score\n",
      "Building LDA model for 18 topics\n",
      "Calculating coherence score\n",
      "Building LDA model for 19 topics\n",
      "Calculating coherence score\n",
      "Finished!\n"
     ]
    }
   ],
   "source": [
    "health_lda_models, health_lda_coherence = grid_search_lda(corpus = health_corpus, \n",
    "                                                          vocabulary = health_vocabulary, \n",
    "                                                          n_passes = 25, \n",
    "                                                          start = 5, \n",
    "                                                          stop = 20, \n",
    "                                                          step_size = 1)"
   ]
  },
  {
   "cell_type": "code",
   "execution_count": 47,
   "metadata": {},
   "outputs": [
    {
     "data": {
      "image/png": "[encoded data removed]",
      "text/plain": [
       "<Figure size 720x432 with 1 Axes>"
      ]
     },
     "metadata": {
      "needs_background": "light"
     },
     "output_type": "display_data"
    }
   ],
   "source": [
    "plot_coherence_by_topic(5, 20, 1, \n",
    "                        health_lda_coherence_, \n",
    "                        size = (10,6), \n",
    "                        title = 'Coherence Score by Number of Women\\'s Health Topics', \n",
    "                        x_label = 'Number of Topics', \n",
    "                        y_label = 'UMass Coherence Score')"
   ]
  },
  {
   "cell_type": "code",
   "execution_count": 28,
   "metadata": {},
   "outputs": [],
   "source": [
    "health_lda_model = build_gensim_lda(health_corpus, \n",
    "                               n_topics = 15, \n",
    "                               vocabulary = health_vocabulary, \n",
    "                               n_passes = 100)"
   ]
  },
  {
   "cell_type": "code",
   "execution_count": 61,
   "metadata": {},
   "outputs": [],
   "source": [
    "# pickle.dump(health_lda_model, open('health_lda_model.p', 'wb'))"
   ]
  },
  {
   "cell_type": "code",
   "execution_count": 55,
   "metadata": {},
   "outputs": [
    {
     "data": {
      "text/plain": [
       "[(0,\n",
       "  '0.270*\"iud\" + 0.073*\"mirena\" + 0.059*\"copper\" + 0.045*\"copper iud\" + 0.040*\"insertion\" + 0.036*\"kyleena\" + 0.034*\"string\" + 0.027*\"remove\" + 0.027*\"mirena iud\" + 0.024*\"insert\"'),\n",
       " (1,\n",
       "  '0.060*\"smell\" + 0.035*\"wash\" + 0.031*\"deodorant\" + 0.030*\"shower\" + 0.026*\"use\" + 0.026*\"skin\" + 0.025*\"sweat\" + 0.022*\"product\" + 0.020*\"makeup\" + 0.020*\"tip\"'),\n",
       " (2,\n",
       "  '0.025*\"wear\" + 0.016*\"look\" + 0.016*\"dress\" + 0.011*\"bra\" + 0.009*\"buy\" + 0.009*\"clothe\" + 0.007*\"good\" + 0.007*\"size\" + 0.007*\"jean\" + 0.007*\"makeup\"'),\n",
       " (3,\n",
       "  '0.018*\"pap\" + 0.015*\"doctor\" + 0.012*\"smear\" + 0.011*\"appointment\" + 0.011*\"pap smear\" + 0.010*\"health\" + 0.010*\"woman\" + 0.010*\"hpv\" + 0.008*\"exam\" + 0.008*\"test\"'),\n",
       " (4,\n",
       "  '0.013*\"friend\" + 0.008*\"guy\" + 0.008*\"people\" + 0.008*\"work\" + 0.007*\"thing\" + 0.007*\"talk\" + 0.006*\"date\" + 0.006*\"good\" + 0.006*\"tell\" + 0.006*\"relationship\"'),\n",
       " (5,\n",
       "  '0.077*\"hair\" + 0.021*\"shave\" + 0.015*\"wax\" + 0.011*\"nail\" + 0.011*\"grow\" + 0.010*\"look\" + 0.009*\"leg\" + 0.009*\"razor\" + 0.008*\"try\" + 0.008*\"dye\"'),\n",
       " (6,\n",
       "  '0.035*\"sex\" + 0.018*\"vagina\" + 0.012*\"finger\" + 0.011*\"orgasm\" + 0.011*\"hurt\" + 0.010*\"boyfriend\" + 0.009*\"try\" + 0.009*\"masturbate\" + 0.008*\"tampon\" + 0.008*\"pain\"'),\n",
       " (7,\n",
       "  '0.033*\"pain\" + 0.014*\"cyst\" + 0.013*\"period\" + 0.013*\"cramp\" + 0.009*\"bad\" + 0.008*\"ovary\" + 0.007*\"doctor\" + 0.007*\"ovarian\" + 0.006*\"pelvic\" + 0.006*\"experience\"'),\n",
       " (8,\n",
       "  '0.036*\"period\" + 0.022*\"pregnant\" + 0.021*\"pregnancy\" + 0.019*\"test\" + 0.018*\"late\" + 0.016*\"pill\" + 0.014*\"sex\" + 0.013*\"pregnancy test\" + 0.012*\"negative\" + 0.011*\"condom\"'),\n",
       " (9,\n",
       "  '0.028*\"control\" + 0.027*\"birth control\" + 0.027*\"birth\" + 0.021*\"pill\" + 0.016*\"weight\" + 0.011*\"period\" + 0.010*\"gain\" + 0.010*\"eat\" + 0.008*\"effect\" + 0.008*\"hormonal\"'),\n",
       " (10,\n",
       "  '0.101*\"cup\" + 0.097*\"tampon\" + 0.068*\"pad\" + 0.054*\"menstrual\" + 0.047*\"menstrual cup\" + 0.029*\"period\" + 0.027*\"use\" + 0.023*\"acid\" + 0.022*\"help\" + 0.018*\"leak\"'),\n",
       " (11,\n",
       "  '0.151*\"tooth\" + 0.120*\"ex\" + 0.082*\"good\" + 0.050*\"smoke\" + 0.042*\"mouth\" + 0.038*\"quit\" + 0.034*\"brush\" + 0.025*\"dream\" + 0.023*\"intimate\" + 0.022*\"service\"'),\n",
       " (12,\n",
       "  '0.045*\"period\" + 0.020*\"bleed\" + 0.016*\"pill\" + 0.014*\"start\" + 0.013*\"blood\" + 0.013*\"spot\" + 0.012*\"normal\" + 0.011*\"heavy\" + 0.011*\"bleeding\" + 0.011*\"light\"'),\n",
       " (13,\n",
       "  '0.022*\"breast\" + 0.016*\"labia\" + 0.015*\"bump\" + 0.013*\"nipple\" + 0.013*\"lump\" + 0.012*\"skin\" + 0.010*\"notice\" + 0.009*\"sore\" + 0.009*\"area\" + 0.009*\"pimple\"'),\n",
       " (14,\n",
       "  '0.026*\"infection\" + 0.025*\"yeast\" + 0.022*\"yeast infection\" + 0.016*\"discharge\" + 0.016*\"uti\" + 0.011*\"bv\" + 0.010*\"smell\" + 0.010*\"antibiotic\" + 0.010*\"pee\" + 0.008*\"symptom\"')]"
      ]
     },
     "execution_count": 55,
     "metadata": {},
     "output_type": "execute_result"
    }
   ],
   "source": [
    "get_topic_terms(health_lda_model, 15, 10)"
   ]
  },
  {
   "cell_type": "code",
   "execution_count": 30,
   "metadata": {},
   "outputs": [
    {
     "data": {
      "text/plain": [
       "-2.259"
      ]
     },
     "execution_count": 30,
     "metadata": {},
     "output_type": "execute_result"
    }
   ],
   "source": [
    "build_gensim_coherence_model(health_lda_model, corpus = health_corpus, dictionary = health_vocabulary)"
   ]
  },
  {
   "cell_type": "code",
   "execution_count": null,
   "metadata": {},
   "outputs": [],
   "source": [
    "# pyLDAvis.gensim.prepare(df_lda_17, health_corpus, health_vocabulary)"
   ]
  },
  {
   "cell_type": "markdown",
   "metadata": {},
   "source": [
    "#### Fertility and Pregnancy"
   ]
  },
  {
   "cell_type": "code",
   "execution_count": 54,
   "metadata": {},
   "outputs": [
    {
     "name": "stdout",
     "output_type": "stream",
     "text": [
      "Building LDA model for 2 topics\n",
      "Calculating coherence score\n",
      "Building LDA model for 4 topics\n",
      "Calculating coherence score\n",
      "Building LDA model for 6 topics\n",
      "Calculating coherence score\n",
      "Building LDA model for 8 topics\n",
      "Calculating coherence score\n",
      "Building LDA model for 10 topics\n",
      "Calculating coherence score\n",
      "Building LDA model for 12 topics\n",
      "Calculating coherence score\n",
      "Building LDA model for 14 topics\n",
      "Calculating coherence score\n",
      "Building LDA model for 16 topics\n",
      "Calculating coherence score\n",
      "Building LDA model for 18 topics\n",
      "Calculating coherence score\n",
      "Building LDA model for 20 topics\n",
      "Calculating coherence score\n",
      "Building LDA model for 22 topics\n",
      "Calculating coherence score\n",
      "Building LDA model for 24 topics\n",
      "Calculating coherence score\n",
      "Building LDA model for 26 topics\n",
      "Calculating coherence score\n",
      "Building LDA model for 28 topics\n",
      "Calculating coherence score\n",
      "Finished!\n"
     ]
    }
   ],
   "source": [
    "obsgyn_lda_models, obsgyn_lda_coherence = grid_search_lda(corpus = obsgyn_corpus, \n",
    "                                                          vocabulary = obsgyn_vocabulary, \n",
    "                                                          n_passes = 25, \n",
    "                                                          start = 2, \n",
    "                                                          stop = 30, \n",
    "                                                          step_size = 2)"
   ]
  },
  {
   "cell_type": "code",
   "execution_count": 56,
   "metadata": {},
   "outputs": [
    {
     "data": {
      "image/png": "[encoded data removed]",
      "text/plain": [
       "<Figure size 720x432 with 1 Axes>"
      ]
     },
     "metadata": {
      "needs_background": "light"
     },
     "output_type": "display_data"
    }
   ],
   "source": [
    "plot_coherence_by_topic(2, 30, 2, \n",
    "                        obsgyn_lda_coherence, \n",
    "                        size = (10,6), \n",
    "                        title = 'Coherence Score by Number of Fertility and Pregnancy Topics', \n",
    "                        x_label = 'Number of Topics', \n",
    "                        y_label = 'UMass Coherence Score')"
   ]
  },
  {
   "cell_type": "code",
   "execution_count": 57,
   "metadata": {},
   "outputs": [
    {
     "data": {
      "text/plain": [
       "[(0,\n",
       "  '0.020*\"ultrasound\" + 0.016*\"doctor\" + 0.014*\"appointment\" + 0.013*\"test\" + 0.012*\"blood\" + 0.011*\"scan\" + 0.009*\"ob\" + 0.009*\"result\" + 0.009*\"baby\" + 0.009*\"pregnancy\"'),\n",
       " (1,\n",
       "  '0.020*\"baby\" + 0.010*\"buy\" + 0.008*\"need\" + 0.008*\"maternity\" + 0.007*\"look\" + 0.007*\"clothe\" + 0.007*\"good\" + 0.007*\"diaper\" + 0.006*\"nursery\" + 0.006*\"gift\"'),\n",
       " (2,\n",
       "  '0.014*\"labor\" + 0.012*\"baby\" + 0.011*\"contraction\" + 0.011*\"birth\" + 0.010*\"hospital\" + 0.009*\"section\" + 0.008*\"hour\" + 0.008*\"induction\" + 0.008*\"induce\" + 0.007*\"epidural\"'),\n",
       " (3,\n",
       "  '0.012*\"baby\" + 0.009*\"pregnant\" + 0.009*\"tell\" + 0.008*\"husband\" + 0.007*\"work\" + 0.007*\"family\" + 0.006*\"pregnancy\" + 0.006*\"people\" + 0.006*\"friend\" + 0.005*\"mom\"'),\n",
       " (4,\n",
       "  '0.021*\"pain\" + 0.014*\"sleep\" + 0.010*\"belly\" + 0.009*\"baby\" + 0.009*\"night\" + 0.008*\"kick\" + 0.007*\"wake\" + 0.007*\"movement\" + 0.007*\"pregnancy\" + 0.007*\"hurt\"'),\n",
       " (5,\n",
       "  '0.023*\"eat\" + 0.012*\"food\" + 0.011*\"pregnancy\" + 0.011*\"weight\" + 0.011*\"nausea\" + 0.010*\"sickness\" + 0.010*\"gain\" + 0.009*\"trimester\" + 0.009*\"morning\" + 0.009*\"morning sickness\"'),\n",
       " (6,\n",
       "  '0.034*\"cycle\" + 0.027*\"ovulation\" + 0.023*\"opk\" + 0.020*\"cd\" + 0.020*\"ovulate\" + 0.016*\"app\" + 0.015*\"test\" + 0.014*\"temp\" + 0.011*\"positive\" + 0.010*\"track\"'),\n",
       " (7,\n",
       "  '0.024*\"try\" + 0.018*\"ttc\" + 0.016*\"pregnant\" + 0.014*\"conceive\" + 0.013*\"start\" + 0.012*\"prenatal\" + 0.012*\"fertility\" + 0.011*\"vitamin\" + 0.011*\"cycle\" + 0.010*\"experience\"'),\n",
       " (8,\n",
       "  '0.019*\"nipple\" + 0.016*\"discharge\" + 0.016*\"hair\" + 0.015*\"pee\" + 0.015*\"cat\" + 0.014*\"wipe\" + 0.014*\"skin\" + 0.014*\"smell\" + 0.013*\"leak\" + 0.011*\"breast\"'),\n",
       " (9,\n",
       "  '0.031*\"test\" + 0.031*\"period\" + 0.018*\"pregnancy\" + 0.017*\"pregnant\" + 0.016*\"positive\" + 0.014*\"pregnancy test\" + 0.013*\"negative\" + 0.013*\"symptom\" + 0.010*\"sex\" + 0.010*\"early\"')]"
      ]
     },
     "execution_count": 57,
     "metadata": {},
     "output_type": "execute_result"
    }
   ],
   "source": [
    "obsgyn_lda_10 = obsgyn_lda_models[10]\n",
    "\n",
    "get_topic_terms(obsgyn_lda_10, 10, 10)"
   ]
  },
  {
   "cell_type": "code",
   "execution_count": 70,
   "metadata": {},
   "outputs": [
    {
     "data": {
      "text/plain": [
       "[(0,\n",
       "  '0.017*\"ultrasound\" + 0.012*\"doctor\" + 0.011*\"baby\" + 0.011*\"scan\" + 0.011*\"appointment\" + 0.010*\"test\" + 0.009*\"blood\" + 0.008*\"ob\" + 0.007*\"tell\" + 0.007*\"pregnancy\"'),\n",
       " (1,\n",
       "  '0.017*\"labor\" + 0.014*\"contraction\" + 0.012*\"hospital\" + 0.011*\"birth\" + 0.011*\"baby\" + 0.010*\"section\" + 0.008*\"induction\" + 0.008*\"epidural\" + 0.008*\"induce\" + 0.008*\"hour\"'),\n",
       " (2,\n",
       "  '0.028*\"pregnant\" + 0.023*\"sex\" + 0.019*\"try\" + 0.014*\"period\" + 0.011*\"birth control\" + 0.011*\"start\" + 0.011*\"pill\" + 0.010*\"control\" + 0.010*\"birth\" + 0.009*\"conceive\"'),\n",
       " (3,\n",
       "  '0.013*\"baby\" + 0.009*\"tell\" + 0.008*\"family\" + 0.008*\"pregnant\" + 0.007*\"work\" + 0.007*\"husband\" + 0.006*\"friend\" + 0.006*\"people\" + 0.006*\"mom\" + 0.005*\"thing\"'),\n",
       " (4,\n",
       "  '0.015*\"eat\" + 0.011*\"sleep\" + 0.008*\"food\" + 0.008*\"pregnancy\" + 0.007*\"morning\" + 0.007*\"nausea\" + 0.007*\"sickness\" + 0.007*\"night\" + 0.007*\"pregnant\" + 0.007*\"work\"'),\n",
       " (5,\n",
       "  '0.028*\"pain\" + 0.010*\"cramp\" + 0.009*\"normal\" + 0.008*\"experience\" + 0.008*\"bad\" + 0.008*\"hurt\" + 0.008*\"pregnancy\" + 0.006*\"help\" + 0.006*\"low\" + 0.006*\"right\"'),\n",
       " (6,\n",
       "  '0.035*\"cycle\" + 0.028*\"ovulation\" + 0.024*\"opk\" + 0.021*\"cd\" + 0.020*\"ovulate\" + 0.014*\"temp\" + 0.014*\"test\" + 0.012*\"period\" + 0.011*\"app\" + 0.011*\"positive\"'),\n",
       " (7,\n",
       "  '0.023*\"progesterone\" + 0.019*\"fertility\" + 0.017*\"mg\" + 0.017*\"ivf\" + 0.016*\"ttc\" + 0.016*\"iui\" + 0.015*\"medication\" + 0.014*\"clomid\" + 0.014*\"treatment\" + 0.013*\"cycle\"'),\n",
       " (8,\n",
       "  '0.023*\"weight\" + 0.020*\"gain\" + 0.018*\"baby\" + 0.017*\"belly\" + 0.014*\"kick\" + 0.013*\"bump\" + 0.013*\"pregnancy\" + 0.011*\"pregnant\" + 0.011*\"movement\" + 0.010*\"look\"'),\n",
       " (9,\n",
       "  '0.048*\"test\" + 0.034*\"period\" + 0.024*\"positive\" + 0.023*\"pregnancy\" + 0.020*\"pregnancy test\" + 0.020*\"negative\" + 0.015*\"symptom\" + 0.013*\"pregnant\" + 0.013*\"early\" + 0.012*\"late\"'),\n",
       " (10,\n",
       "  '0.021*\"baby\" + 0.016*\"buy\" + 0.014*\"clothe\" + 0.013*\"maternity\" + 0.012*\"pump\" + 0.010*\"stroller\" + 0.009*\"need\" + 0.009*\"breast\" + 0.009*\"wear\" + 0.009*\"item\"'),\n",
       " (11,\n",
       "  '0.012*\"baby\" + 0.012*\"thank\" + 0.012*\"diaper\" + 0.011*\"gift\" + 0.011*\"book\" + 0.010*\"pregnancy\" + 0.010*\"help\" + 0.009*\"find\" + 0.009*\"good\" + 0.009*\"recommendation\"')]"
      ]
     },
     "execution_count": 70,
     "metadata": {},
     "output_type": "execute_result"
    }
   ],
   "source": [
    "obsgyn_lda_12 = obsgyn_lda_models[12]\n",
    "\n",
    "get_topic_terms(obsgyn_lda_12, 12, 10)"
   ]
  },
  {
   "cell_type": "code",
   "execution_count": 64,
   "metadata": {},
   "outputs": [],
   "source": [
    "obsgyn_lda_model = build_gensim_lda(obsgyn_corpus, \n",
    "                               n_topics = 12, \n",
    "                               vocabulary = obsgyn_vocabulary, \n",
    "                               n_passes = 100)"
   ]
  },
  {
   "cell_type": "code",
   "execution_count": 65,
   "metadata": {},
   "outputs": [
    {
     "data": {
      "text/plain": [
       "[(0,\n",
       "  '0.017*\"ultrasound\" + 0.012*\"doctor\" + 0.011*\"appointment\" + 0.011*\"scan\" + 0.011*\"baby\" + 0.010*\"test\" + 0.009*\"blood\" + 0.007*\"ob\" + 0.007*\"tell\" + 0.007*\"pregnancy\"'),\n",
       " (1,\n",
       "  '0.017*\"labor\" + 0.014*\"contraction\" + 0.011*\"hospital\" + 0.011*\"birth\" + 0.011*\"baby\" + 0.010*\"section\" + 0.008*\"induction\" + 0.008*\"induce\" + 0.008*\"epidural\" + 0.008*\"hour\"'),\n",
       " (2,\n",
       "  '0.026*\"pregnant\" + 0.021*\"sex\" + 0.020*\"try\" + 0.014*\"period\" + 0.011*\"start\" + 0.011*\"pill\" + 0.011*\"birth control\" + 0.010*\"control\" + 0.010*\"conceive\" + 0.010*\"ttc\"'),\n",
       " (3,\n",
       "  '0.013*\"baby\" + 0.009*\"tell\" + 0.008*\"family\" + 0.008*\"pregnant\" + 0.008*\"work\" + 0.007*\"husband\" + 0.006*\"friend\" + 0.006*\"people\" + 0.006*\"mom\" + 0.005*\"thing\"'),\n",
       " (4,\n",
       "  '0.015*\"eat\" + 0.011*\"sleep\" + 0.008*\"food\" + 0.008*\"pregnancy\" + 0.008*\"morning\" + 0.007*\"nausea\" + 0.007*\"sickness\" + 0.007*\"pregnant\" + 0.007*\"night\" + 0.007*\"work\"'),\n",
       " (5,\n",
       "  '0.028*\"pain\" + 0.010*\"cramp\" + 0.009*\"normal\" + 0.008*\"experience\" + 0.008*\"hurt\" + 0.008*\"bad\" + 0.008*\"pregnancy\" + 0.006*\"help\" + 0.006*\"right\" + 0.006*\"low\"'),\n",
       " (6,\n",
       "  '0.035*\"cycle\" + 0.028*\"ovulation\" + 0.025*\"opk\" + 0.022*\"cd\" + 0.020*\"ovulate\" + 0.014*\"temp\" + 0.014*\"test\" + 0.011*\"period\" + 0.011*\"positive\" + 0.010*\"app\"'),\n",
       " (7,\n",
       "  '0.023*\"progesterone\" + 0.022*\"fertility\" + 0.019*\"ttc\" + 0.018*\"iui\" + 0.017*\"ivf\" + 0.016*\"clomid\" + 0.016*\"cycle\" + 0.015*\"mg\" + 0.013*\"doctor\" + 0.013*\"sperm\"'),\n",
       " (8,\n",
       "  '0.020*\"weight\" + 0.020*\"baby\" + 0.018*\"gain\" + 0.014*\"belly\" + 0.013*\"kick\" + 0.011*\"bump\" + 0.011*\"pregnancy\" + 0.011*\"pregnant\" + 0.011*\"girl\" + 0.011*\"boy\"'),\n",
       " (9,\n",
       "  '0.048*\"test\" + 0.035*\"period\" + 0.023*\"positive\" + 0.022*\"pregnancy\" + 0.020*\"pregnancy test\" + 0.020*\"negative\" + 0.015*\"symptom\" + 0.013*\"pregnant\" + 0.012*\"early\" + 0.012*\"late\"'),\n",
       " (10,\n",
       "  '0.021*\"baby\" + 0.017*\"buy\" + 0.014*\"clothe\" + 0.013*\"maternity\" + 0.012*\"pump\" + 0.010*\"registry\" + 0.010*\"stroller\" + 0.009*\"item\" + 0.009*\"need\" + 0.009*\"breast\"'),\n",
       " (11,\n",
       "  '0.012*\"thank\" + 0.011*\"pregnancy\" + 0.011*\"diaper\" + 0.011*\"help\" + 0.011*\"book\" + 0.010*\"find\" + 0.010*\"prenatal\" + 0.010*\"pregnant\" + 0.009*\"baby\" + 0.009*\"good\"')]"
      ]
     },
     "execution_count": 65,
     "metadata": {},
     "output_type": "execute_result"
    }
   ],
   "source": [
    "get_topic_terms(obsgyn_lda_model, 12, 10)"
   ]
  },
  {
   "cell_type": "code",
   "execution_count": 66,
   "metadata": {},
   "outputs": [
    {
     "data": {
      "text/plain": [
       "-2.137"
      ]
     },
     "execution_count": 66,
     "metadata": {},
     "output_type": "execute_result"
    }
   ],
   "source": [
    "build_gensim_coherence_model(obsgyn_lda_model, corpus = obsgyn_corpus, dictionary = obsgyn_vocabulary)"
   ]
  },
  {
   "cell_type": "code",
   "execution_count": 67,
   "metadata": {},
   "outputs": [],
   "source": [
    "pickle.dump(health_lda_model, open('../pickles/obsgyn_lda_model.p', 'wb'))"
   ]
  },
  {
   "cell_type": "code",
   "execution_count": null,
   "metadata": {},
   "outputs": [],
   "source": []
  }
 ],
 "metadata": {
  "kernelspec": {
   "display_name": "Python 3",
   "language": "python",
   "name": "python3"
  },
  "language_info": {
   "codemirror_mode": {
    "name": "ipython",
    "version": 3
   },
   "file_extension": ".py",
   "mimetype": "text/x-python",
   "name": "python",
   "nbconvert_exporter": "python",
   "pygments_lexer": "ipython3",
   "version": "3.7.6"
  }
 },
 "nbformat": 4,
 "nbformat_minor": 4
}
