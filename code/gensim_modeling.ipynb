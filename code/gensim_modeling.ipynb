{
 "cells": [
  {
   "cell_type": "markdown",
   "metadata": {},
   "source": [
    "# Topic Modeling"
   ]
  },
  {
   "cell_type": "markdown",
   "metadata": {},
   "source": [
    "## Imports"
   ]
  },
  {
   "cell_type": "code",
   "execution_count": 1,
   "metadata": {},
   "outputs": [],
   "source": [
    "import pandas as pd\n",
    "import numpy as np\n",
    "import matplotlib.pyplot as plt\n",
    "import seaborn as sns\n",
    "\n",
    "# Spacy\n",
    "import spacy\n",
    "\n",
    "# Scipy\n",
    "import scipy.sparse\n",
    "\n",
    "# Sklearn\n",
    "from sklearn.feature_extraction.text import TfidfVectorizer\n",
    "\n",
    "# Gensim\n",
    "from gensim import matutils\n",
    "from gensim import corpora\n",
    "from gensim.models import LsiModel, LdaModel\n",
    "from gensim.models.coherencemodel import CoherenceModel\n",
    "\n",
    "# NLTK\n",
    "from nltk.corpus import stopwords\n",
    "\n",
    "# Pyldavis\n",
    "import pyLDAvis\n",
    "import pyLDAvis.gensim"
   ]
  },
  {
   "cell_type": "markdown",
   "metadata": {},
   "source": [
    "#### Color Palette"
   ]
  },
  {
   "cell_type": "code",
   "execution_count": 32,
   "metadata": {},
   "outputs": [],
   "source": [
    "blush = '#F7D1CD'\n",
    "pink = '#E8C2CA'\n",
    "light_purple = '#D1B3C4'\n",
    "medium_purple = '#B392AC'\n",
    "dark_purple = '#B392AC'\n",
    "warm_grey = '#8E9AAF'"
   ]
  },
  {
   "cell_type": "markdown",
   "metadata": {},
   "source": [
    "## Read-In Data"
   ]
  },
  {
   "cell_type": "code",
   "execution_count": 2,
   "metadata": {},
   "outputs": [
    {
     "name": "stdout",
     "output_type": "stream",
     "text": [
      "Health: (30616, 8)\n",
      "ObsGyn: (92943, 8)\n",
      "Pospar: (49094, 8)\n"
     ]
    }
   ],
   "source": [
    "health = pd.read_csv('../data/womens_health_preprocessed.csv', lineterminator='\\n')\n",
    "print(f'Health: {health.shape}')\n",
    "obsgyn = pd.read_csv('../data/fertility_and_pregnancy_preprocessed.csv')\n",
    "print(f'ObsGyn: {obsgyn.shape}')\n",
    "pospar = pd.read_csv('../data/postpartum_preprocessed.csv')\n",
    "print(f'Pospar: {pospar.shape}')"
   ]
  },
  {
   "cell_type": "markdown",
   "metadata": {},
   "source": [
    "## Define Stop Words"
   ]
  },
  {
   "cell_type": "code",
   "execution_count": 3,
   "metadata": {},
   "outputs": [],
   "source": [
    "def add_stop_words(word_list, list_stop_words):\n",
    "    for word in word_list:\n",
    "        list_stop_words.add(word)\n",
    "        \n",
    "def remove_stop_words(word_list, list_stop_words):\n",
    "    for word in word_list:\n",
    "        list_stop_words.remove(word)"
   ]
  },
  {
   "cell_type": "code",
   "execution_count": 4,
   "metadata": {},
   "outputs": [],
   "source": [
    "# spaCy\n",
    "nlp = spacy.load('en_core_web_sm')\n",
    "stop_words_spacy = set(nlp.Defaults.stop_words)\n",
    "\n",
    "# nltk\n",
    "stop_words_nltk = set(stopwords.words('english'))\n",
    "\n",
    "# full list of stop words\n",
    "full_stop_words = stop_words_spacy.union(stop_words_nltk)\n",
    "\n",
    "words_to_add = ['like', 'know', 'want', 'feel', 'going', 'think', 'reddit', 'imgur', 'pron', 'officially', 'story', 'month', 'week', 'time', 'day', 'year', 'delete', 'saturday', 'sunday', 'monday', 'tuesday', 'wednesday', 'thursday', 'friday']\n",
    "\n",
    "add_stop_words(words_to_add, full_stop_words)\n",
    "remove_stop_words(['not'], full_stop_words)"
   ]
  },
  {
   "cell_type": "markdown",
   "metadata": {},
   "source": [
    "## Create Document Term Matrix From Corpus"
   ]
  },
  {
   "cell_type": "markdown",
   "metadata": {},
   "source": [
    "#### Function"
   ]
  },
  {
   "cell_type": "code",
   "execution_count": 5,
   "metadata": {},
   "outputs": [],
   "source": [
    "def build_tvec(df, column, stop_words = full_stop_words):\n",
    "    tvec = TfidfVectorizer(max_df = 0.98, min_df = 0.005, ngram_range = (1,2), stop_words = stop_words)\n",
    "    dtm = tvec.fit_transform(df[column])\n",
    "    return tvec, dtm"
   ]
  },
  {
   "cell_type": "markdown",
   "metadata": {},
   "source": [
    "#### Create Document Term Matrix"
   ]
  },
  {
   "cell_type": "code",
   "execution_count": 6,
   "metadata": {},
   "outputs": [],
   "source": [
    "# Vectorizer, dtm are outputed from build_tvec\n",
    "\n",
    "health_vectorizer, health_dtm = build_tvec(health, 'lemma_text')\n",
    "obsgyn_vectorizer, obsgyn_dtm = build_tvec(obsgyn, 'lemma_text')\n",
    "pospar_vectorizer, pospar_dtm = build_tvec(pospar, 'lemma_text')"
   ]
  },
  {
   "cell_type": "markdown",
   "metadata": {},
   "source": [
    "#### Transform Document Term Matrix into a Term Document Matrix that can be recognized by Gensim\n",
    "\n",
    "**Note**: Code for these steps was modified from [A Dash of Data](https://github.com/adashofdata/nlp-in-python-tutorial) by Alice Zhao"
   ]
  },
  {
   "cell_type": "code",
   "execution_count": 7,
   "metadata": {},
   "outputs": [],
   "source": [
    "def create_tdm(dtm):\n",
    "    tdm = dtm.transpose()\n",
    "    return tdm"
   ]
  },
  {
   "cell_type": "code",
   "execution_count": 8,
   "metadata": {},
   "outputs": [],
   "source": [
    "def tdm_to_gensim_corpus(tdm):\n",
    "    sparse = scipy.sparse.csr_matrix(tdm) # Create a compressed sparse row matrix\n",
    "    corpus = matutils.Sparse2Corpus(tdm) # Create a corpus from sparse matrix\n",
    "    return corpus"
   ]
  },
  {
   "cell_type": "code",
   "execution_count": 9,
   "metadata": {},
   "outputs": [],
   "source": [
    "def prepare_dtm_for_gensim(dtm):\n",
    "    tdm = create_tdm(dtm)\n",
    "    corpus = tdm_to_gensim_corpus(tdm)\n",
    "    return corpus"
   ]
  },
  {
   "cell_type": "code",
   "execution_count": 10,
   "metadata": {},
   "outputs": [],
   "source": [
    "health_corpus = prepare_dtm_for_gensim(health_dtm)\n",
    "obsgyn_corpus = prepare_dtm_for_gensim(obsgyn_dtm)\n",
    "pospar_corpus = prepare_dtm_for_gensim(pospar_dtm)"
   ]
  },
  {
   "cell_type": "markdown",
   "metadata": {},
   "source": [
    "## Define Vocabulary Dictionary from Vectorizer"
   ]
  },
  {
   "cell_type": "code",
   "execution_count": 11,
   "metadata": {},
   "outputs": [],
   "source": [
    "def create_vocab_dictionary(vectorizer):\n",
    "    vocab_dictionary = dict((v,k) for k,v in vectorizer.vocabulary_.items())\n",
    "    return vocab_dictionary"
   ]
  },
  {
   "cell_type": "code",
   "execution_count": 12,
   "metadata": {},
   "outputs": [],
   "source": [
    "health_vocabulary = create_vocab_dictionary(health_vectorizer)\n",
    "obsgyn_vocabulary = create_vocab_dictionary(obsgyn_vectorizer)\n",
    "pospar_vocabulary = create_vocab_dictionary(pospar_vectorizer)"
   ]
  },
  {
   "cell_type": "markdown",
   "metadata": {},
   "source": [
    "## Modeling"
   ]
  },
  {
   "cell_type": "markdown",
   "metadata": {},
   "source": [
    "### Build LSA Models"
   ]
  },
  {
   "cell_type": "code",
   "execution_count": 13,
   "metadata": {},
   "outputs": [],
   "source": [
    "def build_gensim_lsa(dtm, dictionary, n_topics):\n",
    "    lsa = LsiModel(dtm, num_topics = n_topics, id2word = dictionary)\n",
    "    return lsa   "
   ]
  },
  {
   "cell_type": "code",
   "execution_count": 14,
   "metadata": {},
   "outputs": [],
   "source": [
    "def grid_search_lsa(df, column, stopwords, start, stop, step_size):\n",
    "    clean_text, dictionary, dtm = gensim_preprocessing(df, column, stopwords)\n",
    "    \n",
    "    models_dict = {}\n",
    "    coherence_list = []\n",
    "    \n",
    "    for i in range(start, stop, step_size):\n",
    "        print(f'Building LSA model for {i} topics')\n",
    "        lsa_model = build_gensim_lsa(dtm, dictionary, i)\n",
    "        models_dict[i] = lsa_model\n",
    "        print('Calculating coherence score')\n",
    "        coherence = build_gensim_coherence_model(lsa_model, corpus, dictionary)\n",
    "        coherence_list.append(coherence)\n",
    "    \n",
    "    print('Finished!')\n",
    "    \n",
    "    return models_dict, coherence_list"
   ]
  },
  {
   "cell_type": "code",
   "execution_count": 15,
   "metadata": {},
   "outputs": [],
   "source": [
    "def build_gensim_coherence_model(model, corpus, dictionary):\n",
    "    coherence = CoherenceModel(model=model, corpus = corpus, dictionary = dictionary, coherence = 'u_mass')\n",
    "    return round(coherence.get_coherence(), 3)"
   ]
  },
  {
   "cell_type": "code",
   "execution_count": 16,
   "metadata": {},
   "outputs": [],
   "source": [
    "def get_topic_terms(model, n_topics, n_words):\n",
    "    return model.print_topics(num_topics = n_topics, num_words = n_words)"
   ]
  },
  {
   "cell_type": "markdown",
   "metadata": {},
   "source": [
    "### Build LDA Models"
   ]
  },
  {
   "cell_type": "markdown",
   "metadata": {},
   "source": [
    "#### Functions"
   ]
  },
  {
   "cell_type": "code",
   "execution_count": 17,
   "metadata": {},
   "outputs": [],
   "source": [
    "def build_gensim_lda(corpus, n_topics, vocabulary, n_passes):\n",
    "    lda = LdaModel(corpus = corpus, num_topics = n_topics, id2word = vocabulary, passes = n_passes, decay = 0.7, offset = 10, random_state = 2020 )\n",
    "    return lda"
   ]
  },
  {
   "cell_type": "code",
   "execution_count": 53,
   "metadata": {},
   "outputs": [],
   "source": [
    "def grid_search_lda(corpus, vocabulary, n_passes, start, stop, step_size):\n",
    "    \n",
    "    models_dict = {}\n",
    "    coherence_list = []\n",
    "    \n",
    "    for i in range(start, stop, step_size):\n",
    "        print(f'Building LDA model for {i} topics')\n",
    "        lda_model = build_gensim_lda(corpus, i, vocabulary, n_passes)\n",
    "        models_dict[i] = lda_model # Save model as dictionary with # topics as key\n",
    "        print('Calculating coherence score')\n",
    "        coherence = build_gensim_coherence_model(lda_model, corpus, vocabulary)\n",
    "        coherence_list.append(coherence)\n",
    "#         perplexity = lda_model.log_perplexity(corpus)\n",
    "#         perplexity_list.append(perplexity)\n",
    "    \n",
    "    print('Finished!')\n",
    "    \n",
    "    return models_dict, coherence_list"
   ]
  },
  {
   "cell_type": "code",
   "execution_count": 26,
   "metadata": {},
   "outputs": [],
   "source": [
    "# Function Written By Selva Prabhakaran\n",
    "# https://www.machinelearningplus.com/nlp/topic-modeling-gensim-python/\n",
    "\n",
    "def format_topics_sentences(ldamodel, corpus, texts):\n",
    "    # Init output\n",
    "    sent_topics_df = pd.DataFrame()\n",
    "\n",
    "    # Get main topic in each document\n",
    "    for i, row in enumerate(ldamodel[corpus]):\n",
    "        row = sorted(row, key=lambda x: (x[1]), reverse=True)\n",
    "        # Get the Dominant topic, Perc Contribution and Keywords for each document\n",
    "        for j, (topic_num, prop_topic) in enumerate(row):\n",
    "            if j == 0:  # => dominant topic\n",
    "                wp = ldamodel.show_topic(topic_num)\n",
    "                topic_keywords = \", \".join([word for word, prop in wp])\n",
    "                sent_topics_df = sent_topics_df.append(pd.Series([int(topic_num), round(prop_topic,4), topic_keywords]), ignore_index=True)\n",
    "            else:\n",
    "                break\n",
    "    sent_topics_df.columns = ['Dominant_Topic', 'Perc_Contribution', 'Topic_Keywords']\n",
    "\n",
    "    # Add original text to the end of the output\n",
    "    contents = pd.Series(texts)\n",
    "    sent_topics_df = pd.concat([sent_topics_df, contents], axis=1)\n",
    "    \n",
    "    sent_topics_df.columns = ['Dominant_Topic', 'Percent_Dominant_Topic', 'Keywords', 'Original_Text']\n",
    "    \n",
    "    return sent_topics_df"
   ]
  },
  {
   "cell_type": "code",
   "execution_count": null,
   "metadata": {},
   "outputs": [],
   "source": [
    "def plot_coherence_by_topic(start, stop, step_size, coherence_list, size = (10,6), title = None, x_label = None, y_label = None):\n",
    "    plt.figure(figsize = size)\n",
    "    sns.lineplot(x = range(start, stop, step_size), y = coherence_list, linewidth = 2, color = dark_purple)\n",
    "    plt.xlabel(x_label, fontdict = {'fontsize':12}, labelpad = 8)\n",
    "    plt.ylabel(y_label, fontdict = {'fontsize':12}, labelpad = 8)\n",
    "    plt.title(title, fontdict = {'fontsize':15}, pad = 8)\n",
    "    plt.xticks(size = 11)\n",
    "    plt.yticks(size = 11)\n",
    "    plt.tight_layout();"
   ]
  },
  {
   "cell_type": "markdown",
   "metadata": {},
   "source": [
    "#### General Women's Health Data"
   ]
  },
  {
   "cell_type": "code",
   "execution_count": 19,
   "metadata": {},
   "outputs": [
    {
     "name": "stdout",
     "output_type": "stream",
     "text": [
      "Building LDA model for 5 topics\n",
      "Calculating coherence score\n",
      "Building LDA model for 6 topics\n",
      "Calculating coherence score\n",
      "Building LDA model for 7 topics\n",
      "Calculating coherence score\n",
      "Building LDA model for 8 topics\n",
      "Calculating coherence score\n",
      "Building LDA model for 9 topics\n",
      "Calculating coherence score\n",
      "Building LDA model for 10 topics\n",
      "Calculating coherence score\n",
      "Building LDA model for 11 topics\n",
      "Calculating coherence score\n",
      "Building LDA model for 12 topics\n",
      "Calculating coherence score\n",
      "Building LDA model for 13 topics\n",
      "Calculating coherence score\n",
      "Building LDA model for 14 topics\n",
      "Calculating coherence score\n",
      "Building LDA model for 15 topics\n",
      "Calculating coherence score\n",
      "Building LDA model for 16 topics\n",
      "Calculating coherence score\n",
      "Building LDA model for 17 topics\n",
      "Calculating coherence score\n",
      "Building LDA model for 18 topics\n",
      "Calculating coherence score\n",
      "Building LDA model for 19 topics\n",
      "Calculating coherence score\n",
      "Finished!\n"
     ]
    }
   ],
   "source": [
    "health_lda_models, health_lda_coherence = grid_search_lda(corpus = health_corpus, \n",
    "                                                          vocabulary = health_vocabulary, \n",
    "                                                          n_passes = 25, \n",
    "                                                          start = 5, \n",
    "                                                          stop = 20, \n",
    "                                                          step_size = 1)"
   ]
  },
  {
   "cell_type": "code",
   "execution_count": 47,
   "metadata": {},
   "outputs": [
    {
     "data": {
      "image/png": "[encoded data removed]",
      "text/plain": [
       "<Figure size 720x432 with 1 Axes>"
      ]
     },
     "metadata": {
      "needs_background": "light"
     },
     "output_type": "display_data"
    }
   ],
   "source": [
    "plot_coherence_by_topic(5, 20, 1, \n",
    "                        health_lda_coherence_, \n",
    "                        size = (10,6), \n",
    "                        title = 'Coherence Score by Number of Women\\'s Health Topics', \n",
    "                        x_label = 'Number of Topics', \n",
    "                        y_label = 'UMass Coherence Score')"
   ]
  },
  {
   "cell_type": "code",
   "execution_count": 28,
   "metadata": {},
   "outputs": [],
   "source": [
    "health_lda_model = build_gensim_lda(health_corpus, \n",
    "                               n_topics = 15, \n",
    "                               vocabulary = health_vocabulary, \n",
    "                               n_passes = 100)"
   ]
  },
  {
   "cell_type": "code",
   "execution_count": 49,
   "metadata": {},
   "outputs": [
    {
     "data": {
      "text/plain": [
       "[(0,\n",
       "  '0.270*\"iud\" + 0.073*\"mirena\" + 0.059*\"copper\" + 0.045*\"copper iud\" + 0.040*\"insertion\" + 0.036*\"kyleena\" + 0.034*\"string\" + 0.027*\"remove\" + 0.027*\"mirena iud\" + 0.024*\"insert\" + 0.023*\"experience\" + 0.021*\"removal\" + 0.014*\"hormonal\" + 0.014*\"cramp\" + 0.011*\"place\" + 0.009*\"expect\" + 0.009*\"cramping\" + 0.009*\"replace\" + 0.008*\"concern\" + 0.008*\"uterus\"'),\n",
       " (1,\n",
       "  '0.060*\"smell\" + 0.035*\"wash\" + 0.031*\"deodorant\" + 0.030*\"shower\" + 0.026*\"use\" + 0.026*\"skin\" + 0.025*\"sweat\" + 0.022*\"product\" + 0.020*\"makeup\" + 0.020*\"tip\" + 0.020*\"clean\" + 0.019*\"face\" + 0.018*\"soap\" + 0.015*\"water\" + 0.014*\"eye\" + 0.014*\"routine\" + 0.013*\"dry\" + 0.013*\"acne\" + 0.013*\"oil\" + 0.012*\"bath\"'),\n",
       " (2,\n",
       "  '0.025*\"wear\" + 0.016*\"look\" + 0.016*\"dress\" + 0.011*\"bra\" + 0.009*\"buy\" + 0.009*\"clothe\" + 0.007*\"good\" + 0.007*\"size\" + 0.007*\"jean\" + 0.007*\"makeup\" + 0.007*\"find\" + 0.007*\"style\" + 0.006*\"fit\" + 0.006*\"help\" + 0.006*\"girl\" + 0.006*\"short\" + 0.006*\"cute\" + 0.006*\"need\" + 0.006*\"shoe\" + 0.005*\"work\"'),\n",
       " (3,\n",
       "  '0.018*\"pap\" + 0.015*\"doctor\" + 0.012*\"smear\" + 0.011*\"appointment\" + 0.011*\"pap smear\" + 0.010*\"health\" + 0.010*\"woman\" + 0.010*\"hpv\" + 0.008*\"exam\" + 0.008*\"test\" + 0.008*\"tell\" + 0.008*\"obgyn\" + 0.008*\"result\" + 0.007*\"ultrasound\" + 0.007*\"cancer\" + 0.007*\"gynecologist\" + 0.007*\"colposcopy\" + 0.006*\"procedure\" + 0.006*\"need\" + 0.006*\"abnormal\"'),\n",
       " (4,\n",
       "  '0.013*\"friend\" + 0.008*\"guy\" + 0.008*\"people\" + 0.008*\"work\" + 0.007*\"thing\" + 0.007*\"talk\" + 0.006*\"date\" + 0.006*\"good\" + 0.006*\"tell\" + 0.006*\"relationship\" + 0.006*\"life\" + 0.005*\"job\" + 0.005*\"ask\" + 0.005*\"girl\" + 0.005*\"try\" + 0.005*\"love\" + 0.005*\"look\" + 0.005*\"woman\" + 0.005*\"help\" + 0.004*\"way\"'),\n",
       " (5,\n",
       "  '0.077*\"hair\" + 0.021*\"shave\" + 0.015*\"wax\" + 0.011*\"nail\" + 0.011*\"grow\" + 0.010*\"look\" + 0.009*\"leg\" + 0.009*\"razor\" + 0.008*\"try\" + 0.008*\"dye\" + 0.008*\"shampoo\" + 0.008*\"tip\" + 0.008*\"skin\" + 0.008*\"use\" + 0.007*\"cut\" + 0.007*\"long\" + 0.007*\"dry\" + 0.007*\"color\" + 0.006*\"help\" + 0.006*\"dark\"'),\n",
       " (6,\n",
       "  '0.035*\"sex\" + 0.018*\"vagina\" + 0.012*\"finger\" + 0.011*\"orgasm\" + 0.011*\"hurt\" + 0.010*\"boyfriend\" + 0.009*\"try\" + 0.009*\"masturbate\" + 0.008*\"tampon\" + 0.008*\"pain\" + 0.007*\"partner\" + 0.007*\"normal\" + 0.007*\"inside\" + 0.006*\"cervix\" + 0.006*\"painful\" + 0.006*\"sexual\" + 0.006*\"not\" + 0.006*\"virgin\" + 0.006*\"lube\" + 0.006*\"help\"'),\n",
       " (7,\n",
       "  '0.033*\"pain\" + 0.014*\"cyst\" + 0.013*\"period\" + 0.013*\"cramp\" + 0.009*\"bad\" + 0.008*\"ovary\" + 0.007*\"doctor\" + 0.007*\"ovarian\" + 0.006*\"pelvic\" + 0.006*\"experience\" + 0.006*\"low\" + 0.006*\"ovarian cyst\" + 0.006*\"right\" + 0.006*\"ultrasound\" + 0.006*\"start\" + 0.005*\"painful\" + 0.005*\"symptom\" + 0.005*\"normal\" + 0.005*\"stomach\" + 0.004*\"hurt\"'),\n",
       " (8,\n",
       "  '0.036*\"period\" + 0.022*\"pregnant\" + 0.021*\"pregnancy\" + 0.019*\"test\" + 0.018*\"late\" + 0.016*\"pill\" + 0.014*\"sex\" + 0.013*\"pregnancy test\" + 0.012*\"negative\" + 0.011*\"condom\" + 0.010*\"plan\" + 0.009*\"come\" + 0.009*\"miss\" + 0.009*\"th\" + 0.009*\"cycle\" + 0.007*\"period late\" + 0.007*\"symptom\" + 0.007*\"start\" + 0.007*\"stress\" + 0.007*\"birth control\"'),\n",
       " (9,\n",
       "  '0.028*\"control\" + 0.027*\"birth control\" + 0.027*\"birth\" + 0.021*\"pill\" + 0.016*\"weight\" + 0.011*\"period\" + 0.010*\"gain\" + 0.010*\"eat\" + 0.008*\"effect\" + 0.008*\"hormonal\" + 0.008*\"hormone\" + 0.007*\"experience\" + 0.007*\"implant\" + 0.007*\"mood\" + 0.007*\"bc\" + 0.006*\"nexplanon\" + 0.006*\"lose\" + 0.006*\"stop\" + 0.006*\"start\" + 0.006*\"acne\"'),\n",
       " (10,\n",
       "  '0.101*\"cup\" + 0.097*\"tampon\" + 0.068*\"pad\" + 0.054*\"menstrual\" + 0.047*\"menstrual cup\" + 0.029*\"period\" + 0.027*\"use\" + 0.023*\"acid\" + 0.022*\"help\" + 0.018*\"leak\" + 0.018*\"boric acid\" + 0.018*\"boric\" + 0.017*\"product\" + 0.015*\"question\" + 0.015*\"advice\" + 0.014*\"brand\" + 0.011*\"switch\" + 0.011*\"try\" + 0.011*\"bathroom\" + 0.011*\"wear\"'),\n",
       " (11,\n",
       "  '0.151*\"tooth\" + 0.120*\"ex\" + 0.082*\"good\" + 0.050*\"smoke\" + 0.042*\"mouth\" + 0.038*\"quit\" + 0.034*\"brush\" + 0.025*\"dream\" + 0.023*\"intimate\" + 0.022*\"service\" + 0.016*\"menstrual cycle\" + 0.009*\"toxic\" + 0.008*\"menstrual\" + 0.007*\"cycle\" + 0.006*\"hit\" + 0.004*\"care\" + 0.003*\"hi\" + 0.001*\"bed\" + 0.000*\"immediately\" + 0.000*\"removal\"'),\n",
       " (12,\n",
       "  '0.045*\"period\" + 0.020*\"bleed\" + 0.016*\"pill\" + 0.014*\"start\" + 0.013*\"blood\" + 0.013*\"spot\" + 0.012*\"normal\" + 0.011*\"heavy\" + 0.011*\"bleeding\" + 0.011*\"light\" + 0.010*\"brown\" + 0.010*\"birth\" + 0.010*\"birth control\" + 0.010*\"control\" + 0.009*\"stop\" + 0.008*\"discharge\" + 0.008*\"cycle\" + 0.007*\"cramp\" + 0.006*\"ago\" + 0.006*\"clot\"'),\n",
       " (13,\n",
       "  '0.022*\"breast\" + 0.016*\"labia\" + 0.015*\"bump\" + 0.013*\"nipple\" + 0.013*\"lump\" + 0.012*\"skin\" + 0.010*\"notice\" + 0.009*\"sore\" + 0.009*\"area\" + 0.009*\"pimple\" + 0.008*\"hurt\" + 0.008*\"boob\" + 0.008*\"itchy\" + 0.007*\"look\" + 0.007*\"small\" + 0.007*\"red\" + 0.007*\"vagina\" + 0.007*\"cyst\" + 0.006*\"painful\" + 0.006*\"right\"'),\n",
       " (14,\n",
       "  '0.026*\"infection\" + 0.025*\"yeast\" + 0.022*\"yeast infection\" + 0.016*\"discharge\" + 0.016*\"uti\" + 0.011*\"bv\" + 0.010*\"smell\" + 0.010*\"antibiotic\" + 0.010*\"pee\" + 0.008*\"symptom\" + 0.008*\"sex\" + 0.008*\"doctor\" + 0.008*\"vagina\" + 0.007*\"test\" + 0.007*\"vaginal\" + 0.007*\"burn\" + 0.006*\"help\" + 0.006*\"come\" + 0.006*\"itching\" + 0.005*\"itch\"')]"
      ]
     },
     "execution_count": 49,
     "metadata": {},
     "output_type": "execute_result"
    }
   ],
   "source": [
    "get_topic_terms(health_lda_model, 15, 20)"
   ]
  },
  {
   "cell_type": "code",
   "execution_count": 30,
   "metadata": {},
   "outputs": [
    {
     "data": {
      "text/plain": [
       "-2.259"
      ]
     },
     "execution_count": 30,
     "metadata": {},
     "output_type": "execute_result"
    }
   ],
   "source": [
    "build_gensim_coherence_model(health_lda_model, corpus = health_corpus, dictionary = health_vocabulary)"
   ]
  },
  {
   "cell_type": "code",
   "execution_count": null,
   "metadata": {},
   "outputs": [],
   "source": [
    "# pyLDAvis.gensim.prepare(df_lda_17, health_corpus, health_vocabulary)"
   ]
  },
  {
   "cell_type": "markdown",
   "metadata": {},
   "source": [
    "#### Fertility and Pregnancy"
   ]
  },
  {
   "cell_type": "code",
   "execution_count": null,
   "metadata": {},
   "outputs": [
    {
     "name": "stdout",
     "output_type": "stream",
     "text": [
      "Building LDA model for 2 topics\n",
      "Calculating coherence score\n",
      "Building LDA model for 4 topics\n"
     ]
    }
   ],
   "source": [
    "obsgyn_lda_models, obsgyn_lda_coherence = grid_search_lda(corpus = obsgyn_corpus, \n",
    "                                                          vocabulary = obsgyn_vocabulary, \n",
    "                                                          n_passes = 25, \n",
    "                                                          start = 2, \n",
    "                                                          stop = 30, \n",
    "                                                          step_size = 2)"
   ]
  },
  {
   "cell_type": "code",
   "execution_count": null,
   "metadata": {},
   "outputs": [],
   "source": []
  }
 ],
 "metadata": {
  "kernelspec": {
   "display_name": "Python 3",
   "language": "python",
   "name": "python3"
  },
  "language_info": {
   "codemirror_mode": {
    "name": "ipython",
    "version": 3
   },
   "file_extension": ".py",
   "mimetype": "text/x-python",
   "name": "python",
   "nbconvert_exporter": "python",
   "pygments_lexer": "ipython3",
   "version": "3.7.6"
  }
 },
 "nbformat": 4,
 "nbformat_minor": 4
}
