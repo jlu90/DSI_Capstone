{
 "cells": [
  {
   "cell_type": "markdown",
   "metadata": {},
   "source": [
    "# Determining the Optimal Number of Topics or Clusters\n",
    "\n",
    "If building a supervised model with SciKit Learn, `GridSearchCV` is an essential tool for tuning the best hyperparameters for a model. `GridSearchCV` works by essentially fitting a model for each of the combinations of hyperparameters and providing a cross-validated score for each combination of features. At the end of the process, it is able to determine which values of hyperparameters result in the best score. \n",
    "\n",
    "Because I am using unsupervised learning techniques (KMeansClustering in SciKit Learn and Latent Dirichlet Allocation in Gensim) in this project, I am unable to use `GridSearchCV` to determine the optimal number of topics/clusters for my data. To overcome this, I have built functions to allow me to assess a metric score and explore topic key words for each number of clusters/topics. \n",
    "\n",
    "With unsupervised learning techniques, such as clustering, often the number of clusters that results in the best score might not be the most interpretable. Therefore, it will be important to make sure that any clusters or topics that emerge from the model also have clear meaning to the human that is evaluating them. **Here, I will appy these functions to the General Women's Health and Fertility and Pregancy data to try and find clusters/topics that are not only optimized for a scoring metric but also interpretable.**"
   ]
  },
  {
   "cell_type": "markdown",
   "metadata": {},
   "source": [
    "## Imports"
   ]
  },
  {
   "cell_type": "code",
   "execution_count": 1,
   "metadata": {},
   "outputs": [],
   "source": [
    "import pandas as pd\n",
    "import numpy as np\n",
    "import matplotlib.pyplot as plt\n",
    "import seaborn as sns\n",
    "\n",
    "# Spacy\n",
    "import spacy\n",
    "\n",
    "# Scipy\n",
    "import scipy.sparse\n",
    "\n",
    "# Sklearn\n",
    "from sklearn.feature_extraction.text import TfidfVectorizer\n",
    "from sklearn.cluster import KMeans\n",
    "from sklearn.metrics import silhouette_score\n",
    "\n",
    "# Gensim\n",
    "from gensim import matutils\n",
    "from gensim import corpora\n",
    "# from gensim.corpora.dictionary import Dictionary\n",
    "from gensim.models import LdaModel\n",
    "from gensim.models.coherencemodel import CoherenceModel\n",
    "\n",
    "# NLTK\n",
    "from nltk.corpus import stopwords\n",
    "\n",
    "# Silence Future Warnings\n",
    "import warnings\n",
    "warnings.simplefilter(action='ignore', category=FutureWarning)"
   ]
  },
  {
   "cell_type": "markdown",
   "metadata": {},
   "source": [
    "#### Color Palette"
   ]
  },
  {
   "cell_type": "code",
   "execution_count": 2,
   "metadata": {},
   "outputs": [],
   "source": [
    "blush = '#F7D1CD'\n",
    "dark_purple = '#B392AC'\n",
    "warm_grey = '#8E9AAF'"
   ]
  },
  {
   "cell_type": "markdown",
   "metadata": {},
   "source": [
    "## Read-In Data"
   ]
  },
  {
   "cell_type": "code",
   "execution_count": 3,
   "metadata": {},
   "outputs": [
    {
     "name": "stdout",
     "output_type": "stream",
     "text": [
      "Health Shape: (30616, 7)\n",
      "ObsGyn Shape: (92943, 7)\n"
     ]
    }
   ],
   "source": [
    "health = pd.read_csv('../data/womens_health_preprocessed.csv', lineterminator='\\n')\n",
    "print(f'Health Shape: {health.shape}')\n",
    "obsgyn = pd.read_csv('../data/fertility_and_pregnancy_preprocessed.csv')\n",
    "print(f'ObsGyn Shape: {obsgyn.shape}')"
   ]
  },
  {
   "cell_type": "markdown",
   "metadata": {},
   "source": [
    "## Define Stop Words"
   ]
  },
  {
   "cell_type": "markdown",
   "metadata": {},
   "source": [
    "Prior to creating a document term matrix from the text data, I will read in stop words from spaCy and NLTK. These stop words will be combined with custom stop words to create a full list of stop words."
   ]
  },
  {
   "cell_type": "code",
   "execution_count": 4,
   "metadata": {},
   "outputs": [],
   "source": [
    "def add_stop_words(word_list, list_stop_words):\n",
    "    for word in word_list:\n",
    "        list_stop_words.add(word)\n",
    "        \n",
    "def remove_stop_words(word_list, list_stop_words):\n",
    "    for word in word_list:\n",
    "        list_stop_words.remove(word)"
   ]
  },
  {
   "cell_type": "code",
   "execution_count": 5,
   "metadata": {},
   "outputs": [],
   "source": [
    "# spaCy\n",
    "nlp = spacy.load('en_core_web_sm')\n",
    "stop_words_spacy = set(nlp.Defaults.stop_words)\n",
    "\n",
    "# nltk\n",
    "stop_words_nltk = set(stopwords.words('english'))\n",
    "\n",
    "# full list of stop words\n",
    "full_stop_words = stop_words_spacy.union(stop_words_nltk)\n",
    "\n",
    "words_to_add = ['like', 'know', 'want', 'feel', 'going', 'think', 'reddit', 'imgur', 'pron', 'officially', 'story', 'month', 'week', 'time', 'day', 'year', 'delete', 'saturday', 'sunday', 'monday', 'tuesday', 'wednesday', 'thursday', 'friday', 'subreddit']\n",
    "\n",
    "add_stop_words(words_to_add, full_stop_words)\n",
    "remove_stop_words(['not'], full_stop_words)"
   ]
  },
  {
   "cell_type": "markdown",
   "metadata": {},
   "source": [
    "## Create Document Term Matrix (DTM) From Corpus"
   ]
  },
  {
   "cell_type": "markdown",
   "metadata": {},
   "source": [
    "In order to convert each document (post) in the corpus to a vector, I will use ***Sklearn***'s `TfidfVectorizer`. TF-IDF stands for Term Frequency-Inverse Document Frequency. Essentially, using this vectorizer, words that appear frequently in a document but also appear frequently in several documents throughout the corpus are not weighted as heavily as words that appear frequenly in a document but infrequently in the corpus. For an overview of TF-IDF, check out this [video](https://www.youtube.com/watch?v=4vT4fzjkGCQ). "
   ]
  },
  {
   "cell_type": "markdown",
   "metadata": {},
   "source": [
    "#### Function to Convert Text to a DTM"
   ]
  },
  {
   "cell_type": "code",
   "execution_count": 6,
   "metadata": {},
   "outputs": [],
   "source": [
    "def build_tvec(df, column, stop_words = full_stop_words):\n",
    "    tvec = TfidfVectorizer(max_df = 0.98, min_df = 0.005, ngram_range = (1,2), stop_words = stop_words)\n",
    "    dtm = tvec.fit_transform(df[column])\n",
    "    return tvec, dtm"
   ]
  },
  {
   "cell_type": "markdown",
   "metadata": {},
   "source": [
    "#### Create DTM for Each Health Domain"
   ]
  },
  {
   "cell_type": "code",
   "execution_count": 7,
   "metadata": {},
   "outputs": [],
   "source": [
    "# Vectorizer, dtm are outputed from build_tvec\n",
    "\n",
    "health_vectorizer, health_dtm = build_tvec(health, 'lemma_text')\n",
    "obsgyn_vectorizer, obsgyn_dtm = build_tvec(obsgyn, 'lemma_text')"
   ]
  },
  {
   "cell_type": "markdown",
   "metadata": {},
   "source": [
    "\n",
    "#### Transform DTM into a Term Document Matrix (TDM) That is Compatible with Gensim\n",
    "\n",
    "Gensim requires the format of the input to be a Gensim corpus data type. In order to convert the document-term matrix to a corpus, we must first convert it to a term-document matrix, which is the tranpose of the document-term matrix. Once the term-document matrix is created, it is converted to a compressed sparse row matrix, and finally a Gensim corpus.\n",
    "\n",
    "**Note**: Code for these steps was modified from [A Dash of Data](https://github.com/adashofdata/nlp-in-python-tutorial) by Alice Zhao\n",
    "\n",
    "***FOR GENSIM MODELS ONLY!*** "
   ]
  },
  {
   "cell_type": "code",
   "execution_count": 8,
   "metadata": {},
   "outputs": [],
   "source": [
    "def create_tdm(dtm):\n",
    "    tdm = dtm.transpose() # transpose dtm\n",
    "    return tdm\n",
    "\n",
    "def tdm_to_gensim_corpus(tdm):\n",
    "    sparse = scipy.sparse.csr_matrix(tdm) # Create a compressed sparse row matrix\n",
    "    corpus = matutils.Sparse2Corpus(tdm) # Create a corpus from sparse matrix\n",
    "    return corpus\n",
    "\n",
    "def prepare_dtm_for_gensim(dtm):\n",
    "    tdm = create_tdm(dtm)\n",
    "    corpus = tdm_to_gensim_corpus(tdm)\n",
    "    return corpus"
   ]
  },
  {
   "cell_type": "markdown",
   "metadata": {},
   "source": [
    "#### Transform the DTM to TDM for Each Health Domain"
   ]
  },
  {
   "cell_type": "code",
   "execution_count": 9,
   "metadata": {},
   "outputs": [],
   "source": [
    "health_corpus = prepare_dtm_for_gensim(health_dtm)\n",
    "obsgyn_corpus = prepare_dtm_for_gensim(obsgyn_dtm)"
   ]
  },
  {
   "cell_type": "markdown",
   "metadata": {},
   "source": [
    "## Define the Vocabulary That Was Used in the Vectorizer\n",
    "\n",
    "Gensim also requires that a dictionary, containing the vocabulary and index of the term, be input into the model. This can be done using a dictionary comprehension or using the `.from_corpus` method. "
   ]
  },
  {
   "cell_type": "markdown",
   "metadata": {},
   "source": [
    "***For Gensim Models***"
   ]
  },
  {
   "cell_type": "code",
   "execution_count": 10,
   "metadata": {},
   "outputs": [],
   "source": [
    "def create_vocab_dictionary(vectorizer):\n",
    "    vocab_dictionary = dict((v,k) for k,v in vectorizer.vocabulary_.items())\n",
    "    return vocab_dictionary"
   ]
  },
  {
   "cell_type": "code",
   "execution_count": 11,
   "metadata": {},
   "outputs": [],
   "source": [
    "health_vocabulary = create_vocab_dictionary(health_vectorizer)\n",
    "obsgyn_vocabulary = create_vocab_dictionary(obsgyn_vectorizer)"
   ]
  },
  {
   "cell_type": "markdown",
   "metadata": {},
   "source": [
    "***For SciKit Learn Models***"
   ]
  },
  {
   "cell_type": "code",
   "execution_count": 12,
   "metadata": {},
   "outputs": [],
   "source": [
    "health_terms = health_vectorizer.get_feature_names()\n",
    "obsgyn_terms = obsgyn_vectorizer.get_feature_names()"
   ]
  },
  {
   "cell_type": "markdown",
   "metadata": {},
   "source": [
    "## Grid Search"
   ]
  },
  {
   "cell_type": "markdown",
   "metadata": {},
   "source": [
    "In the following code, I will use custom functions to determine the optimal number of clusters/topics for each model and data set. These functions have been designed to return a list of scoring metrics and a dictionary of fitted models. The list of scoring metrics can be plotted to see how the metrics vary across different numbers of clusters/topics, and having access to the fitted model allows me to find the most important terms for each cluster/topic."
   ]
  },
  {
   "cell_type": "markdown",
   "metadata": {},
   "source": [
    "### K-Means Clustering\n",
    "#### Functions"
   ]
  },
  {
   "cell_type": "code",
   "execution_count": 13,
   "metadata": {},
   "outputs": [],
   "source": [
    "def grid_search_kmeans(start, stop, step, dtm):\n",
    "    \n",
    "    silhouettes = []\n",
    "    models = {}\n",
    "    \n",
    "    for i in range(start, stop, step):\n",
    "        \n",
    "        # Build KMeans Model\n",
    "        kmeans = KMeans(n_clusters = i, random_state = 42, n_jobs = -1)\n",
    "        kmeans.fit(dtm)\n",
    "        models[i] = kmeans\n",
    "        \n",
    "        # Calculate Silhouette Score & Append to List\n",
    "        preds = kmeans.fit_predict(dtm)\n",
    "        sil_score = silhouette_score(dtm, preds)\n",
    "        silhouettes.append(sil_score)\n",
    "        \n",
    "    return models, silhouettes"
   ]
  },
  {
   "cell_type": "code",
   "execution_count": 14,
   "metadata": {},
   "outputs": [],
   "source": [
    "def plot_gs_results(start, stop, step, list_of_scores, title = None, x_label = None, y_label = None):\n",
    "    plt.figure(figsize = (12, 8))\n",
    "    sns.lineplot(x = range(start, stop, step), y = list_of_scores, linewidth = 2, color = '#B392AC')\n",
    "    plt.title(title, fontdict = {'fontsize': 15}, pad = 8)\n",
    "    plt.xlabel(x_label, fontdict = {'fontsize': 12}, labelpad = 8)\n",
    "    plt.ylabel(y_label, fontdict = {'fontsize': 12}, labelpad = 8)\n",
    "    plt.tight_layout();"
   ]
  },
  {
   "cell_type": "code",
   "execution_count": 15,
   "metadata": {},
   "outputs": [],
   "source": [
    "def get_topic_terms_kmeans(model, k, terms, n_terms = 15):\n",
    "# Code modified from # https://pythonprogramminglanguage.com/kmeans-text-clustering/\n",
    "\n",
    "    sorted_centroids = model.cluster_centers_.argsort()[:, ::-1]\n",
    "    \n",
    "    topic_dictionary = {}\n",
    "    for i in range(k):\n",
    "        topics_list = []\n",
    "        for index in sorted_centroids[i, :n_terms]:\n",
    "                topics_list.append(terms[index])\n",
    "        topic_dictionary[i] = topics_list\n",
    "    \n",
    "    return topic_dictionary"
   ]
  },
  {
   "cell_type": "markdown",
   "metadata": {},
   "source": [
    "#### KMeans Grid Search for General Women's Health Data\n",
    "\n",
    "Below I will use the K-Means grid search function to build 12 models, ranging from 2 to 24 in steps of 2. Each model will be evaluated on silhouette score. The silhouette score is provides a measure of how similar points in a cluster are to each other and how separated a cluster is from other clusters. A silhouette score can range from -1 (Bad) to 1 (Excellent)."
   ]
  },
  {
   "cell_type": "code",
   "execution_count": 16,
   "metadata": {},
   "outputs": [],
   "source": [
    "# Save dictionary of models and list of silhouette scores\n",
    "health_kmeans_models, health_silhouettes = grid_search_kmeans(2, 25, 2, health_dtm)"
   ]
  },
  {
   "cell_type": "markdown",
   "metadata": {},
   "source": [
    "Once the models have been built, the silhouette scores can be plotted for each of the numbers of clusters."
   ]
  },
  {
   "cell_type": "code",
   "execution_count": 17,
   "metadata": {},
   "outputs": [
    {
     "data": {
      "image/png": "[encoded data removed]",
      "text/plain": [
       "<Figure size 864x576 with 1 Axes>"
      ]
     },
     "metadata": {
      "needs_background": "light"
     },
     "output_type": "display_data"
    }
   ],
   "source": [
    "plot_gs_results(2, 25, 2, \n",
    "                health_silhouettes, \n",
    "                title = 'Silhouette Score by Number of General Women\\'s Health Topics',\n",
    "                x_label = 'Number of Topics (k)',\n",
    "                y_label = 'Silhouette Score')"
   ]
  },
  {
   "cell_type": "markdown",
   "metadata": {},
   "source": [
    "In the above plot, we are able to see that as the number of clusters (k) increases, the silhouette score also increases. However, even though the metric might look better for more clusters, the clusters might not be interpretable or make sense to a human observer. Therefore, in order to determine which number of clusters is best for the data, the top terms for each cluster needs to be evaluated.\n",
    "\n",
    "In general, the silhouette scores for these models are low and indicate poor separation between clusters. A value of clusters ~17 seems to provide a \"peak\" silhouette score. Because the grid search function built models with values of K that increment by 2, I can look at the cluster terms for 16 clusters using the following code:"
   ]
  },
  {
   "cell_type": "code",
   "execution_count": 18,
   "metadata": {
    "scrolled": false
   },
   "outputs": [
    {
     "data": {
      "text/plain": [
       "{0: ['discharge',\n",
       "  'brown',\n",
       "  'brown discharge',\n",
       "  'period',\n",
       "  'white',\n",
       "  'normal',\n",
       "  'smell',\n",
       "  'notice',\n",
       "  'vaginal',\n",
       "  'infection']}"
      ]
     },
     "execution_count": 18,
     "metadata": {},
     "output_type": "execute_result"
    }
   ],
   "source": [
    "# To prevent excessive output, only the first cluster is shown.\n",
    "\n",
    "health_kmeans_16 = health_kmeans_models[16]\n",
    "\n",
    "get_topic_terms_kmeans(health_kmeans_16, 1, health_terms, 10) # To view all clusters, change 1 to 16"
   ]
  },
  {
   "cell_type": "markdown",
   "metadata": {},
   "source": [
    "Upon inspecting the resulting clusters, for the most part 16 clusters seems to provide fairly interpretable clusters and would be a good starting point for building the actual models. It is important to note that this is a starting point, and the number of clusters used in the actual model might differ."
   ]
  },
  {
   "cell_type": "markdown",
   "metadata": {},
   "source": [
    "#### KMeans Grid Search for Fertility and Pregnancy Data"
   ]
  },
  {
   "cell_type": "markdown",
   "metadata": {},
   "source": [
    "The same process can be repeated for the Fertility and Pregnancy data."
   ]
  },
  {
   "cell_type": "code",
   "execution_count": null,
   "metadata": {},
   "outputs": [],
   "source": [
    "obsgyn_kmeans_models, obsgyn_silhouettes = grid_search_kmeans(2, 25, 2, obsgyn_dtm)"
   ]
  },
  {
   "cell_type": "code",
   "execution_count": null,
   "metadata": {},
   "outputs": [],
   "source": [
    "plot_gs_results(2, 25, 2, \n",
    "                obsgyn_silhouettes, \n",
    "                title = 'Silhouette Score by Number of Fertility and Pregnancy Topics',\n",
    "                x_label = 'Number of Topics (k)',\n",
    "                y_label = 'Silhouette Score')"
   ]
  },
  {
   "cell_type": "markdown",
   "metadata": {},
   "source": [
    "In general, the silhouette scores for these models are also low and indicate poor separation between clusters. A value of ~16  clusters seems to provide a balance between higher silhouette score and number of topics. I can examine the cluster terms for this model."
   ]
  },
  {
   "cell_type": "code",
   "execution_count": null,
   "metadata": {},
   "outputs": [],
   "source": [
    "# To prevent excessive output, only the first cluster is shown.\n",
    "\n",
    "obsgyn_kmeans_16 = obsgyn_kmeans_models[16]\n",
    "\n",
    "get_topic_terms_kmeans(obsgyn_kmeans_16, 1, obsgyn_terms, 10) # To view all clusters, change 1 to 16"
   ]
  },
  {
   "cell_type": "markdown",
   "metadata": {},
   "source": [
    "Overall, the 16 clusters identified here seem fine. This will be a good starting point."
   ]
  },
  {
   "cell_type": "markdown",
   "metadata": {},
   "source": [
    "### Latent Dirichlet Allocation (LDA)"
   ]
  },
  {
   "cell_type": "markdown",
   "metadata": {},
   "source": [
    "Below I will use the LDA grid search function to build 10 models, ranging from 2 to 21 topics in steps of 2. Each model will be evaluated on UMass cohesion score. The cohesion score measures how similar the words in a topic are to one another. For the UMass score, the closer a score is to 0, the more similar the words in the topic are."
   ]
  },
  {
   "cell_type": "markdown",
   "metadata": {},
   "source": [
    "#### Functions"
   ]
  },
  {
   "cell_type": "code",
   "execution_count": null,
   "metadata": {},
   "outputs": [],
   "source": [
    "def build_gensim_lda(corpus, n_topics, vocabulary, n_passes):\n",
    "    lda = LdaModel(corpus = corpus, num_topics = n_topics, id2word = vocabulary, passes = n_passes, decay = 0.7, offset = 10, random_state = 2020)\n",
    "    return lda"
   ]
  },
  {
   "cell_type": "code",
   "execution_count": null,
   "metadata": {},
   "outputs": [],
   "source": [
    "def build_gensim_coherence_model(model, corpus, dictionary):\n",
    "    coherence = CoherenceModel(model=model, corpus = corpus, dictionary = dictionary, coherence = 'u_mass')\n",
    "    return round(coherence.get_coherence(), 3)"
   ]
  },
  {
   "cell_type": "code",
   "execution_count": null,
   "metadata": {},
   "outputs": [],
   "source": [
    "# Grid Search Function Modified from Selva Prabhakaran\n",
    "# https://www.machinelearningplus.com/nlp/topic-modeling-gensim-python/\n",
    "def grid_search_lda(corpus, vocabulary, n_passes, start, stop, step_size):\n",
    "    \n",
    "    models_dict = {}\n",
    "    coherence_list = []\n",
    "    \n",
    "    for i in range(start, stop, step_size):\n",
    "        lda_model = build_gensim_lda(corpus, i, vocabulary, n_passes)\n",
    "        models_dict[i] = lda_model # Save model to dictionary with # topics as key\n",
    "        coherence = build_gensim_coherence_model(lda_model, corpus, vocabulary)\n",
    "        coherence_list.append(coherence)\n",
    "         \n",
    "    return models_dict, coherence_list"
   ]
  },
  {
   "cell_type": "code",
   "execution_count": null,
   "metadata": {},
   "outputs": [],
   "source": [
    "def plot_coherence_by_topic(start, stop, step_size, coherence_list, size = (12, 8), title = None, x_label = None, y_label = None):\n",
    "    plt.figure(figsize = size)\n",
    "    sns.lineplot(x = range(start, stop, step_size), y = coherence_list, linewidth = 2, color = dark_purple)\n",
    "    plt.xlabel(x_label, fontdict = {'fontsize':12}, labelpad = 8)\n",
    "    plt.ylabel(y_label, fontdict = {'fontsize':12}, labelpad = 8)\n",
    "    plt.title(title, fontdict = {'fontsize':15}, pad = 8)\n",
    "    plt.xticks(range(2,21,2), size = 11)\n",
    "    plt.yticks(size = 11)\n",
    "    plt.tight_layout();"
   ]
  },
  {
   "cell_type": "code",
   "execution_count": null,
   "metadata": {},
   "outputs": [],
   "source": [
    "def get_topic_terms(model, n_topics, n_words):\n",
    "    return model.print_topics(num_topics = n_topics, num_words = n_words)"
   ]
  },
  {
   "cell_type": "markdown",
   "metadata": {},
   "source": [
    "#### Grid Search for Women's Health Data"
   ]
  },
  {
   "cell_type": "code",
   "execution_count": null,
   "metadata": {},
   "outputs": [],
   "source": [
    "health_lda_models, health_lda_coherence = grid_search_lda(corpus = health_corpus, \n",
    "                                                          vocabulary = health_vocabulary, \n",
    "                                                          n_passes = 10, \n",
    "                                                          start = 2, \n",
    "                                                          stop = 21, \n",
    "                                                          step_size = 2);"
   ]
  },
  {
   "cell_type": "markdown",
   "metadata": {},
   "source": [
    "The above code results in a dictionary of fitted models and a list of coherence scores. By plotting the coherence scores for the range of topic numbers, I am able to assess how cohesion changes with the number of topics."
   ]
  },
  {
   "cell_type": "code",
   "execution_count": null,
   "metadata": {},
   "outputs": [],
   "source": [
    "plot_coherence_by_topic(2, 21, 2, \n",
    "                        health_lda_coherence, \n",
    "                        size = (12, 8), \n",
    "                        title = 'Coherence Score by Number of Women\\'s Health Topics', \n",
    "                        x_label = 'Number of Topics', \n",
    "                        y_label = 'UMass Coherence Score')"
   ]
  },
  {
   "cell_type": "markdown",
   "metadata": {},
   "source": [
    "From the following plot, we are able to see that cohesion can vary greatly by number of topics. The ideal numbers of topics appear to possibly be 4 or 10. The terms for these topics can be viewed with the folloing code:\n",
    "\n",
    "```python\n",
    "health_lda_model_4 = health_lda_models[4]\n",
    "get_topic_terms(health_lda_model_4, 4, 4)\n",
    "\n",
    "health_lda_model_10 = health_lda_models[10]\n",
    "get_topic_terms(health_lda_model_10, 10, 10)\n",
    "```\n",
    "\n",
    "After exploring the topic terms, however, the topics did not seem as informative as I had hoped. Although the cohesion score for 12 topics is worse, this number of topics seemed to provide more insight into possible health concerns. The topics and terms after 10 iterations of LDA are shown below."
   ]
  },
  {
   "cell_type": "code",
   "execution_count": null,
   "metadata": {},
   "outputs": [],
   "source": [
    "health_lda_model_12 = health_lda_models[12]\n",
    "get_topic_terms(health_lda_model_12, 12, 10)"
   ]
  },
  {
   "cell_type": "markdown",
   "metadata": {},
   "source": [
    "Overall, 12 topics seems to result in fairly clear and interpretable topics and will be a good place to start for building the main LDA model. It is important to note that the LDA in the main notebook will run for 50 iterations, so topics might vary slightly from this notebook."
   ]
  },
  {
   "cell_type": "markdown",
   "metadata": {},
   "source": [
    "#### Grid Search for Fertility and Pregnancy Data"
   ]
  },
  {
   "cell_type": "markdown",
   "metadata": {},
   "source": [
    "The same process can be followed for the fertility and pregnancy data."
   ]
  },
  {
   "cell_type": "code",
   "execution_count": null,
   "metadata": {},
   "outputs": [],
   "source": [
    "obsgyn_lda_models, obsgyn_lda_coherence = grid_search_lda(corpus = obsgyn_corpus, \n",
    "                                                          vocabulary = obsgyn_vocabulary, \n",
    "                                                          n_passes = 10, \n",
    "                                                          start = 2, \n",
    "                                                          stop = 21, \n",
    "                                                          step_size = 2);"
   ]
  },
  {
   "cell_type": "code",
   "execution_count": null,
   "metadata": {},
   "outputs": [],
   "source": [
    "plot_coherence_by_topic(2, 21, 2, \n",
    "                        obsgyn_lda_coherence, \n",
    "                        size = (12, 8), \n",
    "                        title = 'Coherence Score by Number of Fertility and Pregnancy Topics', \n",
    "                        x_label = 'Number of Topics', \n",
    "                        y_label = 'UMass Coherence Score')"
   ]
  },
  {
   "cell_type": "markdown",
   "metadata": {},
   "source": [
    "From this plot, 4 and 10 seem to be optimal number of topics. Because 4 topics will likely not provide enough fine-grained detail, I will begin by exploring the top terms for 10 topics."
   ]
  },
  {
   "cell_type": "code",
   "execution_count": null,
   "metadata": {},
   "outputs": [],
   "source": [
    "obsgyn_lda_model_10 = obsgyn_lda_models[10]\n",
    "get_topic_terms(obsgyn_lda_model_10, 10, 10)"
   ]
  },
  {
   "cell_type": "markdown",
   "metadata": {},
   "source": [
    "At a glance, these 10 topics appear to be interpretable and informative. Building the LDA model (50 iterations) with 10 topics should be a great starting point."
   ]
  },
  {
   "cell_type": "markdown",
   "metadata": {},
   "source": [
    "## Final Thoughts\n",
    "\n",
    "Although these grid search functions are computationally expensive (they're building 10-12 separate models each!), they are very helpful in providing a quick assessment of a scoring metric and basic topic description. "
   ]
  }
 ],
 "metadata": {
  "kernelspec": {
   "display_name": "Python 3",
   "language": "python",
   "name": "python3"
  },
  "language_info": {
   "codemirror_mode": {
    "name": "ipython",
    "version": 3
   },
   "file_extension": ".py",
   "mimetype": "text/x-python",
   "name": "python",
   "nbconvert_exporter": "python",
   "pygments_lexer": "ipython3",
   "version": "3.7.6"
  }
 },
 "nbformat": 4,
 "nbformat_minor": 4
}
