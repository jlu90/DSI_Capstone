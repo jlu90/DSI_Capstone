{
 "cells": [
  {
   "cell_type": "markdown",
   "metadata": {},
   "source": [
    "# Supplemental Models (K-Means Clustering)"
   ]
  },
  {
   "cell_type": "markdown",
   "metadata": {},
   "source": [
    "## Imports"
   ]
  },
  {
   "cell_type": "code",
   "execution_count": 1,
   "metadata": {},
   "outputs": [],
   "source": [
    "import pandas as pd\n",
    "import numpy as np\n",
    "import matplotlib.pyplot as plt\n",
    "import seaborn as sns\n",
    "import pickle\n",
    "\n",
    "# Spacy\n",
    "import spacy\n",
    "\n",
    "# Sklearn\n",
    "from sklearn.feature_extraction.text import TfidfVectorizer\n",
    "from sklearn.cluster import KMeans\n",
    "from sklearn.metrics import silhouette_score\n",
    "from sklearn.model_selection import train_test_split\n",
    "\n",
    "# NLTK\n",
    "from nltk.corpus import stopwords\n",
    "\n",
    "# Silence Future Warnings\n",
    "import warnings\n",
    "warnings.simplefilter(action='ignore', category=FutureWarning)"
   ]
  },
  {
   "cell_type": "code",
   "execution_count": 2,
   "metadata": {},
   "outputs": [],
   "source": [
    "blush = '#F7D1CD'\n",
    "medium_purple = '#B392AC'\n",
    "dark_purple = '#B392AC'\n",
    "warm_grey = '#8E9AAF'"
   ]
  },
  {
   "cell_type": "markdown",
   "metadata": {},
   "source": [
    "## Read-In Data"
   ]
  },
  {
   "cell_type": "code",
   "execution_count": 3,
   "metadata": {},
   "outputs": [
    {
     "name": "stdout",
     "output_type": "stream",
     "text": [
      "Health: (30616, 7)\n",
      "ObsGyn: (92943, 7)\n"
     ]
    }
   ],
   "source": [
    "health = pd.read_csv('../data/womens_health_preprocessed.csv', lineterminator='\\n')\n",
    "print(f'Health: {health.shape}')\n",
    "obsgyn = pd.read_csv('../data/fertility_and_pregnancy_preprocessed.csv')\n",
    "print(f'ObsGyn: {obsgyn.shape}')"
   ]
  },
  {
   "cell_type": "markdown",
   "metadata": {},
   "source": [
    "## Model Preparation"
   ]
  },
  {
   "cell_type": "markdown",
   "metadata": {},
   "source": [
    "### Create Document Term Matrix From Corpus\n",
    "\n",
    "In order to convert each document (post) in the corpus to a vector, I will use ***Sklearn***'s `TfidfVectorizer`. TF-IDF stands for Term Frequency-Inverse Document Frequency. Essentially, using this vectorizer, words that appear frequently in a document but also appear frequently in several documents throughout the corpus are not weighted as heavily as words that appear frequenly in a document but infrequently in the corpus. For an overview of TF-IDF, check out this [video](https://www.youtube.com/watch?v=4vT4fzjkGCQ). "
   ]
  },
  {
   "cell_type": "markdown",
   "metadata": {},
   "source": [
    "#### Define Stop Words\n",
    "\n",
    "In order to remove stop word with the `TfidfVectorizer`, I will load stop words from ***spaCy*** and ***NLTK***. These words, along with custom stop words, will be combined to form a set of stop words."
   ]
  },
  {
   "cell_type": "code",
   "execution_count": 4,
   "metadata": {},
   "outputs": [],
   "source": [
    "def add_stop_words(word_list, list_stop_words):\n",
    "    for word in word_list:\n",
    "        list_stop_words.add(word)\n",
    "        \n",
    "def remove_stop_words(word_list, list_stop_words):\n",
    "    for word in word_list:\n",
    "        list_stop_words.remove(word)"
   ]
  },
  {
   "cell_type": "code",
   "execution_count": 5,
   "metadata": {},
   "outputs": [],
   "source": [
    "# spaCy\n",
    "nlp = spacy.load('en_core_web_sm')\n",
    "stop_words_spacy = set(nlp.Defaults.stop_words)\n",
    "\n",
    "# nltk\n",
    "stop_words_nltk = set(stopwords.words('english'))\n",
    "\n",
    "# full list of stop words\n",
    "full_stop_words = stop_words_spacy.union(stop_words_nltk)\n",
    "\n",
    "words_to_add = ['like', 'know', 'want', 'feel', 'going', 'think', 'reddit', 'imgur', 'pron', 'officially', 'story', 'month', 'week', 'time', 'day', 'year', 'delete', 'saturday', 'sunday', 'monday', 'tuesday', 'wednesday', 'thursday', 'friday', 'subreddit']\n",
    "\n",
    "add_stop_words(words_to_add, full_stop_words)\n",
    "remove_stop_words(['not'], full_stop_words)"
   ]
  },
  {
   "cell_type": "markdown",
   "metadata": {},
   "source": [
    "\n",
    "#### Function"
   ]
  },
  {
   "cell_type": "code",
   "execution_count": 6,
   "metadata": {},
   "outputs": [],
   "source": [
    "def build_tvec(df, column, stop_words = full_stop_words):\n",
    "    tvec = TfidfVectorizer(max_df = 0.98, min_df = 0.005, ngram_range = (1,2), stop_words = stop_words)\n",
    "    dtm = tvec.fit_transform(df[column])\n",
    "    return tvec, dtm"
   ]
  },
  {
   "cell_type": "markdown",
   "metadata": {},
   "source": [
    "#### Create a Document-Term Matrix for Each Corpus"
   ]
  },
  {
   "cell_type": "code",
   "execution_count": 7,
   "metadata": {},
   "outputs": [],
   "source": [
    "health_vectorizer, health_dtm = build_tvec(health, 'lemma_text')\n",
    "obsgyn_vectorizer, obsgyn_dtm = build_tvec(obsgyn, 'lemma_text')"
   ]
  },
  {
   "cell_type": "markdown",
   "metadata": {},
   "source": [
    "### Create a List of Vocabulary Terms for Each Corpus\n",
    "In order to interpret the clusters that are identifed by the K-Means models, I will create a list of vocabulary words for each corpus."
   ]
  },
  {
   "cell_type": "code",
   "execution_count": 8,
   "metadata": {},
   "outputs": [],
   "source": [
    "health_terms = health_vectorizer.get_feature_names()\n",
    "obsgyn_terms = obsgyn_vectorizer.get_feature_names()"
   ]
  },
  {
   "cell_type": "markdown",
   "metadata": {},
   "source": [
    "Because the TF-IDF weighted document term matrix is already normalized, the data is now ready for modeling with K-Means Clustering."
   ]
  },
  {
   "cell_type": "markdown",
   "metadata": {},
   "source": [
    "## Document Clustering with K-Means Clustering"
   ]
  },
  {
   "cell_type": "markdown",
   "metadata": {},
   "source": [
    "### Functions"
   ]
  },
  {
   "cell_type": "code",
   "execution_count": 9,
   "metadata": {},
   "outputs": [],
   "source": [
    "def build_kmeans(dtm, k):\n",
    "    \n",
    "    # Build KMeans Model\n",
    "    kmeans = KMeans(n_clusters = k, random_state = 42, n_jobs = -1)\n",
    "    kmeans.fit(dtm)\n",
    "       \n",
    "    return kmeans"
   ]
  },
  {
   "cell_type": "code",
   "execution_count": 10,
   "metadata": {},
   "outputs": [],
   "source": [
    "def get_topic_terms_kmeans(model, k, terms, n_terms = 15):\n",
    "# Code modified from # https://pythonprogramminglanguage.com/kmeans-text-clustering/\n",
    "\n",
    "    sorted_centroids = model.cluster_centers_.argsort()[:, ::-1] # get indices of top centroids\n",
    "    \n",
    "    topic_dictionary = {}\n",
    "    \n",
    "    for i in range(k):\n",
    "        topics_list = []\n",
    "        for index in sorted_centroids[i, :n_terms]:\n",
    "                topics_list.append(terms[index]) # Add term to a topic list\n",
    "        topic_dictionary[i] = topics_list # Create dictionary with K as key and list of terms as value\n",
    "    \n",
    "    return topic_dictionary"
   ]
  },
  {
   "cell_type": "markdown",
   "metadata": {},
   "source": [
    "### Determining the Optimal Value for K\n",
    "When conducting K-Means clustering, one of the biggest challenges is determining the optimal number of clusters to use in the model. \n",
    "\n",
    "To help with this process, as shown below, I build a grid search function that built models with a range of topics and returned the models and silhouette score scores. The function is shown in the [Grid Searching to Determine the Number of Topics or Clusters]() notebook. The results of these searches yielded the following plots:\n",
    "\n",
    "<img src='../assets/health_silhouette.png'> \n",
    "\n",
    "<img src='../assets/obsgyn_silhouette.png'> \n",
    "\n",
    "To interpret the results of the grid search, I began by choosing to explore the model with the best silhouette score (score closest to 1). Using that model, I looked at the words identified to be the cluster centers. If the clusters were interpretable and made sense, that K was determined to be the optimal value. If the topics seemed unclear or random, I chose a value of K with the next highest silhouette score. I did this for several different models until I found the number of topics that resulted in highly interpretable topics. \n",
    "\n",
    "***For the General Women's Health corpus, the optimal number of clusters was determined to be 17, and for the Fertility and Pregnancy corpus, the optimal number of topics was determined to be 15. These models will be built below.***"
   ]
  },
  {
   "cell_type": "markdown",
   "metadata": {},
   "source": [
    "### General Women's Health Corpus"
   ]
  },
  {
   "cell_type": "markdown",
   "metadata": {},
   "source": [
    "#### Build K-Means Model with 17 Clusters"
   ]
  },
  {
   "cell_type": "code",
   "execution_count": 11,
   "metadata": {},
   "outputs": [],
   "source": [
    "health_kmeans = build_kmeans(health_dtm, 17)"
   ]
  },
  {
   "cell_type": "markdown",
   "metadata": {},
   "source": [
    "#### Determine Silhouette Score"
   ]
  },
  {
   "cell_type": "code",
   "execution_count": 23,
   "metadata": {},
   "outputs": [],
   "source": [
    "health_silhouette = silhouette_score(health_dtm, health_kmeans.labels_)"
   ]
  },
  {
   "cell_type": "code",
   "execution_count": 24,
   "metadata": {},
   "outputs": [
    {
     "data": {
      "text/plain": [
       "0.01992513437377436"
      ]
     },
     "execution_count": 24,
     "metadata": {},
     "output_type": "execute_result"
    }
   ],
   "source": [
    "health_silhouette"
   ]
  },
  {
   "cell_type": "markdown",
   "metadata": {},
   "source": [
    "In general, from the grid search, the silhouette scores for the K-Means Clusters with this text data were really low. The value close to 0 likely means that there is poor separation between the clusters. Even though adding additional clusters to the model could probably increase the silhouette score, because 17 clusters is already a large number of clusters, increasing the number of clusters would likely not improve interpretability."
   ]
  },
  {
   "cell_type": "markdown",
   "metadata": {},
   "source": [
    "### Fertility and Pregnancy Corpus"
   ]
  },
  {
   "cell_type": "markdown",
   "metadata": {},
   "source": [
    "#### Build K-Means Model with 15 Clusters"
   ]
  },
  {
   "cell_type": "code",
   "execution_count": 14,
   "metadata": {},
   "outputs": [],
   "source": [
    "obsgyn_kmeans = build_kmeans(obsgyn_dtm, 15)"
   ]
  },
  {
   "cell_type": "markdown",
   "metadata": {},
   "source": [
    "#### Determine Silhouette Score"
   ]
  },
  {
   "cell_type": "code",
   "execution_count": 15,
   "metadata": {},
   "outputs": [],
   "source": [
    "obsgyn_silhouette = silhouette_score(obsgyn_dtm, obsgyn_kmeans.labels_)"
   ]
  },
  {
   "cell_type": "code",
   "execution_count": 16,
   "metadata": {},
   "outputs": [
    {
     "data": {
      "text/plain": [
       "0.010550705706139408"
      ]
     },
     "execution_count": 16,
     "metadata": {},
     "output_type": "execute_result"
    }
   ],
   "source": [
    "obsgyn_silhouette"
   ]
  },
  {
   "cell_type": "markdown",
   "metadata": {},
   "source": [
    "The silhouette score for this K-Means model is also low and could indicate poor separation between the clusters. By increasing the number of clusters, the silhouette score would likely improve, but that would most likely decrease interpretability."
   ]
  },
  {
   "cell_type": "markdown",
   "metadata": {},
   "source": [
    "## Cluster Interpretation"
   ]
  },
  {
   "cell_type": "markdown",
   "metadata": {},
   "source": [
    "### Functions"
   ]
  },
  {
   "cell_type": "code",
   "execution_count": 17,
   "metadata": {},
   "outputs": [],
   "source": [
    "def plot_topics_in_corpus(df, column, color, title = None, x_label = None):\n",
    "    plt.figure(figsize = (15, 8))\n",
    "    round(df[column].value_counts(normalize = True) * 100, 2).sort_values(ascending = True).plot.barh(color = color, ec = 'k', width = 0.75);\n",
    "    plt.title(title, fontdict = {'fontsize': 20}, pad = 18)\n",
    "    plt.xlabel(x_label, fontdict = {'fontsize': 15}, labelpad = 10)\n",
    "    plt.xticks(size = 12)\n",
    "    plt.yticks(size = 12)\n",
    "    plt.tight_layout();"
   ]
  },
  {
   "cell_type": "markdown",
   "metadata": {},
   "source": [
    "### General Women's Health Corpus"
   ]
  },
  {
   "cell_type": "markdown",
   "metadata": {},
   "source": [
    "#### Get Words Associated with Cluster Centers"
   ]
  },
  {
   "cell_type": "code",
   "execution_count": 18,
   "metadata": {},
   "outputs": [],
   "source": [
    "health_kmeans_topics = get_topic_terms_kmeans(health_kmeans, 17, health_terms, n_terms = 15)"
   ]
  },
  {
   "cell_type": "markdown",
   "metadata": {},
   "source": [
    "#### Describe Clusters"
   ]
  },
  {
   "cell_type": "markdown",
   "metadata": {},
   "source": [
    "<h4 align = center> Clusters Related to Health Concerns </h4>\n",
    "\n",
    "|Cluster Number| Name| Top 5 Terms\n",
    "|:-:|:-:|:-:|\n",
    "|0| Intrauterine Devices (IUDs)|IUD, period, copper, copper IUD, Mirena|\n",
    "|1|Late Periods/ Pregnancy|period, late, test, pregnancy, pregnant|\n",
    "|2|Infections (Yeast and Bacterial Vaginosis)|yeast, infection, yeast infection, discharge, BV|\n",
    "|4|Vaginal Symptoms|smell, discharge, vagina, odor, shower|\n",
    "|5|Periods and Bleeding|bleed, period, blood, bleeding, brown|\n",
    "|7|Gynecological Exams|pap, smear, pap smear, hpv, abnormal|\n",
    "|9|Ovarian Cysts|cyst, ovarian, ovarian cyst, pain, ovary|\n",
    "|10|Birth Control| bc, birth, birth control, bleed, control|\n",
    "|12| Breast Health| breast, bra, boob, nipple, lump|\n",
    "|13|Infections (Urinary Tract Infection)|sex, uti, vagina, pee, doctor|\n",
    "|14| Period Pain| pain, period, cramp, doctor, bad|\n",
    "|15|Birth Control Pills| birth, birth control, control, control pill, doctor|\n",
    "\n",
    "<h4 align = center> Clusters Not Related to Health Concerns </h4>\n",
    "\n",
    "|Cluster Number| Name| Top 5 Terms|\n",
    "|:-:|:-:|:-:|\n",
    "|3|Hair and Depilation| hair, shave, grow, look, dye|\n",
    "|6|Life and Relationships| guy, work, people, job, thing|\n",
    "|8| Unknown| help, look, try, good, woman|\n",
    "|11| Friendship| friend, good friend, talk, people, guy|\n",
    "|16| Clothing and Appearance| wear, dress, look, jean, makeup|"
   ]
  },
  {
   "cell_type": "markdown",
   "metadata": {},
   "source": [
    "The description of clusters and the top five words to describe the cluster are shown in the table above."
   ]
  },
  {
   "cell_type": "markdown",
   "metadata": {},
   "source": [
    "#### Visualize Cluster Composition of Corpus"
   ]
  },
  {
   "cell_type": "code",
   "execution_count": 19,
   "metadata": {},
   "outputs": [],
   "source": [
    "health['kmeans_cluster'] = health_kmeans.labels_"
   ]
  },
  {
   "cell_type": "code",
   "execution_count": 44,
   "metadata": {},
   "outputs": [],
   "source": [
    "# Rename Clusters\n",
    "\n",
    "health['kmeans_cluster'] = health['kmeans_cluster'].map({\n",
    "    0 : 'Intrauterine Devices (IUDs)',\n",
    "    1 : 'Late Periods/ Pregnancy',\n",
    "    2 : 'Infections (Yeast and Bacterial Vaginosis)',\n",
    "    3 : 'Hair and Depilation',\n",
    "    4 : 'Vaginal Symptoms',\n",
    "    5 : 'Periods and Bleeding',\n",
    "    6 : 'Life and Relationships',\n",
    "    7 : 'Gynecological Exams',\n",
    "    8 : 'Unknown',\n",
    "    9 : 'Ovarian Cysts',\n",
    "    10 : 'Birth Control',\n",
    "    11 : 'Friendship',\n",
    "    12 : 'Breast Health',\n",
    "    13 : 'Infections (Urinary Tract Infection)',\n",
    "    14 : 'Period Pain',\n",
    "    15 : 'Birth Control Pills',\n",
    "    16 : 'Clothing and Appearance'\n",
    "})"
   ]
  },
  {
   "cell_type": "code",
   "execution_count": 47,
   "metadata": {},
   "outputs": [
    {
     "data": {
      "image/png": "[encoded data removed]",
      "text/plain": [
       "<Figure size 1080x576 with 1 Axes>"
      ]
     },
     "metadata": {
      "needs_background": "light"
     },
     "output_type": "display_data"
    }
   ],
   "source": [
    "plot_topics_in_corpus(health, \n",
    "                      'kmeans_cluster', \n",
    "                       blush, \n",
    "                       title = \"Percentage of Posts in Women\\'s Health Corpus by Cluster\",\n",
    "                       x_label = 'Percentage of Posts Belonging to Cluster')"
   ]
  },
  {
   "cell_type": "markdown",
   "metadata": {},
   "source": [
    "This figure illustrates that the K-Means Clustering algorithm was not effective at classifiying ~30% of documents (posts) in the corpus. The majority of posts belong to the a category that seemed to have very random terms and was difficult to interpret. "
   ]
  },
  {
   "cell_type": "markdown",
   "metadata": {},
   "source": [
    "### Fertility and Pregnancy Corpus"
   ]
  },
  {
   "cell_type": "markdown",
   "metadata": {},
   "source": [
    "#### Get Words Associated with Cluster Centers"
   ]
  },
  {
   "cell_type": "code",
   "execution_count": 20,
   "metadata": {},
   "outputs": [],
   "source": [
    "obsgyn_kmeans_topics = get_topic_terms_kmeans(obsgyn_kmeans, 15, obsgyn_terms)"
   ]
  },
  {
   "cell_type": "markdown",
   "metadata": {},
   "source": [
    "#### Describe Clusters\n",
    "\n",
    "<h4 align = center> Clusters Related to Health Concerns </h4>\n",
    "\n",
    "|Cluster Number| Name| Top 5 Terms|\n",
    "|:-:|:-:|:-:|\n",
    "|0|Labor|contraction, labor, hour, CM (centimeters), epidural|\n",
    "|1|Obstetrics Appointments| ultrasound, doctor, appointment, scan, blood|\n",
    "|3| Pregnancy Status| pregnant, pregnancy, find, try, find pregnant|\n",
    "|4| Fetal Movement and Development| baby, kick, thing, need, love|\n",
    "|7| Weight and Nausea| eat, food, weight, gain, sickness|\n",
    "|8| Symptoms of Pregnancy|pregnancy, symptom, pregnant, experience, early|\n",
    "|10| Sleep| sleep, night, wake, hour, bed|\n",
    "|11| Period and Pregnancy| period, test, start, late, pregnant|\n",
    "|12| Ovulation| cycle, CD (cycle day), OPK (ovulation predictor kit), ovulation, ovulate|\n",
    "|13| Pregnancy Tests| test, positive, pregnancy test, negative, pregnancy|\n",
    "|14| Pain| pain, bad, hurt, experience, low|\n",
    "\n",
    "<h4 align = center> Clusters Not Related to Health Concerns </h4>\n",
    "\n",
    "|Cluster Number| Name| Top 5 Terms\n",
    "|:-:|:-:|:-:|\n",
    "|2| Gender Reveal| boy, girl, gender, baby, find|\n",
    "|5| Pregnancy Announcement| work, tell, husband, family, baby|\n",
    "|6| Baby Shower| shower, baby shower, baby, gift, friend|\n",
    "|9| Unknown| try, help, look, start, birth|\n",
    "\n"
   ]
  },
  {
   "cell_type": "markdown",
   "metadata": {},
   "source": [
    "#### Visualize Cluster Composition of Corpus"
   ]
  },
  {
   "cell_type": "code",
   "execution_count": 22,
   "metadata": {},
   "outputs": [],
   "source": [
    "obsgyn['kmeans_cluster'] = obsgyn_kmeans.labels_"
   ]
  },
  {
   "cell_type": "code",
   "execution_count": 63,
   "metadata": {},
   "outputs": [],
   "source": [
    "obsgyn['kmeans_cluster'] = obsgyn['kmeans_cluster'].map({\n",
    "    0 : 'Labor',\n",
    "    1 : 'Obstetrics Appointments',\n",
    "    2 : 'Gender Reveal',\n",
    "    3 : 'Pregnancy Status',\n",
    "    4 : 'Fetal Movement and Development',\n",
    "    5 : 'Pregnancy Announcement',\n",
    "    6 : 'Baby Shower',\n",
    "    7 : 'Weight and Nausea',\n",
    "    8 : 'Symptoms of Pregnancy',\n",
    "    9 : 'Unknown',\n",
    "    10 : 'Sleep',\n",
    "    11 : 'Period and Pregnancy',\n",
    "    12 : 'Ovulation',\n",
    "    13 : 'Pregnancy Tests',\n",
    "    14 : 'Pain'\n",
    "})"
   ]
  },
  {
   "cell_type": "code",
   "execution_count": 64,
   "metadata": {},
   "outputs": [
    {
     "data": {
      "image/png": "[encoded data removed]",
      "text/plain": [
       "<Figure size 1080x576 with 1 Axes>"
      ]
     },
     "metadata": {
      "needs_background": "light"
     },
     "output_type": "display_data"
    }
   ],
   "source": [
    "plot_topics_in_corpus(obsgyn, \n",
    "                      'kmeans_cluster', \n",
    "                       dark_purple, \n",
    "                       title = \"Percentage of Posts in Fertility and Pregnancy Corpus by Cluster\",\n",
    "                       x_label = 'Percentage of Posts Belonging to Cluster')"
   ]
  },
  {
   "cell_type": "markdown",
   "metadata": {},
   "source": [
    "## Conclusions"
   ]
  },
  {
   "cell_type": "code",
   "execution_count": null,
   "metadata": {},
   "outputs": [],
   "source": []
  }
 ],
 "metadata": {
  "kernelspec": {
   "display_name": "Python 3",
   "language": "python",
   "name": "python3"
  },
  "language_info": {
   "codemirror_mode": {
    "name": "ipython",
    "version": 3
   },
   "file_extension": ".py",
   "mimetype": "text/x-python",
   "name": "python",
   "nbconvert_exporter": "python",
   "pygments_lexer": "ipython3",
   "version": "3.7.6"
  }
 },
 "nbformat": 4,
 "nbformat_minor": 4
}
